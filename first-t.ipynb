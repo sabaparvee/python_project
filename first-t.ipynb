{
 "cells": [
  {
   "cell_type": "markdown",
   "id": "b34e78de",
   "metadata": {
    "papermill": {
     "duration": 0.034845,
     "end_time": "2022-08-18T18:46:37.161633",
     "exception": false,
     "start_time": "2022-08-18T18:46:37.126788",
     "status": "completed"
    },
    "tags": []
   },
   "source": [
    "### Detailed and Full Solution (Step by Step)\n",
    "Hello kagglers ..\n",
    "\n",
    "This notebook designed to be as detailed as possible solution for the Houses pricing problem, I tried to make it typical, clear, tidy and beginner-friendly.\n",
    "\n",
    "If you find this notebook useful press the UPVOTE button, This helps me a lot ^-^.\n",
    "I hope you find it helpful.\n"
   ]
  },
  {
   "cell_type": "code",
   "execution_count": 1,
   "id": "542a6cc9",
   "metadata": {
    "execution": {
     "iopub.execute_input": "2022-08-18T18:46:37.231268Z",
     "iopub.status.busy": "2022-08-18T18:46:37.230703Z",
     "iopub.status.idle": "2022-08-18T18:46:38.578756Z",
     "shell.execute_reply": "2022-08-18T18:46:38.577367Z"
    },
    "papermill": {
     "duration": 1.386404,
     "end_time": "2022-08-18T18:46:38.582102",
     "exception": false,
     "start_time": "2022-08-18T18:46:37.195698",
     "status": "completed"
    },
    "tags": []
   },
   "outputs": [],
   "source": [
    "import numpy as np\n",
    "import pandas as pd\n",
    "import matplotlib.pyplot as plt\n",
    "import seaborn as sns\n",
    "from scipy.stats import norm\n",
    "from scipy import stats\n",
    "import math \n",
    "import warnings\n",
    "warnings.filterwarnings(\"ignore\")"
   ]
  },
  {
   "cell_type": "code",
   "execution_count": 2,
   "id": "49a24592",
   "metadata": {
    "execution": {
     "iopub.execute_input": "2022-08-18T18:46:38.651163Z",
     "iopub.status.busy": "2022-08-18T18:46:38.650618Z",
     "iopub.status.idle": "2022-08-18T18:46:38.702437Z",
     "shell.execute_reply": "2022-08-18T18:46:38.701312Z"
    },
    "papermill": {
     "duration": 0.089188,
     "end_time": "2022-08-18T18:46:38.705218",
     "exception": false,
     "start_time": "2022-08-18T18:46:38.616030",
     "status": "completed"
    },
    "tags": []
   },
   "outputs": [],
   "source": [
    "train=pd.read_csv('/kaggle/input/house-prices-advanced-regression-techniques/train.csv')"
   ]
  },
  {
   "cell_type": "code",
   "execution_count": 3,
   "id": "37cbd68e",
   "metadata": {
    "execution": {
     "iopub.execute_input": "2022-08-18T18:46:38.773477Z",
     "iopub.status.busy": "2022-08-18T18:46:38.772970Z",
     "iopub.status.idle": "2022-08-18T18:46:38.832104Z",
     "shell.execute_reply": "2022-08-18T18:46:38.831130Z"
    },
    "papermill": {
     "duration": 0.096723,
     "end_time": "2022-08-18T18:46:38.835305",
     "exception": false,
     "start_time": "2022-08-18T18:46:38.738582",
     "status": "completed"
    },
    "tags": []
   },
   "outputs": [],
   "source": [
    "test=pd.read_csv('/kaggle/input/house-prices-advanced-regression-techniques/test.csv')"
   ]
  },
  {
   "cell_type": "code",
   "execution_count": 4,
   "id": "ce6d86a9",
   "metadata": {
    "execution": {
     "iopub.execute_input": "2022-08-18T18:46:38.919278Z",
     "iopub.status.busy": "2022-08-18T18:46:38.917888Z",
     "iopub.status.idle": "2022-08-18T18:46:38.929192Z",
     "shell.execute_reply": "2022-08-18T18:46:38.928110Z"
    },
    "papermill": {
     "duration": 0.055037,
     "end_time": "2022-08-18T18:46:38.932146",
     "exception": false,
     "start_time": "2022-08-18T18:46:38.877109",
     "status": "completed"
    },
    "tags": []
   },
   "outputs": [],
   "source": [
    "testId=test['Id']"
   ]
  },
  {
   "cell_type": "markdown",
   "id": "74bdb988",
   "metadata": {
    "papermill": {
     "duration": 0.033823,
     "end_time": "2022-08-18T18:46:39.001308",
     "exception": false,
     "start_time": "2022-08-18T18:46:38.967485",
     "status": "completed"
    },
    "tags": []
   },
   "source": [
    "### Removing the Id\n",
    "\n",
    "We already have an index, so we don't need the Id unique identifier for the regression we will perform later on."
   ]
  },
  {
   "cell_type": "code",
   "execution_count": 5,
   "id": "42838d75",
   "metadata": {
    "execution": {
     "iopub.execute_input": "2022-08-18T18:46:39.078949Z",
     "iopub.status.busy": "2022-08-18T18:46:39.078116Z",
     "iopub.status.idle": "2022-08-18T18:46:39.092738Z",
     "shell.execute_reply": "2022-08-18T18:46:39.091708Z"
    },
    "papermill": {
     "duration": 0.052594,
     "end_time": "2022-08-18T18:46:39.095475",
     "exception": false,
     "start_time": "2022-08-18T18:46:39.042881",
     "status": "completed"
    },
    "tags": []
   },
   "outputs": [],
   "source": [
    "train.drop('Id',axis=1,inplace=True)"
   ]
  },
  {
   "cell_type": "code",
   "execution_count": 6,
   "id": "6a7d27dc",
   "metadata": {
    "execution": {
     "iopub.execute_input": "2022-08-18T18:46:39.172988Z",
     "iopub.status.busy": "2022-08-18T18:46:39.172123Z",
     "iopub.status.idle": "2022-08-18T18:46:39.181368Z",
     "shell.execute_reply": "2022-08-18T18:46:39.179933Z"
    },
    "papermill": {
     "duration": 0.052511,
     "end_time": "2022-08-18T18:46:39.184239",
     "exception": false,
     "start_time": "2022-08-18T18:46:39.131728",
     "status": "completed"
    },
    "tags": []
   },
   "outputs": [],
   "source": [
    "test.drop('Id',axis=1,inplace=True)"
   ]
  },
  {
   "cell_type": "code",
   "execution_count": 7,
   "id": "8c0ab209",
   "metadata": {
    "execution": {
     "iopub.execute_input": "2022-08-18T18:46:39.255196Z",
     "iopub.status.busy": "2022-08-18T18:46:39.254202Z",
     "iopub.status.idle": "2022-08-18T18:46:39.282319Z",
     "shell.execute_reply": "2022-08-18T18:46:39.280955Z"
    },
    "papermill": {
     "duration": 0.066749,
     "end_time": "2022-08-18T18:46:39.285646",
     "exception": false,
     "start_time": "2022-08-18T18:46:39.218897",
     "status": "completed"
    },
    "tags": []
   },
   "outputs": [
    {
     "name": "stdout",
     "output_type": "stream",
     "text": [
      "<class 'pandas.core.frame.DataFrame'>\n",
      "RangeIndex: 1459 entries, 0 to 1458\n",
      "Data columns (total 79 columns):\n",
      " #   Column         Non-Null Count  Dtype  \n",
      "---  ------         --------------  -----  \n",
      " 0   MSSubClass     1459 non-null   int64  \n",
      " 1   MSZoning       1455 non-null   object \n",
      " 2   LotFrontage    1232 non-null   float64\n",
      " 3   LotArea        1459 non-null   int64  \n",
      " 4   Street         1459 non-null   object \n",
      " 5   Alley          107 non-null    object \n",
      " 6   LotShape       1459 non-null   object \n",
      " 7   LandContour    1459 non-null   object \n",
      " 8   Utilities      1457 non-null   object \n",
      " 9   LotConfig      1459 non-null   object \n",
      " 10  LandSlope      1459 non-null   object \n",
      " 11  Neighborhood   1459 non-null   object \n",
      " 12  Condition1     1459 non-null   object \n",
      " 13  Condition2     1459 non-null   object \n",
      " 14  BldgType       1459 non-null   object \n",
      " 15  HouseStyle     1459 non-null   object \n",
      " 16  OverallQual    1459 non-null   int64  \n",
      " 17  OverallCond    1459 non-null   int64  \n",
      " 18  YearBuilt      1459 non-null   int64  \n",
      " 19  YearRemodAdd   1459 non-null   int64  \n",
      " 20  RoofStyle      1459 non-null   object \n",
      " 21  RoofMatl       1459 non-null   object \n",
      " 22  Exterior1st    1458 non-null   object \n",
      " 23  Exterior2nd    1458 non-null   object \n",
      " 24  MasVnrType     1443 non-null   object \n",
      " 25  MasVnrArea     1444 non-null   float64\n",
      " 26  ExterQual      1459 non-null   object \n",
      " 27  ExterCond      1459 non-null   object \n",
      " 28  Foundation     1459 non-null   object \n",
      " 29  BsmtQual       1415 non-null   object \n",
      " 30  BsmtCond       1414 non-null   object \n",
      " 31  BsmtExposure   1415 non-null   object \n",
      " 32  BsmtFinType1   1417 non-null   object \n",
      " 33  BsmtFinSF1     1458 non-null   float64\n",
      " 34  BsmtFinType2   1417 non-null   object \n",
      " 35  BsmtFinSF2     1458 non-null   float64\n",
      " 36  BsmtUnfSF      1458 non-null   float64\n",
      " 37  TotalBsmtSF    1458 non-null   float64\n",
      " 38  Heating        1459 non-null   object \n",
      " 39  HeatingQC      1459 non-null   object \n",
      " 40  CentralAir     1459 non-null   object \n",
      " 41  Electrical     1459 non-null   object \n",
      " 42  1stFlrSF       1459 non-null   int64  \n",
      " 43  2ndFlrSF       1459 non-null   int64  \n",
      " 44  LowQualFinSF   1459 non-null   int64  \n",
      " 45  GrLivArea      1459 non-null   int64  \n",
      " 46  BsmtFullBath   1457 non-null   float64\n",
      " 47  BsmtHalfBath   1457 non-null   float64\n",
      " 48  FullBath       1459 non-null   int64  \n",
      " 49  HalfBath       1459 non-null   int64  \n",
      " 50  BedroomAbvGr   1459 non-null   int64  \n",
      " 51  KitchenAbvGr   1459 non-null   int64  \n",
      " 52  KitchenQual    1458 non-null   object \n",
      " 53  TotRmsAbvGrd   1459 non-null   int64  \n",
      " 54  Functional     1457 non-null   object \n",
      " 55  Fireplaces     1459 non-null   int64  \n",
      " 56  FireplaceQu    729 non-null    object \n",
      " 57  GarageType     1383 non-null   object \n",
      " 58  GarageYrBlt    1381 non-null   float64\n",
      " 59  GarageFinish   1381 non-null   object \n",
      " 60  GarageCars     1458 non-null   float64\n",
      " 61  GarageArea     1458 non-null   float64\n",
      " 62  GarageQual     1381 non-null   object \n",
      " 63  GarageCond     1381 non-null   object \n",
      " 64  PavedDrive     1459 non-null   object \n",
      " 65  WoodDeckSF     1459 non-null   int64  \n",
      " 66  OpenPorchSF    1459 non-null   int64  \n",
      " 67  EnclosedPorch  1459 non-null   int64  \n",
      " 68  3SsnPorch      1459 non-null   int64  \n",
      " 69  ScreenPorch    1459 non-null   int64  \n",
      " 70  PoolArea       1459 non-null   int64  \n",
      " 71  PoolQC         3 non-null      object \n",
      " 72  Fence          290 non-null    object \n",
      " 73  MiscFeature    51 non-null     object \n",
      " 74  MiscVal        1459 non-null   int64  \n",
      " 75  MoSold         1459 non-null   int64  \n",
      " 76  YrSold         1459 non-null   int64  \n",
      " 77  SaleType       1458 non-null   object \n",
      " 78  SaleCondition  1459 non-null   object \n",
      "dtypes: float64(11), int64(25), object(43)\n",
      "memory usage: 900.6+ KB\n"
     ]
    }
   ],
   "source": [
    "test.info()"
   ]
  },
  {
   "cell_type": "code",
   "execution_count": 8,
   "id": "e283dd9f",
   "metadata": {
    "execution": {
     "iopub.execute_input": "2022-08-18T18:46:39.356279Z",
     "iopub.status.busy": "2022-08-18T18:46:39.355341Z",
     "iopub.status.idle": "2022-08-18T18:46:39.378924Z",
     "shell.execute_reply": "2022-08-18T18:46:39.377116Z"
    },
    "papermill": {
     "duration": 0.062767,
     "end_time": "2022-08-18T18:46:39.382344",
     "exception": false,
     "start_time": "2022-08-18T18:46:39.319577",
     "status": "completed"
    },
    "tags": []
   },
   "outputs": [
    {
     "name": "stdout",
     "output_type": "stream",
     "text": [
      "<class 'pandas.core.frame.DataFrame'>\n",
      "RangeIndex: 1460 entries, 0 to 1459\n",
      "Data columns (total 80 columns):\n",
      " #   Column         Non-Null Count  Dtype  \n",
      "---  ------         --------------  -----  \n",
      " 0   MSSubClass     1460 non-null   int64  \n",
      " 1   MSZoning       1460 non-null   object \n",
      " 2   LotFrontage    1201 non-null   float64\n",
      " 3   LotArea        1460 non-null   int64  \n",
      " 4   Street         1460 non-null   object \n",
      " 5   Alley          91 non-null     object \n",
      " 6   LotShape       1460 non-null   object \n",
      " 7   LandContour    1460 non-null   object \n",
      " 8   Utilities      1460 non-null   object \n",
      " 9   LotConfig      1460 non-null   object \n",
      " 10  LandSlope      1460 non-null   object \n",
      " 11  Neighborhood   1460 non-null   object \n",
      " 12  Condition1     1460 non-null   object \n",
      " 13  Condition2     1460 non-null   object \n",
      " 14  BldgType       1460 non-null   object \n",
      " 15  HouseStyle     1460 non-null   object \n",
      " 16  OverallQual    1460 non-null   int64  \n",
      " 17  OverallCond    1460 non-null   int64  \n",
      " 18  YearBuilt      1460 non-null   int64  \n",
      " 19  YearRemodAdd   1460 non-null   int64  \n",
      " 20  RoofStyle      1460 non-null   object \n",
      " 21  RoofMatl       1460 non-null   object \n",
      " 22  Exterior1st    1460 non-null   object \n",
      " 23  Exterior2nd    1460 non-null   object \n",
      " 24  MasVnrType     1452 non-null   object \n",
      " 25  MasVnrArea     1452 non-null   float64\n",
      " 26  ExterQual      1460 non-null   object \n",
      " 27  ExterCond      1460 non-null   object \n",
      " 28  Foundation     1460 non-null   object \n",
      " 29  BsmtQual       1423 non-null   object \n",
      " 30  BsmtCond       1423 non-null   object \n",
      " 31  BsmtExposure   1422 non-null   object \n",
      " 32  BsmtFinType1   1423 non-null   object \n",
      " 33  BsmtFinSF1     1460 non-null   int64  \n",
      " 34  BsmtFinType2   1422 non-null   object \n",
      " 35  BsmtFinSF2     1460 non-null   int64  \n",
      " 36  BsmtUnfSF      1460 non-null   int64  \n",
      " 37  TotalBsmtSF    1460 non-null   int64  \n",
      " 38  Heating        1460 non-null   object \n",
      " 39  HeatingQC      1460 non-null   object \n",
      " 40  CentralAir     1460 non-null   object \n",
      " 41  Electrical     1459 non-null   object \n",
      " 42  1stFlrSF       1460 non-null   int64  \n",
      " 43  2ndFlrSF       1460 non-null   int64  \n",
      " 44  LowQualFinSF   1460 non-null   int64  \n",
      " 45  GrLivArea      1460 non-null   int64  \n",
      " 46  BsmtFullBath   1460 non-null   int64  \n",
      " 47  BsmtHalfBath   1460 non-null   int64  \n",
      " 48  FullBath       1460 non-null   int64  \n",
      " 49  HalfBath       1460 non-null   int64  \n",
      " 50  BedroomAbvGr   1460 non-null   int64  \n",
      " 51  KitchenAbvGr   1460 non-null   int64  \n",
      " 52  KitchenQual    1460 non-null   object \n",
      " 53  TotRmsAbvGrd   1460 non-null   int64  \n",
      " 54  Functional     1460 non-null   object \n",
      " 55  Fireplaces     1460 non-null   int64  \n",
      " 56  FireplaceQu    770 non-null    object \n",
      " 57  GarageType     1379 non-null   object \n",
      " 58  GarageYrBlt    1379 non-null   float64\n",
      " 59  GarageFinish   1379 non-null   object \n",
      " 60  GarageCars     1460 non-null   int64  \n",
      " 61  GarageArea     1460 non-null   int64  \n",
      " 62  GarageQual     1379 non-null   object \n",
      " 63  GarageCond     1379 non-null   object \n",
      " 64  PavedDrive     1460 non-null   object \n",
      " 65  WoodDeckSF     1460 non-null   int64  \n",
      " 66  OpenPorchSF    1460 non-null   int64  \n",
      " 67  EnclosedPorch  1460 non-null   int64  \n",
      " 68  3SsnPorch      1460 non-null   int64  \n",
      " 69  ScreenPorch    1460 non-null   int64  \n",
      " 70  PoolArea       1460 non-null   int64  \n",
      " 71  PoolQC         7 non-null      object \n",
      " 72  Fence          281 non-null    object \n",
      " 73  MiscFeature    54 non-null     object \n",
      " 74  MiscVal        1460 non-null   int64  \n",
      " 75  MoSold         1460 non-null   int64  \n",
      " 76  YrSold         1460 non-null   int64  \n",
      " 77  SaleType       1460 non-null   object \n",
      " 78  SaleCondition  1460 non-null   object \n",
      " 79  SalePrice      1460 non-null   int64  \n",
      "dtypes: float64(3), int64(34), object(43)\n",
      "memory usage: 912.6+ KB\n"
     ]
    }
   ],
   "source": [
    "train.info()"
   ]
  },
  {
   "cell_type": "code",
   "execution_count": 9,
   "id": "05a052dd",
   "metadata": {
    "execution": {
     "iopub.execute_input": "2022-08-18T18:46:39.453640Z",
     "iopub.status.busy": "2022-08-18T18:46:39.453125Z",
     "iopub.status.idle": "2022-08-18T18:46:39.473198Z",
     "shell.execute_reply": "2022-08-18T18:46:39.471782Z"
    },
    "papermill": {
     "duration": 0.058872,
     "end_time": "2022-08-18T18:46:39.475845",
     "exception": false,
     "start_time": "2022-08-18T18:46:39.416973",
     "status": "completed"
    },
    "tags": []
   },
   "outputs": [
    {
     "data": {
      "text/plain": [
       "count      1460.000000\n",
       "mean     180921.195890\n",
       "std       79442.502883\n",
       "min       34900.000000\n",
       "25%      129975.000000\n",
       "50%      163000.000000\n",
       "75%      214000.000000\n",
       "max      755000.000000\n",
       "Name: SalePrice, dtype: float64"
      ]
     },
     "execution_count": 9,
     "metadata": {},
     "output_type": "execute_result"
    }
   ],
   "source": [
    "train['SalePrice'].describe()"
   ]
  },
  {
   "cell_type": "code",
   "execution_count": 10,
   "id": "7a778c28",
   "metadata": {
    "execution": {
     "iopub.execute_input": "2022-08-18T18:46:39.548229Z",
     "iopub.status.busy": "2022-08-18T18:46:39.547248Z",
     "iopub.status.idle": "2022-08-18T18:46:39.961925Z",
     "shell.execute_reply": "2022-08-18T18:46:39.960378Z"
    },
    "papermill": {
     "duration": 0.453684,
     "end_time": "2022-08-18T18:46:39.965101",
     "exception": false,
     "start_time": "2022-08-18T18:46:39.511417",
     "status": "completed"
    },
    "tags": []
   },
   "outputs": [
    {
     "data": {
      "image/png": "[encoded data removed]",
      "text/plain": [
       "<Figure size 720x432 with 1 Axes>"
      ]
     },
     "metadata": {
      "needs_background": "light"
     },
     "output_type": "display_data"
    }
   ],
   "source": [
    "plt.figure(figsize= (10 , 6))\n",
    "g = sns.histplot(train.SalePrice , kde = True)\n"
   ]
  },
  {
   "cell_type": "markdown",
   "id": "3972e1fa",
   "metadata": {
    "papermill": {
     "duration": 0.037064,
     "end_time": "2022-08-18T18:46:40.041996",
     "exception": false,
     "start_time": "2022-08-18T18:46:40.004932",
     "status": "completed"
    },
    "tags": []
   },
   "source": [
    "The skewness is a measure of symmetry or asymmetry of data distribution, and kurtosis measures whether data is heavy-tailed or light-tailed in a normal distribution. Data can be positive-skewed (data-pushed towards the right side) or negative-skewed (data-pushed towards the left side)."
   ]
  },
  {
   "cell_type": "code",
   "execution_count": 11,
   "id": "9acc4e5f",
   "metadata": {
    "execution": {
     "iopub.execute_input": "2022-08-18T18:46:40.118271Z",
     "iopub.status.busy": "2022-08-18T18:46:40.117133Z",
     "iopub.status.idle": "2022-08-18T18:46:40.126639Z",
     "shell.execute_reply": "2022-08-18T18:46:40.125078Z"
    },
    "papermill": {
     "duration": 0.051336,
     "end_time": "2022-08-18T18:46:40.130167",
     "exception": false,
     "start_time": "2022-08-18T18:46:40.078831",
     "status": "completed"
    },
    "tags": []
   },
   "outputs": [
    {
     "name": "stdout",
     "output_type": "stream",
     "text": [
      "SalePrice Skewness is =  1.8828757597682129\n",
      "Kurtosis: 6.536282\n"
     ]
    }
   ],
   "source": [
    "print('SalePrice Skewness is = ' , train.SalePrice.skew())\n",
    "print(\"Kurtosis: %f\" % train['SalePrice'].kurt())"
   ]
  },
  {
   "cell_type": "code",
   "execution_count": 12,
   "id": "a82eefe4",
   "metadata": {
    "execution": {
     "iopub.execute_input": "2022-08-18T18:46:40.205847Z",
     "iopub.status.busy": "2022-08-18T18:46:40.204548Z",
     "iopub.status.idle": "2022-08-18T18:46:41.233097Z",
     "shell.execute_reply": "2022-08-18T18:46:41.231580Z"
    },
    "papermill": {
     "duration": 1.069905,
     "end_time": "2022-08-18T18:46:41.235991",
     "exception": false,
     "start_time": "2022-08-18T18:46:40.166086",
     "status": "completed"
    },
    "tags": []
   },
   "outputs": [
    {
     "data": {
      "text/plain": [
       "<AxesSubplot:>"
      ]
     },
     "execution_count": 12,
     "metadata": {},
     "output_type": "execute_result"
    },
    {
     "data": {
      "image/png": "[encoded data removed]",
      "text/plain": [
       "<Figure size 1080x1080 with 2 Axes>"
      ]
     },
     "metadata": {
      "needs_background": "light"
     },
     "output_type": "display_data"
    }
   ],
   "source": [
    "plt.figure(figsize= (15 , 15))\n",
    "sns.heatmap(train.corr(),cmap='autumn')"
   ]
  },
  {
   "cell_type": "code",
   "execution_count": 13,
   "id": "67c4625f",
   "metadata": {
    "execution": {
     "iopub.execute_input": "2022-08-18T18:46:41.311012Z",
     "iopub.status.busy": "2022-08-18T18:46:41.309914Z",
     "iopub.status.idle": "2022-08-18T18:46:41.343579Z",
     "shell.execute_reply": "2022-08-18T18:46:41.341958Z"
    },
    "papermill": {
     "duration": 0.07542,
     "end_time": "2022-08-18T18:46:41.346808",
     "exception": false,
     "start_time": "2022-08-18T18:46:41.271388",
     "status": "completed"
    },
    "tags": []
   },
   "outputs": [],
   "source": [
    "all_data=pd.concat([train,test]).reset_index(drop=True)"
   ]
  },
  {
   "cell_type": "code",
   "execution_count": 14,
   "id": "c04d762d",
   "metadata": {
    "execution": {
     "iopub.execute_input": "2022-08-18T18:46:41.427236Z",
     "iopub.status.busy": "2022-08-18T18:46:41.425808Z",
     "iopub.status.idle": "2022-08-18T18:46:41.432755Z",
     "shell.execute_reply": "2022-08-18T18:46:41.431299Z"
    },
    "papermill": {
     "duration": 0.050453,
     "end_time": "2022-08-18T18:46:41.435602",
     "exception": false,
     "start_time": "2022-08-18T18:46:41.385149",
     "status": "completed"
    },
    "tags": []
   },
   "outputs": [],
   "source": [
    "SalePrice=train['SalePrice']"
   ]
  },
  {
   "cell_type": "code",
   "execution_count": 15,
   "id": "7e7190d3",
   "metadata": {
    "execution": {
     "iopub.execute_input": "2022-08-18T18:46:41.516322Z",
     "iopub.status.busy": "2022-08-18T18:46:41.515763Z",
     "iopub.status.idle": "2022-08-18T18:46:41.525536Z",
     "shell.execute_reply": "2022-08-18T18:46:41.524216Z"
    },
    "papermill": {
     "duration": 0.052004,
     "end_time": "2022-08-18T18:46:41.528389",
     "exception": false,
     "start_time": "2022-08-18T18:46:41.476385",
     "status": "completed"
    },
    "tags": []
   },
   "outputs": [],
   "source": [
    "all_data.drop(columns=['SalePrice'],axis=1,inplace=True)"
   ]
  },
  {
   "cell_type": "code",
   "execution_count": 16,
   "id": "a3cbd46c",
   "metadata": {
    "execution": {
     "iopub.execute_input": "2022-08-18T18:46:41.605964Z",
     "iopub.status.busy": "2022-08-18T18:46:41.604620Z",
     "iopub.status.idle": "2022-08-18T18:46:41.613039Z",
     "shell.execute_reply": "2022-08-18T18:46:41.611676Z"
    },
    "papermill": {
     "duration": 0.050498,
     "end_time": "2022-08-18T18:46:41.615793",
     "exception": false,
     "start_time": "2022-08-18T18:46:41.565295",
     "status": "completed"
    },
    "tags": []
   },
   "outputs": [
    {
     "data": {
      "text/plain": [
       "(2919, 79)"
      ]
     },
     "execution_count": 16,
     "metadata": {},
     "output_type": "execute_result"
    }
   ],
   "source": [
    "all_data.shape"
   ]
  },
  {
   "cell_type": "markdown",
   "id": "15fa1257",
   "metadata": {
    "papermill": {
     "duration": 0.035281,
     "end_time": "2022-08-18T18:46:41.689391",
     "exception": false,
     "start_time": "2022-08-18T18:46:41.654110",
     "status": "completed"
    },
    "tags": []
   },
   "source": [
    "# Removing Features or Removing Rows\n",
    "\n",
    "If only a few rows relative to the size of your dataset are missing some values, then it might just be a good idea to drop those rows. What does this cost you in terms of performace? It essentialy removes potential training/testing data, but if its only a few rows, its unlikely to change performance.\n",
    "\n",
    "Sometimes it is a good idea to remove a feature entirely if it has too many null values. However, you should carefully consider why it has so many null values, in certain situations null could just be used as a separate category. \n",
    "\n",
    "Take for example a feature column for the number of cars that can fit into a garage. Perhaps if there is no garage then there is a null value, instead of a zero. It probably makes more sense to quickly fill the null values in this case with a zero instead of a null. Only you can decide based off your domain expertise and knowledge of the data set!"
   ]
  },
  {
   "cell_type": "markdown",
   "id": "fb58806f",
   "metadata": {
    "papermill": {
     "duration": 0.035266,
     "end_time": "2022-08-18T18:46:41.760064",
     "exception": false,
     "start_time": "2022-08-18T18:46:41.724798",
     "status": "completed"
    },
    "tags": []
   },
   "source": [
    "## Working based on Rows Missing Data\n",
    "\n",
    "## Filling in Data or Dropping Data?\n",
    "\n",
    "Let's explore how to choose to remove or fill in missing data for rows that are missing some data. Let's choose some threshold where we decide it is ok to drop a row if its missing some data (instead of attempting to fill in that missing data point). We will choose 1% as our threshold. This means if less than 1% of the rows are missing this feature, we will consider just dropping that row, instead of dealing with the feature itself. There is no right answer here, just use common sense and your domain knowledge of the dataset, obviously you don't want to drop a very high threshold like 50% , you should also explore correlation to the dataset, maybe it makes sense to drop the feature instead.\n",
    "\n",
    "Based on the text description of the features, you will see that most of this missing data is actually NaN on purpose as a placeholder for 0 or \"none\"."
   ]
  },
  {
   "cell_type": "code",
   "execution_count": 17,
   "id": "797f2267",
   "metadata": {
    "execution": {
     "iopub.execute_input": "2022-08-18T18:46:41.841024Z",
     "iopub.status.busy": "2022-08-18T18:46:41.840195Z",
     "iopub.status.idle": "2022-08-18T18:46:41.846865Z",
     "shell.execute_reply": "2022-08-18T18:46:41.845806Z"
    },
    "papermill": {
     "duration": 0.050519,
     "end_time": "2022-08-18T18:46:41.849477",
     "exception": false,
     "start_time": "2022-08-18T18:46:41.798958",
     "status": "completed"
    },
    "tags": []
   },
   "outputs": [],
   "source": [
    "def percent_missing(df):\n",
    "    missing=100*df.isnull().sum()/len(df)\n",
    "    missing=missing[missing>0].sort_values()\n",
    "    return missing\n",
    "    "
   ]
  },
  {
   "cell_type": "code",
   "execution_count": 18,
   "id": "cc51984f",
   "metadata": {
    "execution": {
     "iopub.execute_input": "2022-08-18T18:46:41.925429Z",
     "iopub.status.busy": "2022-08-18T18:46:41.924633Z",
     "iopub.status.idle": "2022-08-18T18:46:41.939118Z",
     "shell.execute_reply": "2022-08-18T18:46:41.937810Z"
    },
    "papermill": {
     "duration": 0.054915,
     "end_time": "2022-08-18T18:46:41.941760",
     "exception": false,
     "start_time": "2022-08-18T18:46:41.886845",
     "status": "completed"
    },
    "tags": []
   },
   "outputs": [],
   "source": [
    "per_miss=percent_missing(all_data)"
   ]
  },
  {
   "cell_type": "code",
   "execution_count": 19,
   "id": "d99d563a",
   "metadata": {
    "execution": {
     "iopub.execute_input": "2022-08-18T18:46:42.016304Z",
     "iopub.status.busy": "2022-08-18T18:46:42.014930Z",
     "iopub.status.idle": "2022-08-18T18:46:42.025884Z",
     "shell.execute_reply": "2022-08-18T18:46:42.024476Z"
    },
    "papermill": {
     "duration": 0.050866,
     "end_time": "2022-08-18T18:46:42.028734",
     "exception": false,
     "start_time": "2022-08-18T18:46:41.977868",
     "status": "completed"
    },
    "tags": []
   },
   "outputs": [
    {
     "data": {
      "text/plain": [
       "BsmtFinType1     2.706406\n",
       "BsmtFinType2     2.740665\n",
       "BsmtQual         2.774923\n",
       "BsmtCond         2.809181\n",
       "BsmtExposure     2.809181\n",
       "GarageType       5.378554\n",
       "GarageCond       5.447071\n",
       "GarageQual       5.447071\n",
       "GarageYrBlt      5.447071\n",
       "GarageFinish     5.447071\n",
       "LotFrontage     16.649538\n",
       "FireplaceQu     48.646797\n",
       "Fence           80.438506\n",
       "Alley           93.216855\n",
       "MiscFeature     96.402878\n",
       "PoolQC          99.657417\n",
       "dtype: float64"
      ]
     },
     "execution_count": 19,
     "metadata": {},
     "output_type": "execute_result"
    }
   ],
   "source": [
    "per_miss[per_miss>1]"
   ]
  },
  {
   "cell_type": "code",
   "execution_count": 20,
   "id": "f5624fcf",
   "metadata": {
    "execution": {
     "iopub.execute_input": "2022-08-18T18:46:42.103031Z",
     "iopub.status.busy": "2022-08-18T18:46:42.102279Z",
     "iopub.status.idle": "2022-08-18T18:46:42.111549Z",
     "shell.execute_reply": "2022-08-18T18:46:42.109941Z"
    },
    "papermill": {
     "duration": 0.05013,
     "end_time": "2022-08-18T18:46:42.114740",
     "exception": false,
     "start_time": "2022-08-18T18:46:42.064610",
     "status": "completed"
    },
    "tags": []
   },
   "outputs": [
    {
     "data": {
      "text/plain": [
       "Index(['TotalBsmtSF', 'GarageArea', 'GarageCars', 'KitchenQual', 'Electrical',\n",
       "       'BsmtUnfSF', 'BsmtFinSF2', 'BsmtFinSF1', 'SaleType', 'Exterior1st',\n",
       "       'Exterior2nd', 'Functional', 'Utilities', 'BsmtHalfBath',\n",
       "       'BsmtFullBath', 'MSZoning', 'MasVnrArea', 'MasVnrType', 'BsmtFinType1',\n",
       "       'BsmtFinType2', 'BsmtQual', 'BsmtCond', 'BsmtExposure', 'GarageType',\n",
       "       'GarageCond', 'GarageQual', 'GarageYrBlt', 'GarageFinish',\n",
       "       'LotFrontage', 'FireplaceQu', 'Fence', 'Alley', 'MiscFeature',\n",
       "       'PoolQC'],\n",
       "      dtype='object')"
      ]
     },
     "execution_count": 20,
     "metadata": {},
     "output_type": "execute_result"
    }
   ],
   "source": [
    "per_miss.index"
   ]
  },
  {
   "cell_type": "markdown",
   "id": "5533fad4",
   "metadata": {
    "papermill": {
     "duration": 0.038076,
     "end_time": "2022-08-18T18:46:42.191314",
     "exception": false,
     "start_time": "2022-08-18T18:46:42.153238",
     "status": "completed"
    },
    "tags": []
   },
   "source": [
    "## Example of Filling in Data : Basement Columns"
   ]
  },
  {
   "cell_type": "code",
   "execution_count": 21,
   "id": "82d34b9a",
   "metadata": {
    "execution": {
     "iopub.execute_input": "2022-08-18T18:46:42.275482Z",
     "iopub.status.busy": "2022-08-18T18:46:42.274680Z",
     "iopub.status.idle": "2022-08-18T18:46:42.720310Z",
     "shell.execute_reply": "2022-08-18T18:46:42.718991Z"
    },
    "papermill": {
     "duration": 0.488356,
     "end_time": "2022-08-18T18:46:42.723357",
     "exception": false,
     "start_time": "2022-08-18T18:46:42.235001",
     "status": "completed"
    },
    "tags": []
   },
   "outputs": [
    {
     "data": {
      "image/png": "[encoded data removed]",
      "text/plain": [
       "<Figure size 432x288 with 1 Axes>"
      ]
     },
     "metadata": {
      "needs_background": "light"
     },
     "output_type": "display_data"
    }
   ],
   "source": [
    "sns.barplot(x=per_miss.index,y=per_miss)\n",
    "plt.xticks(rotation=90);"
   ]
  },
  {
   "cell_type": "markdown",
   "id": "e9dea714",
   "metadata": {
    "papermill": {
     "duration": 0.039393,
     "end_time": "2022-08-18T18:46:42.803166",
     "exception": false,
     "start_time": "2022-08-18T18:46:42.763773",
     "status": "completed"
    },
    "tags": []
   },
   "source": [
    "Let's drop or fill the rows based on this data. You could either manually fill in the data (especially the Basement data based on the description text file) OR you could simply drop the row and not consider it.Probably makes more sense to fill in the Missing Basement data since its well described in the text description."
   ]
  },
  {
   "cell_type": "code",
   "execution_count": 22,
   "id": "50a726ca",
   "metadata": {
    "execution": {
     "iopub.execute_input": "2022-08-18T18:46:42.879497Z",
     "iopub.status.busy": "2022-08-18T18:46:42.878476Z",
     "iopub.status.idle": "2022-08-18T18:46:43.326308Z",
     "shell.execute_reply": "2022-08-18T18:46:43.324861Z"
    },
    "papermill": {
     "duration": 0.489606,
     "end_time": "2022-08-18T18:46:43.329613",
     "exception": false,
     "start_time": "2022-08-18T18:46:42.840007",
     "status": "completed"
    },
    "tags": []
   },
   "outputs": [
    {
     "data": {
      "text/plain": [
       "(0.0, 10.0)"
      ]
     },
     "execution_count": 22,
     "metadata": {},
     "output_type": "execute_result"
    },
    {
     "data": {
      "image/png": "[encoded data removed]",
      "text/plain": [
       "<Figure size 432x288 with 1 Axes>"
      ]
     },
     "metadata": {
      "needs_background": "light"
     },
     "output_type": "display_data"
    }
   ],
   "source": [
    "sns.barplot(x=per_miss.index,y=per_miss)\n",
    "plt.xticks(rotation=90);\n",
    "# Set 10% Threshold\n",
    "plt.ylim(0,10)"
   ]
  },
  {
   "cell_type": "code",
   "execution_count": 23,
   "id": "250baa2b",
   "metadata": {
    "execution": {
     "iopub.execute_input": "2022-08-18T18:46:43.412961Z",
     "iopub.status.busy": "2022-08-18T18:46:43.412438Z",
     "iopub.status.idle": "2022-08-18T18:46:43.445373Z",
     "shell.execute_reply": "2022-08-18T18:46:43.444197Z"
    },
    "papermill": {
     "duration": 0.078009,
     "end_time": "2022-08-18T18:46:43.448119",
     "exception": false,
     "start_time": "2022-08-18T18:46:43.370110",
     "status": "completed"
    },
    "tags": []
   },
   "outputs": [
    {
     "data": {
      "text/html": [
       "<div>\n",
       "<style scoped>\n",
       "    .dataframe tbody tr th:only-of-type {\n",
       "        vertical-align: middle;\n",
       "    }\n",
       "\n",
       "    .dataframe tbody tr th {\n",
       "        vertical-align: top;\n",
       "    }\n",
       "\n",
       "    .dataframe thead th {\n",
       "        text-align: right;\n",
       "    }\n",
       "</style>\n",
       "<table border=\"1\" class=\"dataframe\">\n",
       "  <thead>\n",
       "    <tr style=\"text-align: right;\">\n",
       "      <th></th>\n",
       "      <th>MSSubClass</th>\n",
       "      <th>MSZoning</th>\n",
       "      <th>LotFrontage</th>\n",
       "      <th>LotArea</th>\n",
       "      <th>Street</th>\n",
       "      <th>Alley</th>\n",
       "      <th>LotShape</th>\n",
       "      <th>LandContour</th>\n",
       "      <th>Utilities</th>\n",
       "      <th>LotConfig</th>\n",
       "      <th>...</th>\n",
       "      <th>ScreenPorch</th>\n",
       "      <th>PoolArea</th>\n",
       "      <th>PoolQC</th>\n",
       "      <th>Fence</th>\n",
       "      <th>MiscFeature</th>\n",
       "      <th>MiscVal</th>\n",
       "      <th>MoSold</th>\n",
       "      <th>YrSold</th>\n",
       "      <th>SaleType</th>\n",
       "      <th>SaleCondition</th>\n",
       "    </tr>\n",
       "  </thead>\n",
       "  <tbody>\n",
       "    <tr>\n",
       "      <th>1379</th>\n",
       "      <td>80</td>\n",
       "      <td>RL</td>\n",
       "      <td>73.0</td>\n",
       "      <td>9735</td>\n",
       "      <td>Pave</td>\n",
       "      <td>NaN</td>\n",
       "      <td>Reg</td>\n",
       "      <td>Lvl</td>\n",
       "      <td>AllPub</td>\n",
       "      <td>Inside</td>\n",
       "      <td>...</td>\n",
       "      <td>0</td>\n",
       "      <td>0</td>\n",
       "      <td>NaN</td>\n",
       "      <td>NaN</td>\n",
       "      <td>NaN</td>\n",
       "      <td>0</td>\n",
       "      <td>5</td>\n",
       "      <td>2008</td>\n",
       "      <td>WD</td>\n",
       "      <td>Normal</td>\n",
       "    </tr>\n",
       "  </tbody>\n",
       "</table>\n",
       "<p>1 rows × 79 columns</p>\n",
       "</div>"
      ],
      "text/plain": [
       "      MSSubClass MSZoning  LotFrontage  LotArea Street Alley LotShape  \\\n",
       "1379          80       RL         73.0     9735   Pave   NaN      Reg   \n",
       "\n",
       "     LandContour Utilities LotConfig  ... ScreenPorch PoolArea PoolQC Fence  \\\n",
       "1379         Lvl    AllPub    Inside  ...           0        0    NaN   NaN   \n",
       "\n",
       "     MiscFeature MiscVal  MoSold  YrSold  SaleType  SaleCondition  \n",
       "1379         NaN       0       5    2008        WD         Normal  \n",
       "\n",
       "[1 rows x 79 columns]"
      ]
     },
     "execution_count": 23,
     "metadata": {},
     "output_type": "execute_result"
    }
   ],
   "source": [
    "all_data[all_data['Electrical'].isnull()]"
   ]
  },
  {
   "cell_type": "code",
   "execution_count": 24,
   "id": "f844f86c",
   "metadata": {
    "execution": {
     "iopub.execute_input": "2022-08-18T18:46:43.524859Z",
     "iopub.status.busy": "2022-08-18T18:46:43.524349Z",
     "iopub.status.idle": "2022-08-18T18:46:43.568176Z",
     "shell.execute_reply": "2022-08-18T18:46:43.567131Z"
    },
    "papermill": {
     "duration": 0.085347,
     "end_time": "2022-08-18T18:46:43.570964",
     "exception": false,
     "start_time": "2022-08-18T18:46:43.485617",
     "status": "completed"
    },
    "tags": []
   },
   "outputs": [
    {
     "data": {
      "text/html": [
       "<div>\n",
       "<style scoped>\n",
       "    .dataframe tbody tr th:only-of-type {\n",
       "        vertical-align: middle;\n",
       "    }\n",
       "\n",
       "    .dataframe tbody tr th {\n",
       "        vertical-align: top;\n",
       "    }\n",
       "\n",
       "    .dataframe thead th {\n",
       "        text-align: right;\n",
       "    }\n",
       "</style>\n",
       "<table border=\"1\" class=\"dataframe\">\n",
       "  <thead>\n",
       "    <tr style=\"text-align: right;\">\n",
       "      <th></th>\n",
       "      <th>MSSubClass</th>\n",
       "      <th>MSZoning</th>\n",
       "      <th>LotFrontage</th>\n",
       "      <th>LotArea</th>\n",
       "      <th>Street</th>\n",
       "      <th>Alley</th>\n",
       "      <th>LotShape</th>\n",
       "      <th>LandContour</th>\n",
       "      <th>Utilities</th>\n",
       "      <th>LotConfig</th>\n",
       "      <th>...</th>\n",
       "      <th>ScreenPorch</th>\n",
       "      <th>PoolArea</th>\n",
       "      <th>PoolQC</th>\n",
       "      <th>Fence</th>\n",
       "      <th>MiscFeature</th>\n",
       "      <th>MiscVal</th>\n",
       "      <th>MoSold</th>\n",
       "      <th>YrSold</th>\n",
       "      <th>SaleType</th>\n",
       "      <th>SaleCondition</th>\n",
       "    </tr>\n",
       "  </thead>\n",
       "  <tbody>\n",
       "    <tr>\n",
       "      <th>234</th>\n",
       "      <td>60</td>\n",
       "      <td>RL</td>\n",
       "      <td>NaN</td>\n",
       "      <td>7851</td>\n",
       "      <td>Pave</td>\n",
       "      <td>NaN</td>\n",
       "      <td>Reg</td>\n",
       "      <td>Lvl</td>\n",
       "      <td>AllPub</td>\n",
       "      <td>Inside</td>\n",
       "      <td>...</td>\n",
       "      <td>0</td>\n",
       "      <td>0</td>\n",
       "      <td>NaN</td>\n",
       "      <td>NaN</td>\n",
       "      <td>NaN</td>\n",
       "      <td>0</td>\n",
       "      <td>5</td>\n",
       "      <td>2010</td>\n",
       "      <td>WD</td>\n",
       "      <td>Normal</td>\n",
       "    </tr>\n",
       "    <tr>\n",
       "      <th>529</th>\n",
       "      <td>20</td>\n",
       "      <td>RL</td>\n",
       "      <td>NaN</td>\n",
       "      <td>32668</td>\n",
       "      <td>Pave</td>\n",
       "      <td>NaN</td>\n",
       "      <td>IR1</td>\n",
       "      <td>Lvl</td>\n",
       "      <td>AllPub</td>\n",
       "      <td>CulDSac</td>\n",
       "      <td>...</td>\n",
       "      <td>0</td>\n",
       "      <td>0</td>\n",
       "      <td>NaN</td>\n",
       "      <td>NaN</td>\n",
       "      <td>NaN</td>\n",
       "      <td>0</td>\n",
       "      <td>3</td>\n",
       "      <td>2007</td>\n",
       "      <td>WD</td>\n",
       "      <td>Alloca</td>\n",
       "    </tr>\n",
       "    <tr>\n",
       "      <th>650</th>\n",
       "      <td>60</td>\n",
       "      <td>FV</td>\n",
       "      <td>65.0</td>\n",
       "      <td>8125</td>\n",
       "      <td>Pave</td>\n",
       "      <td>NaN</td>\n",
       "      <td>Reg</td>\n",
       "      <td>Lvl</td>\n",
       "      <td>AllPub</td>\n",
       "      <td>Inside</td>\n",
       "      <td>...</td>\n",
       "      <td>0</td>\n",
       "      <td>0</td>\n",
       "      <td>NaN</td>\n",
       "      <td>NaN</td>\n",
       "      <td>NaN</td>\n",
       "      <td>0</td>\n",
       "      <td>5</td>\n",
       "      <td>2008</td>\n",
       "      <td>WD</td>\n",
       "      <td>Normal</td>\n",
       "    </tr>\n",
       "    <tr>\n",
       "      <th>936</th>\n",
       "      <td>20</td>\n",
       "      <td>RL</td>\n",
       "      <td>67.0</td>\n",
       "      <td>10083</td>\n",
       "      <td>Pave</td>\n",
       "      <td>NaN</td>\n",
       "      <td>Reg</td>\n",
       "      <td>Lvl</td>\n",
       "      <td>AllPub</td>\n",
       "      <td>Inside</td>\n",
       "      <td>...</td>\n",
       "      <td>0</td>\n",
       "      <td>0</td>\n",
       "      <td>NaN</td>\n",
       "      <td>NaN</td>\n",
       "      <td>NaN</td>\n",
       "      <td>0</td>\n",
       "      <td>8</td>\n",
       "      <td>2009</td>\n",
       "      <td>WD</td>\n",
       "      <td>Normal</td>\n",
       "    </tr>\n",
       "    <tr>\n",
       "      <th>973</th>\n",
       "      <td>20</td>\n",
       "      <td>FV</td>\n",
       "      <td>95.0</td>\n",
       "      <td>11639</td>\n",
       "      <td>Pave</td>\n",
       "      <td>NaN</td>\n",
       "      <td>Reg</td>\n",
       "      <td>Lvl</td>\n",
       "      <td>AllPub</td>\n",
       "      <td>Corner</td>\n",
       "      <td>...</td>\n",
       "      <td>0</td>\n",
       "      <td>0</td>\n",
       "      <td>NaN</td>\n",
       "      <td>NaN</td>\n",
       "      <td>NaN</td>\n",
       "      <td>0</td>\n",
       "      <td>12</td>\n",
       "      <td>2008</td>\n",
       "      <td>New</td>\n",
       "      <td>Partial</td>\n",
       "    </tr>\n",
       "    <tr>\n",
       "      <th>977</th>\n",
       "      <td>120</td>\n",
       "      <td>FV</td>\n",
       "      <td>35.0</td>\n",
       "      <td>4274</td>\n",
       "      <td>Pave</td>\n",
       "      <td>Pave</td>\n",
       "      <td>IR1</td>\n",
       "      <td>Lvl</td>\n",
       "      <td>AllPub</td>\n",
       "      <td>Inside</td>\n",
       "      <td>...</td>\n",
       "      <td>0</td>\n",
       "      <td>0</td>\n",
       "      <td>NaN</td>\n",
       "      <td>NaN</td>\n",
       "      <td>NaN</td>\n",
       "      <td>0</td>\n",
       "      <td>11</td>\n",
       "      <td>2007</td>\n",
       "      <td>New</td>\n",
       "      <td>Partial</td>\n",
       "    </tr>\n",
       "    <tr>\n",
       "      <th>1243</th>\n",
       "      <td>20</td>\n",
       "      <td>RL</td>\n",
       "      <td>107.0</td>\n",
       "      <td>13891</td>\n",
       "      <td>Pave</td>\n",
       "      <td>NaN</td>\n",
       "      <td>Reg</td>\n",
       "      <td>Lvl</td>\n",
       "      <td>AllPub</td>\n",
       "      <td>Inside</td>\n",
       "      <td>...</td>\n",
       "      <td>0</td>\n",
       "      <td>0</td>\n",
       "      <td>NaN</td>\n",
       "      <td>NaN</td>\n",
       "      <td>NaN</td>\n",
       "      <td>0</td>\n",
       "      <td>9</td>\n",
       "      <td>2006</td>\n",
       "      <td>New</td>\n",
       "      <td>Partial</td>\n",
       "    </tr>\n",
       "    <tr>\n",
       "      <th>1278</th>\n",
       "      <td>60</td>\n",
       "      <td>RL</td>\n",
       "      <td>75.0</td>\n",
       "      <td>9473</td>\n",
       "      <td>Pave</td>\n",
       "      <td>NaN</td>\n",
       "      <td>Reg</td>\n",
       "      <td>Lvl</td>\n",
       "      <td>AllPub</td>\n",
       "      <td>Inside</td>\n",
       "      <td>...</td>\n",
       "      <td>0</td>\n",
       "      <td>0</td>\n",
       "      <td>NaN</td>\n",
       "      <td>NaN</td>\n",
       "      <td>NaN</td>\n",
       "      <td>0</td>\n",
       "      <td>3</td>\n",
       "      <td>2008</td>\n",
       "      <td>WD</td>\n",
       "      <td>Normal</td>\n",
       "    </tr>\n",
       "    <tr>\n",
       "      <th>1691</th>\n",
       "      <td>60</td>\n",
       "      <td>RL</td>\n",
       "      <td>NaN</td>\n",
       "      <td>12891</td>\n",
       "      <td>Pave</td>\n",
       "      <td>NaN</td>\n",
       "      <td>IR1</td>\n",
       "      <td>Lvl</td>\n",
       "      <td>AllPub</td>\n",
       "      <td>Corner</td>\n",
       "      <td>...</td>\n",
       "      <td>0</td>\n",
       "      <td>0</td>\n",
       "      <td>NaN</td>\n",
       "      <td>NaN</td>\n",
       "      <td>NaN</td>\n",
       "      <td>0</td>\n",
       "      <td>7</td>\n",
       "      <td>2009</td>\n",
       "      <td>WD</td>\n",
       "      <td>Normal</td>\n",
       "    </tr>\n",
       "    <tr>\n",
       "      <th>1706</th>\n",
       "      <td>20</td>\n",
       "      <td>FV</td>\n",
       "      <td>90.0</td>\n",
       "      <td>7993</td>\n",
       "      <td>Pave</td>\n",
       "      <td>NaN</td>\n",
       "      <td>IR1</td>\n",
       "      <td>Lvl</td>\n",
       "      <td>AllPub</td>\n",
       "      <td>Inside</td>\n",
       "      <td>...</td>\n",
       "      <td>0</td>\n",
       "      <td>0</td>\n",
       "      <td>NaN</td>\n",
       "      <td>NaN</td>\n",
       "      <td>NaN</td>\n",
       "      <td>0</td>\n",
       "      <td>10</td>\n",
       "      <td>2009</td>\n",
       "      <td>New</td>\n",
       "      <td>Partial</td>\n",
       "    </tr>\n",
       "    <tr>\n",
       "      <th>1882</th>\n",
       "      <td>60</td>\n",
       "      <td>RL</td>\n",
       "      <td>70.0</td>\n",
       "      <td>8749</td>\n",
       "      <td>Pave</td>\n",
       "      <td>NaN</td>\n",
       "      <td>Reg</td>\n",
       "      <td>Lvl</td>\n",
       "      <td>AllPub</td>\n",
       "      <td>Inside</td>\n",
       "      <td>...</td>\n",
       "      <td>0</td>\n",
       "      <td>0</td>\n",
       "      <td>NaN</td>\n",
       "      <td>NaN</td>\n",
       "      <td>NaN</td>\n",
       "      <td>0</td>\n",
       "      <td>11</td>\n",
       "      <td>2009</td>\n",
       "      <td>WD</td>\n",
       "      <td>Normal</td>\n",
       "    </tr>\n",
       "    <tr>\n",
       "      <th>1992</th>\n",
       "      <td>60</td>\n",
       "      <td>RL</td>\n",
       "      <td>NaN</td>\n",
       "      <td>7750</td>\n",
       "      <td>Pave</td>\n",
       "      <td>NaN</td>\n",
       "      <td>Reg</td>\n",
       "      <td>Lvl</td>\n",
       "      <td>AllPub</td>\n",
       "      <td>Inside</td>\n",
       "      <td>...</td>\n",
       "      <td>0</td>\n",
       "      <td>0</td>\n",
       "      <td>NaN</td>\n",
       "      <td>NaN</td>\n",
       "      <td>NaN</td>\n",
       "      <td>0</td>\n",
       "      <td>4</td>\n",
       "      <td>2008</td>\n",
       "      <td>WD</td>\n",
       "      <td>Normal</td>\n",
       "    </tr>\n",
       "    <tr>\n",
       "      <th>2004</th>\n",
       "      <td>20</td>\n",
       "      <td>RL</td>\n",
       "      <td>87.0</td>\n",
       "      <td>10037</td>\n",
       "      <td>Pave</td>\n",
       "      <td>NaN</td>\n",
       "      <td>Reg</td>\n",
       "      <td>Lvl</td>\n",
       "      <td>AllPub</td>\n",
       "      <td>Corner</td>\n",
       "      <td>...</td>\n",
       "      <td>0</td>\n",
       "      <td>0</td>\n",
       "      <td>NaN</td>\n",
       "      <td>NaN</td>\n",
       "      <td>NaN</td>\n",
       "      <td>0</td>\n",
       "      <td>8</td>\n",
       "      <td>2008</td>\n",
       "      <td>WD</td>\n",
       "      <td>Normal</td>\n",
       "    </tr>\n",
       "    <tr>\n",
       "      <th>2041</th>\n",
       "      <td>60</td>\n",
       "      <td>FV</td>\n",
       "      <td>NaN</td>\n",
       "      <td>7500</td>\n",
       "      <td>Pave</td>\n",
       "      <td>NaN</td>\n",
       "      <td>Reg</td>\n",
       "      <td>Lvl</td>\n",
       "      <td>AllPub</td>\n",
       "      <td>Inside</td>\n",
       "      <td>...</td>\n",
       "      <td>0</td>\n",
       "      <td>0</td>\n",
       "      <td>NaN</td>\n",
       "      <td>NaN</td>\n",
       "      <td>NaN</td>\n",
       "      <td>0</td>\n",
       "      <td>4</td>\n",
       "      <td>2008</td>\n",
       "      <td>WD</td>\n",
       "      <td>Normal</td>\n",
       "    </tr>\n",
       "    <tr>\n",
       "      <th>2311</th>\n",
       "      <td>60</td>\n",
       "      <td>RL</td>\n",
       "      <td>59.0</td>\n",
       "      <td>15810</td>\n",
       "      <td>Pave</td>\n",
       "      <td>NaN</td>\n",
       "      <td>IR1</td>\n",
       "      <td>Lvl</td>\n",
       "      <td>AllPub</td>\n",
       "      <td>Inside</td>\n",
       "      <td>...</td>\n",
       "      <td>0</td>\n",
       "      <td>0</td>\n",
       "      <td>NaN</td>\n",
       "      <td>NaN</td>\n",
       "      <td>NaN</td>\n",
       "      <td>0</td>\n",
       "      <td>5</td>\n",
       "      <td>2007</td>\n",
       "      <td>New</td>\n",
       "      <td>Partial</td>\n",
       "    </tr>\n",
       "    <tr>\n",
       "      <th>2325</th>\n",
       "      <td>80</td>\n",
       "      <td>RL</td>\n",
       "      <td>NaN</td>\n",
       "      <td>11950</td>\n",
       "      <td>Pave</td>\n",
       "      <td>NaN</td>\n",
       "      <td>IR1</td>\n",
       "      <td>Lvl</td>\n",
       "      <td>AllPub</td>\n",
       "      <td>Corner</td>\n",
       "      <td>...</td>\n",
       "      <td>0</td>\n",
       "      <td>0</td>\n",
       "      <td>NaN</td>\n",
       "      <td>NaN</td>\n",
       "      <td>NaN</td>\n",
       "      <td>0</td>\n",
       "      <td>10</td>\n",
       "      <td>2007</td>\n",
       "      <td>WD</td>\n",
       "      <td>Normal</td>\n",
       "    </tr>\n",
       "    <tr>\n",
       "      <th>2340</th>\n",
       "      <td>20</td>\n",
       "      <td>RL</td>\n",
       "      <td>85.0</td>\n",
       "      <td>9965</td>\n",
       "      <td>Pave</td>\n",
       "      <td>NaN</td>\n",
       "      <td>Reg</td>\n",
       "      <td>Lvl</td>\n",
       "      <td>AllPub</td>\n",
       "      <td>FR2</td>\n",
       "      <td>...</td>\n",
       "      <td>0</td>\n",
       "      <td>0</td>\n",
       "      <td>NaN</td>\n",
       "      <td>NaN</td>\n",
       "      <td>NaN</td>\n",
       "      <td>0</td>\n",
       "      <td>9</td>\n",
       "      <td>2007</td>\n",
       "      <td>New</td>\n",
       "      <td>Partial</td>\n",
       "    </tr>\n",
       "    <tr>\n",
       "      <th>2349</th>\n",
       "      <td>60</td>\n",
       "      <td>FV</td>\n",
       "      <td>112.0</td>\n",
       "      <td>12217</td>\n",
       "      <td>Pave</td>\n",
       "      <td>NaN</td>\n",
       "      <td>IR1</td>\n",
       "      <td>Lvl</td>\n",
       "      <td>AllPub</td>\n",
       "      <td>Inside</td>\n",
       "      <td>...</td>\n",
       "      <td>0</td>\n",
       "      <td>0</td>\n",
       "      <td>NaN</td>\n",
       "      <td>NaN</td>\n",
       "      <td>NaN</td>\n",
       "      <td>0</td>\n",
       "      <td>12</td>\n",
       "      <td>2007</td>\n",
       "      <td>New</td>\n",
       "      <td>Partial</td>\n",
       "    </tr>\n",
       "    <tr>\n",
       "      <th>2368</th>\n",
       "      <td>120</td>\n",
       "      <td>FV</td>\n",
       "      <td>30.0</td>\n",
       "      <td>5330</td>\n",
       "      <td>Pave</td>\n",
       "      <td>Pave</td>\n",
       "      <td>IR2</td>\n",
       "      <td>Lvl</td>\n",
       "      <td>AllPub</td>\n",
       "      <td>Inside</td>\n",
       "      <td>...</td>\n",
       "      <td>0</td>\n",
       "      <td>0</td>\n",
       "      <td>NaN</td>\n",
       "      <td>NaN</td>\n",
       "      <td>NaN</td>\n",
       "      <td>0</td>\n",
       "      <td>7</td>\n",
       "      <td>2007</td>\n",
       "      <td>New</td>\n",
       "      <td>Partial</td>\n",
       "    </tr>\n",
       "    <tr>\n",
       "      <th>2592</th>\n",
       "      <td>20</td>\n",
       "      <td>RL</td>\n",
       "      <td>68.0</td>\n",
       "      <td>8298</td>\n",
       "      <td>Pave</td>\n",
       "      <td>NaN</td>\n",
       "      <td>IR1</td>\n",
       "      <td>HLS</td>\n",
       "      <td>AllPub</td>\n",
       "      <td>Inside</td>\n",
       "      <td>...</td>\n",
       "      <td>0</td>\n",
       "      <td>0</td>\n",
       "      <td>NaN</td>\n",
       "      <td>NaN</td>\n",
       "      <td>NaN</td>\n",
       "      <td>0</td>\n",
       "      <td>9</td>\n",
       "      <td>2007</td>\n",
       "      <td>New</td>\n",
       "      <td>Partial</td>\n",
       "    </tr>\n",
       "    <tr>\n",
       "      <th>2610</th>\n",
       "      <td>20</td>\n",
       "      <td>RL</td>\n",
       "      <td>124.0</td>\n",
       "      <td>27697</td>\n",
       "      <td>Pave</td>\n",
       "      <td>NaN</td>\n",
       "      <td>Reg</td>\n",
       "      <td>Lvl</td>\n",
       "      <td>AllPub</td>\n",
       "      <td>Inside</td>\n",
       "      <td>...</td>\n",
       "      <td>0</td>\n",
       "      <td>0</td>\n",
       "      <td>NaN</td>\n",
       "      <td>NaN</td>\n",
       "      <td>NaN</td>\n",
       "      <td>0</td>\n",
       "      <td>11</td>\n",
       "      <td>2007</td>\n",
       "      <td>COD</td>\n",
       "      <td>Abnorml</td>\n",
       "    </tr>\n",
       "    <tr>\n",
       "      <th>2657</th>\n",
       "      <td>60</td>\n",
       "      <td>RL</td>\n",
       "      <td>103.0</td>\n",
       "      <td>12867</td>\n",
       "      <td>Pave</td>\n",
       "      <td>NaN</td>\n",
       "      <td>IR1</td>\n",
       "      <td>Lvl</td>\n",
       "      <td>AllPub</td>\n",
       "      <td>Corner</td>\n",
       "      <td>...</td>\n",
       "      <td>0</td>\n",
       "      <td>0</td>\n",
       "      <td>NaN</td>\n",
       "      <td>NaN</td>\n",
       "      <td>NaN</td>\n",
       "      <td>0</td>\n",
       "      <td>7</td>\n",
       "      <td>2006</td>\n",
       "      <td>New</td>\n",
       "      <td>Partial</td>\n",
       "    </tr>\n",
       "    <tr>\n",
       "      <th>2686</th>\n",
       "      <td>20</td>\n",
       "      <td>RL</td>\n",
       "      <td>49.0</td>\n",
       "      <td>15218</td>\n",
       "      <td>Pave</td>\n",
       "      <td>NaN</td>\n",
       "      <td>IR1</td>\n",
       "      <td>Lvl</td>\n",
       "      <td>AllPub</td>\n",
       "      <td>CulDSac</td>\n",
       "      <td>...</td>\n",
       "      <td>0</td>\n",
       "      <td>0</td>\n",
       "      <td>NaN</td>\n",
       "      <td>NaN</td>\n",
       "      <td>NaN</td>\n",
       "      <td>0</td>\n",
       "      <td>9</td>\n",
       "      <td>2006</td>\n",
       "      <td>New</td>\n",
       "      <td>Partial</td>\n",
       "    </tr>\n",
       "    <tr>\n",
       "      <th>2862</th>\n",
       "      <td>20</td>\n",
       "      <td>RL</td>\n",
       "      <td>75.0</td>\n",
       "      <td>8050</td>\n",
       "      <td>Pave</td>\n",
       "      <td>NaN</td>\n",
       "      <td>Reg</td>\n",
       "      <td>Lvl</td>\n",
       "      <td>AllPub</td>\n",
       "      <td>Inside</td>\n",
       "      <td>...</td>\n",
       "      <td>0</td>\n",
       "      <td>0</td>\n",
       "      <td>NaN</td>\n",
       "      <td>NaN</td>\n",
       "      <td>NaN</td>\n",
       "      <td>0</td>\n",
       "      <td>4</td>\n",
       "      <td>2006</td>\n",
       "      <td>WD</td>\n",
       "      <td>Normal</td>\n",
       "    </tr>\n",
       "  </tbody>\n",
       "</table>\n",
       "<p>24 rows × 79 columns</p>\n",
       "</div>"
      ],
      "text/plain": [
       "      MSSubClass MSZoning  LotFrontage  LotArea Street Alley LotShape  \\\n",
       "234           60       RL          NaN     7851   Pave   NaN      Reg   \n",
       "529           20       RL          NaN    32668   Pave   NaN      IR1   \n",
       "650           60       FV         65.0     8125   Pave   NaN      Reg   \n",
       "936           20       RL         67.0    10083   Pave   NaN      Reg   \n",
       "973           20       FV         95.0    11639   Pave   NaN      Reg   \n",
       "977          120       FV         35.0     4274   Pave  Pave      IR1   \n",
       "1243          20       RL        107.0    13891   Pave   NaN      Reg   \n",
       "1278          60       RL         75.0     9473   Pave   NaN      Reg   \n",
       "1691          60       RL          NaN    12891   Pave   NaN      IR1   \n",
       "1706          20       FV         90.0     7993   Pave   NaN      IR1   \n",
       "1882          60       RL         70.0     8749   Pave   NaN      Reg   \n",
       "1992          60       RL          NaN     7750   Pave   NaN      Reg   \n",
       "2004          20       RL         87.0    10037   Pave   NaN      Reg   \n",
       "2041          60       FV          NaN     7500   Pave   NaN      Reg   \n",
       "2311          60       RL         59.0    15810   Pave   NaN      IR1   \n",
       "2325          80       RL          NaN    11950   Pave   NaN      IR1   \n",
       "2340          20       RL         85.0     9965   Pave   NaN      Reg   \n",
       "2349          60       FV        112.0    12217   Pave   NaN      IR1   \n",
       "2368         120       FV         30.0     5330   Pave  Pave      IR2   \n",
       "2592          20       RL         68.0     8298   Pave   NaN      IR1   \n",
       "2610          20       RL        124.0    27697   Pave   NaN      Reg   \n",
       "2657          60       RL        103.0    12867   Pave   NaN      IR1   \n",
       "2686          20       RL         49.0    15218   Pave   NaN      IR1   \n",
       "2862          20       RL         75.0     8050   Pave   NaN      Reg   \n",
       "\n",
       "     LandContour Utilities LotConfig  ... ScreenPorch PoolArea PoolQC Fence  \\\n",
       "234          Lvl    AllPub    Inside  ...           0        0    NaN   NaN   \n",
       "529          Lvl    AllPub   CulDSac  ...           0        0    NaN   NaN   \n",
       "650          Lvl    AllPub    Inside  ...           0        0    NaN   NaN   \n",
       "936          Lvl    AllPub    Inside  ...           0        0    NaN   NaN   \n",
       "973          Lvl    AllPub    Corner  ...           0        0    NaN   NaN   \n",
       "977          Lvl    AllPub    Inside  ...           0        0    NaN   NaN   \n",
       "1243         Lvl    AllPub    Inside  ...           0        0    NaN   NaN   \n",
       "1278         Lvl    AllPub    Inside  ...           0        0    NaN   NaN   \n",
       "1691         Lvl    AllPub    Corner  ...           0        0    NaN   NaN   \n",
       "1706         Lvl    AllPub    Inside  ...           0        0    NaN   NaN   \n",
       "1882         Lvl    AllPub    Inside  ...           0        0    NaN   NaN   \n",
       "1992         Lvl    AllPub    Inside  ...           0        0    NaN   NaN   \n",
       "2004         Lvl    AllPub    Corner  ...           0        0    NaN   NaN   \n",
       "2041         Lvl    AllPub    Inside  ...           0        0    NaN   NaN   \n",
       "2311         Lvl    AllPub    Inside  ...           0        0    NaN   NaN   \n",
       "2325         Lvl    AllPub    Corner  ...           0        0    NaN   NaN   \n",
       "2340         Lvl    AllPub       FR2  ...           0        0    NaN   NaN   \n",
       "2349         Lvl    AllPub    Inside  ...           0        0    NaN   NaN   \n",
       "2368         Lvl    AllPub    Inside  ...           0        0    NaN   NaN   \n",
       "2592         HLS    AllPub    Inside  ...           0        0    NaN   NaN   \n",
       "2610         Lvl    AllPub    Inside  ...           0        0    NaN   NaN   \n",
       "2657         Lvl    AllPub    Corner  ...           0        0    NaN   NaN   \n",
       "2686         Lvl    AllPub   CulDSac  ...           0        0    NaN   NaN   \n",
       "2862         Lvl    AllPub    Inside  ...           0        0    NaN   NaN   \n",
       "\n",
       "     MiscFeature MiscVal  MoSold  YrSold  SaleType  SaleCondition  \n",
       "234          NaN       0       5    2010        WD         Normal  \n",
       "529          NaN       0       3    2007        WD         Alloca  \n",
       "650          NaN       0       5    2008        WD         Normal  \n",
       "936          NaN       0       8    2009        WD         Normal  \n",
       "973          NaN       0      12    2008       New        Partial  \n",
       "977          NaN       0      11    2007       New        Partial  \n",
       "1243         NaN       0       9    2006       New        Partial  \n",
       "1278         NaN       0       3    2008        WD         Normal  \n",
       "1691         NaN       0       7    2009        WD         Normal  \n",
       "1706         NaN       0      10    2009       New        Partial  \n",
       "1882         NaN       0      11    2009        WD         Normal  \n",
       "1992         NaN       0       4    2008        WD         Normal  \n",
       "2004         NaN       0       8    2008        WD         Normal  \n",
       "2041         NaN       0       4    2008        WD         Normal  \n",
       "2311         NaN       0       5    2007       New        Partial  \n",
       "2325         NaN       0      10    2007        WD         Normal  \n",
       "2340         NaN       0       9    2007       New        Partial  \n",
       "2349         NaN       0      12    2007       New        Partial  \n",
       "2368         NaN       0       7    2007       New        Partial  \n",
       "2592         NaN       0       9    2007       New        Partial  \n",
       "2610         NaN       0      11    2007       COD        Abnorml  \n",
       "2657         NaN       0       7    2006       New        Partial  \n",
       "2686         NaN       0       9    2006       New        Partial  \n",
       "2862         NaN       0       4    2006        WD         Normal  \n",
       "\n",
       "[24 rows x 79 columns]"
      ]
     },
     "execution_count": 24,
     "metadata": {},
     "output_type": "execute_result"
    }
   ],
   "source": [
    "all_data[all_data['MasVnrType'].isnull()]"
   ]
  },
  {
   "cell_type": "markdown",
   "id": "4f8919b5",
   "metadata": {
    "papermill": {
     "duration": 0.039366,
     "end_time": "2022-08-18T18:46:43.652403",
     "exception": false,
     "start_time": "2022-08-18T18:46:43.613037",
     "status": "completed"
    },
    "tags": []
   },
   "source": [
    "### Mas Vnr Feature"
   ]
  },
  {
   "cell_type": "markdown",
   "id": "77ccdf29",
   "metadata": {
    "papermill": {
     "duration": 0.038148,
     "end_time": "2022-08-18T18:46:43.729281",
     "exception": false,
     "start_time": "2022-08-18T18:46:43.691133",
     "status": "completed"
    },
    "tags": []
   },
   "source": [
    "Based on the Description Text File, Mas Vnr Type and Mas Vnr Area being missing (NaN) is likely to mean the house simply just doesn't have a masonry veneer, in which case, we will fill in this data."
   ]
  },
  {
   "cell_type": "code",
   "execution_count": 25,
   "id": "2837a394",
   "metadata": {
    "execution": {
     "iopub.execute_input": "2022-08-18T18:46:43.807331Z",
     "iopub.status.busy": "2022-08-18T18:46:43.806408Z",
     "iopub.status.idle": "2022-08-18T18:46:43.813286Z",
     "shell.execute_reply": "2022-08-18T18:46:43.812151Z"
    },
    "papermill": {
     "duration": 0.04872,
     "end_time": "2022-08-18T18:46:43.815793",
     "exception": false,
     "start_time": "2022-08-18T18:46:43.767073",
     "status": "completed"
    },
    "tags": []
   },
   "outputs": [],
   "source": [
    "all_data['MasVnrType']=all_data['MasVnrType'].fillna('None')\n",
    "all_data['MasVnrArea']=all_data['MasVnrArea'].fillna(0)\n"
   ]
  },
  {
   "cell_type": "code",
   "execution_count": 26,
   "id": "f602aeea",
   "metadata": {
    "execution": {
     "iopub.execute_input": "2022-08-18T18:46:43.896753Z",
     "iopub.status.busy": "2022-08-18T18:46:43.896214Z",
     "iopub.status.idle": "2022-08-18T18:46:44.332903Z",
     "shell.execute_reply": "2022-08-18T18:46:44.331038Z"
    },
    "papermill": {
     "duration": 0.481579,
     "end_time": "2022-08-18T18:46:44.335953",
     "exception": false,
     "start_time": "2022-08-18T18:46:43.854374",
     "status": "completed"
    },
    "tags": []
   },
   "outputs": [
    {
     "data": {
      "text/plain": [
       "(0.0, 5.0)"
      ]
     },
     "execution_count": 26,
     "metadata": {},
     "output_type": "execute_result"
    },
    {
     "data": {
      "image/png": "[encoded data removed]",
      "text/plain": [
       "<Figure size 432x288 with 1 Axes>"
      ]
     },
     "metadata": {
      "needs_background": "light"
     },
     "output_type": "display_data"
    }
   ],
   "source": [
    "per_miss=percent_missing(all_data)\n",
    "sns.barplot(x=per_miss.index,y=per_miss)\n",
    "plt.xticks(rotation=90);\n",
    "plt.ylim(0,5)"
   ]
  },
  {
   "cell_type": "code",
   "execution_count": 27,
   "id": "dc5a47bb",
   "metadata": {
    "execution": {
     "iopub.execute_input": "2022-08-18T18:46:44.421293Z",
     "iopub.status.busy": "2022-08-18T18:46:44.420176Z",
     "iopub.status.idle": "2022-08-18T18:46:44.428019Z",
     "shell.execute_reply": "2022-08-18T18:46:44.427021Z"
    },
    "papermill": {
     "duration": 0.054151,
     "end_time": "2022-08-18T18:46:44.430401",
     "exception": false,
     "start_time": "2022-08-18T18:46:44.376250",
     "status": "completed"
    },
    "tags": []
   },
   "outputs": [],
   "source": [
    "all_data['Electrical']=all_data['Electrical'].fillna('None')"
   ]
  },
  {
   "cell_type": "code",
   "execution_count": 28,
   "id": "5d845073",
   "metadata": {
    "execution": {
     "iopub.execute_input": "2022-08-18T18:46:44.513507Z",
     "iopub.status.busy": "2022-08-18T18:46:44.511980Z",
     "iopub.status.idle": "2022-08-18T18:46:45.166792Z",
     "shell.execute_reply": "2022-08-18T18:46:45.165657Z"
    },
    "papermill": {
     "duration": 0.699324,
     "end_time": "2022-08-18T18:46:45.169745",
     "exception": false,
     "start_time": "2022-08-18T18:46:44.470421",
     "status": "completed"
    },
    "tags": []
   },
   "outputs": [
    {
     "data": {
      "text/plain": [
       "(0.0, 5.0)"
      ]
     },
     "execution_count": 28,
     "metadata": {},
     "output_type": "execute_result"
    },
    {
     "data": {
      "image/png": "[encoded data removed]",
      "text/plain": [
       "<Figure size 432x288 with 1 Axes>"
      ]
     },
     "metadata": {
      "needs_background": "light"
     },
     "output_type": "display_data"
    }
   ],
   "source": [
    "per_miss=percent_missing(all_data)\n",
    "sns.barplot(x=per_miss.index,y=per_miss)\n",
    "plt.xticks(rotation=90);\n",
    "plt.ylim(0,5)"
   ]
  },
  {
   "cell_type": "code",
   "execution_count": 29,
   "id": "d93bbb61",
   "metadata": {
    "execution": {
     "iopub.execute_input": "2022-08-18T18:46:45.253402Z",
     "iopub.status.busy": "2022-08-18T18:46:45.252377Z",
     "iopub.status.idle": "2022-08-18T18:46:45.259589Z",
     "shell.execute_reply": "2022-08-18T18:46:45.258644Z"
    },
    "papermill": {
     "duration": 0.051336,
     "end_time": "2022-08-18T18:46:45.262140",
     "exception": false,
     "start_time": "2022-08-18T18:46:45.210804",
     "status": "completed"
    },
    "tags": []
   },
   "outputs": [],
   "source": [
    "all_data['BsmtQual']=all_data['BsmtQual'].fillna('None')"
   ]
  },
  {
   "cell_type": "code",
   "execution_count": 30,
   "id": "aed42832",
   "metadata": {
    "execution": {
     "iopub.execute_input": "2022-08-18T18:46:45.344367Z",
     "iopub.status.busy": "2022-08-18T18:46:45.343410Z",
     "iopub.status.idle": "2022-08-18T18:46:45.351125Z",
     "shell.execute_reply": "2022-08-18T18:46:45.349990Z"
    },
    "papermill": {
     "duration": 0.052212,
     "end_time": "2022-08-18T18:46:45.354426",
     "exception": false,
     "start_time": "2022-08-18T18:46:45.302214",
     "status": "completed"
    },
    "tags": []
   },
   "outputs": [],
   "source": [
    "all_data['BsmtCond']=all_data['BsmtCond'].fillna('None')"
   ]
  },
  {
   "cell_type": "code",
   "execution_count": 31,
   "id": "2dabf21b",
   "metadata": {
    "execution": {
     "iopub.execute_input": "2022-08-18T18:46:45.437282Z",
     "iopub.status.busy": "2022-08-18T18:46:45.436498Z",
     "iopub.status.idle": "2022-08-18T18:46:45.442893Z",
     "shell.execute_reply": "2022-08-18T18:46:45.441823Z"
    },
    "papermill": {
     "duration": 0.051195,
     "end_time": "2022-08-18T18:46:45.445696",
     "exception": false,
     "start_time": "2022-08-18T18:46:45.394501",
     "status": "completed"
    },
    "tags": []
   },
   "outputs": [],
   "source": [
    "all_data['BsmtFinType1']=all_data['BsmtFinType1'].fillna('None')"
   ]
  },
  {
   "cell_type": "code",
   "execution_count": 32,
   "id": "9344d79b",
   "metadata": {
    "execution": {
     "iopub.execute_input": "2022-08-18T18:46:45.528138Z",
     "iopub.status.busy": "2022-08-18T18:46:45.527618Z",
     "iopub.status.idle": "2022-08-18T18:46:45.534333Z",
     "shell.execute_reply": "2022-08-18T18:46:45.532945Z"
    },
    "papermill": {
     "duration": 0.051125,
     "end_time": "2022-08-18T18:46:45.536757",
     "exception": false,
     "start_time": "2022-08-18T18:46:45.485632",
     "status": "completed"
    },
    "tags": []
   },
   "outputs": [],
   "source": [
    "all_data['BsmtExposure']=all_data['BsmtExposure'].fillna('None')"
   ]
  },
  {
   "cell_type": "code",
   "execution_count": 33,
   "id": "73d89dcc",
   "metadata": {
    "execution": {
     "iopub.execute_input": "2022-08-18T18:46:45.621236Z",
     "iopub.status.busy": "2022-08-18T18:46:45.620651Z",
     "iopub.status.idle": "2022-08-18T18:46:45.627757Z",
     "shell.execute_reply": "2022-08-18T18:46:45.626349Z"
    },
    "papermill": {
     "duration": 0.053166,
     "end_time": "2022-08-18T18:46:45.630773",
     "exception": false,
     "start_time": "2022-08-18T18:46:45.577607",
     "status": "completed"
    },
    "tags": []
   },
   "outputs": [],
   "source": [
    "all_data['BsmtFinType2']=all_data['BsmtFinType2'].fillna('None')"
   ]
  },
  {
   "cell_type": "code",
   "execution_count": 34,
   "id": "c13a2625",
   "metadata": {
    "execution": {
     "iopub.execute_input": "2022-08-18T18:46:45.714296Z",
     "iopub.status.busy": "2022-08-18T18:46:45.713543Z",
     "iopub.status.idle": "2022-08-18T18:46:45.719080Z",
     "shell.execute_reply": "2022-08-18T18:46:45.718130Z"
    },
    "papermill": {
     "duration": 0.050116,
     "end_time": "2022-08-18T18:46:45.721336",
     "exception": false,
     "start_time": "2022-08-18T18:46:45.671220",
     "status": "completed"
    },
    "tags": []
   },
   "outputs": [],
   "source": [
    "all_data['BsmtFinSF1']=all_data['BsmtFinSF1'].fillna(0)"
   ]
  },
  {
   "cell_type": "code",
   "execution_count": 35,
   "id": "dd24e93c",
   "metadata": {
    "execution": {
     "iopub.execute_input": "2022-08-18T18:46:45.807949Z",
     "iopub.status.busy": "2022-08-18T18:46:45.807236Z",
     "iopub.status.idle": "2022-08-18T18:46:45.813513Z",
     "shell.execute_reply": "2022-08-18T18:46:45.812292Z"
    },
    "papermill": {
     "duration": 0.052093,
     "end_time": "2022-08-18T18:46:45.816602",
     "exception": false,
     "start_time": "2022-08-18T18:46:45.764509",
     "status": "completed"
    },
    "tags": []
   },
   "outputs": [],
   "source": [
    "all_data['BsmtFinSF2']=all_data['BsmtFinSF2'].fillna(0)"
   ]
  },
  {
   "cell_type": "code",
   "execution_count": 36,
   "id": "039a3a63",
   "metadata": {
    "execution": {
     "iopub.execute_input": "2022-08-18T18:46:45.900562Z",
     "iopub.status.busy": "2022-08-18T18:46:45.898887Z",
     "iopub.status.idle": "2022-08-18T18:46:45.907694Z",
     "shell.execute_reply": "2022-08-18T18:46:45.906178Z"
    },
    "papermill": {
     "duration": 0.053997,
     "end_time": "2022-08-18T18:46:45.910898",
     "exception": false,
     "start_time": "2022-08-18T18:46:45.856901",
     "status": "completed"
    },
    "tags": []
   },
   "outputs": [],
   "source": [
    "all_data['BsmtFullBath']=all_data['BsmtFullBath'].fillna(0)"
   ]
  },
  {
   "cell_type": "code",
   "execution_count": 37,
   "id": "79661eaf",
   "metadata": {
    "execution": {
     "iopub.execute_input": "2022-08-18T18:46:45.997686Z",
     "iopub.status.busy": "2022-08-18T18:46:45.996735Z",
     "iopub.status.idle": "2022-08-18T18:46:46.003967Z",
     "shell.execute_reply": "2022-08-18T18:46:46.002815Z"
    },
    "papermill": {
     "duration": 0.053929,
     "end_time": "2022-08-18T18:46:46.006942",
     "exception": false,
     "start_time": "2022-08-18T18:46:45.953013",
     "status": "completed"
    },
    "tags": []
   },
   "outputs": [],
   "source": [
    "all_data['BsmtHalfBath']=all_data['BsmtHalfBath'].fillna(0)"
   ]
  },
  {
   "cell_type": "code",
   "execution_count": 38,
   "id": "3c792387",
   "metadata": {
    "execution": {
     "iopub.execute_input": "2022-08-18T18:46:46.092477Z",
     "iopub.status.busy": "2022-08-18T18:46:46.091560Z",
     "iopub.status.idle": "2022-08-18T18:46:46.098730Z",
     "shell.execute_reply": "2022-08-18T18:46:46.097345Z"
    },
    "papermill": {
     "duration": 0.053187,
     "end_time": "2022-08-18T18:46:46.101477",
     "exception": false,
     "start_time": "2022-08-18T18:46:46.048290",
     "status": "completed"
    },
    "tags": []
   },
   "outputs": [],
   "source": [
    "all_data['TotalBsmtSF']=all_data['TotalBsmtSF'].fillna(0)"
   ]
  },
  {
   "cell_type": "code",
   "execution_count": 39,
   "id": "4c951a71",
   "metadata": {
    "execution": {
     "iopub.execute_input": "2022-08-18T18:46:46.185485Z",
     "iopub.status.busy": "2022-08-18T18:46:46.184925Z",
     "iopub.status.idle": "2022-08-18T18:46:46.191909Z",
     "shell.execute_reply": "2022-08-18T18:46:46.190595Z"
    },
    "papermill": {
     "duration": 0.050955,
     "end_time": "2022-08-18T18:46:46.194287",
     "exception": false,
     "start_time": "2022-08-18T18:46:46.143332",
     "status": "completed"
    },
    "tags": []
   },
   "outputs": [],
   "source": [
    "all_data['BsmtUnfSF']=all_data['BsmtUnfSF'].fillna(0)"
   ]
  },
  {
   "cell_type": "code",
   "execution_count": 40,
   "id": "412568ee",
   "metadata": {
    "execution": {
     "iopub.execute_input": "2022-08-18T18:46:46.277257Z",
     "iopub.status.busy": "2022-08-18T18:46:46.276372Z",
     "iopub.status.idle": "2022-08-18T18:46:46.623259Z",
     "shell.execute_reply": "2022-08-18T18:46:46.622338Z"
    },
    "papermill": {
     "duration": 0.391653,
     "end_time": "2022-08-18T18:46:46.625959",
     "exception": false,
     "start_time": "2022-08-18T18:46:46.234306",
     "status": "completed"
    },
    "tags": []
   },
   "outputs": [
    {
     "data": {
      "text/plain": [
       "(0.0, 2.0)"
      ]
     },
     "execution_count": 40,
     "metadata": {},
     "output_type": "execute_result"
    },
    {
     "data": {
      "image/png": "[encoded data removed]",
      "text/plain": [
       "<Figure size 432x288 with 1 Axes>"
      ]
     },
     "metadata": {
      "needs_background": "light"
     },
     "output_type": "display_data"
    }
   ],
   "source": [
    "per_miss=percent_missing(all_data)\n",
    "sns.barplot(x=per_miss.index,y=per_miss)\n",
    "plt.xticks(rotation=90);\n",
    "plt.ylim(0,2)"
   ]
  },
  {
   "cell_type": "markdown",
   "id": "6399f8c3",
   "metadata": {
    "papermill": {
     "duration": 0.03959,
     "end_time": "2022-08-18T18:46:46.707402",
     "exception": false,
     "start_time": "2022-08-18T18:46:46.667812",
     "status": "completed"
    },
    "tags": []
   },
   "source": [
    "### Garage Columns\n",
    "Based on the data description, these NaN seem to indicate no garage, so we will substitute with \"None\" or 0."
   ]
  },
  {
   "cell_type": "code",
   "execution_count": 41,
   "id": "1baee3eb",
   "metadata": {
    "execution": {
     "iopub.execute_input": "2022-08-18T18:46:46.791008Z",
     "iopub.status.busy": "2022-08-18T18:46:46.790215Z",
     "iopub.status.idle": "2022-08-18T18:46:46.796941Z",
     "shell.execute_reply": "2022-08-18T18:46:46.795674Z"
    },
    "papermill": {
     "duration": 0.052787,
     "end_time": "2022-08-18T18:46:46.799944",
     "exception": false,
     "start_time": "2022-08-18T18:46:46.747157",
     "status": "completed"
    },
    "tags": []
   },
   "outputs": [],
   "source": [
    "all_data['GarageType']=all_data['GarageType'].fillna('None')"
   ]
  },
  {
   "cell_type": "code",
   "execution_count": 42,
   "id": "f136b308",
   "metadata": {
    "execution": {
     "iopub.execute_input": "2022-08-18T18:46:46.884785Z",
     "iopub.status.busy": "2022-08-18T18:46:46.883429Z",
     "iopub.status.idle": "2022-08-18T18:46:46.890422Z",
     "shell.execute_reply": "2022-08-18T18:46:46.889496Z"
    },
    "papermill": {
     "duration": 0.050422,
     "end_time": "2022-08-18T18:46:46.892900",
     "exception": false,
     "start_time": "2022-08-18T18:46:46.842478",
     "status": "completed"
    },
    "tags": []
   },
   "outputs": [],
   "source": [
    "all_data['GarageYrBlt']=all_data['GarageYrBlt'].fillna(0.0)"
   ]
  },
  {
   "cell_type": "code",
   "execution_count": 43,
   "id": "262546d6",
   "metadata": {
    "execution": {
     "iopub.execute_input": "2022-08-18T18:46:46.975204Z",
     "iopub.status.busy": "2022-08-18T18:46:46.973735Z",
     "iopub.status.idle": "2022-08-18T18:46:46.981391Z",
     "shell.execute_reply": "2022-08-18T18:46:46.980386Z"
    },
    "papermill": {
     "duration": 0.051798,
     "end_time": "2022-08-18T18:46:46.984118",
     "exception": false,
     "start_time": "2022-08-18T18:46:46.932320",
     "status": "completed"
    },
    "tags": []
   },
   "outputs": [],
   "source": [
    "all_data['GarageFinish']=all_data['GarageFinish'].fillna('None')"
   ]
  },
  {
   "cell_type": "code",
   "execution_count": 44,
   "id": "7b26e3c5",
   "metadata": {
    "execution": {
     "iopub.execute_input": "2022-08-18T18:46:47.065859Z",
     "iopub.status.busy": "2022-08-18T18:46:47.064907Z",
     "iopub.status.idle": "2022-08-18T18:46:47.072039Z",
     "shell.execute_reply": "2022-08-18T18:46:47.071127Z"
    },
    "papermill": {
     "duration": 0.051068,
     "end_time": "2022-08-18T18:46:47.074647",
     "exception": false,
     "start_time": "2022-08-18T18:46:47.023579",
     "status": "completed"
    },
    "tags": []
   },
   "outputs": [],
   "source": [
    "all_data['GarageQual']=all_data['GarageQual'].fillna('None')"
   ]
  },
  {
   "cell_type": "code",
   "execution_count": 45,
   "id": "fd77f990",
   "metadata": {
    "execution": {
     "iopub.execute_input": "2022-08-18T18:46:47.157113Z",
     "iopub.status.busy": "2022-08-18T18:46:47.156192Z",
     "iopub.status.idle": "2022-08-18T18:46:47.163548Z",
     "shell.execute_reply": "2022-08-18T18:46:47.162273Z"
    },
    "papermill": {
     "duration": 0.051285,
     "end_time": "2022-08-18T18:46:47.166166",
     "exception": false,
     "start_time": "2022-08-18T18:46:47.114881",
     "status": "completed"
    },
    "tags": []
   },
   "outputs": [],
   "source": [
    "all_data['GarageCond']=all_data['GarageCond'].fillna('None')"
   ]
  },
  {
   "cell_type": "code",
   "execution_count": 46,
   "id": "39dd4247",
   "metadata": {
    "execution": {
     "iopub.execute_input": "2022-08-18T18:46:47.340452Z",
     "iopub.status.busy": "2022-08-18T18:46:47.339344Z",
     "iopub.status.idle": "2022-08-18T18:46:47.346853Z",
     "shell.execute_reply": "2022-08-18T18:46:47.345573Z"
    },
    "papermill": {
     "duration": 0.142067,
     "end_time": "2022-08-18T18:46:47.349685",
     "exception": false,
     "start_time": "2022-08-18T18:46:47.207618",
     "status": "completed"
    },
    "tags": []
   },
   "outputs": [],
   "source": [
    "all_data['GarageArea']=all_data['GarageArea'].fillna(0)"
   ]
  },
  {
   "cell_type": "code",
   "execution_count": 47,
   "id": "a9bf5e19",
   "metadata": {
    "execution": {
     "iopub.execute_input": "2022-08-18T18:46:47.439389Z",
     "iopub.status.busy": "2022-08-18T18:46:47.437882Z",
     "iopub.status.idle": "2022-08-18T18:46:47.444635Z",
     "shell.execute_reply": "2022-08-18T18:46:47.443353Z"
    },
    "papermill": {
     "duration": 0.053356,
     "end_time": "2022-08-18T18:46:47.447154",
     "exception": false,
     "start_time": "2022-08-18T18:46:47.393798",
     "status": "completed"
    },
    "tags": []
   },
   "outputs": [],
   "source": [
    "all_data['GarageCars']=all_data['GarageCars'].fillna(0)"
   ]
  },
  {
   "cell_type": "code",
   "execution_count": 48,
   "id": "a37b4cf4",
   "metadata": {
    "execution": {
     "iopub.execute_input": "2022-08-18T18:46:47.533645Z",
     "iopub.status.busy": "2022-08-18T18:46:47.532797Z",
     "iopub.status.idle": "2022-08-18T18:46:47.833441Z",
     "shell.execute_reply": "2022-08-18T18:46:47.832153Z"
    },
    "papermill": {
     "duration": 0.347256,
     "end_time": "2022-08-18T18:46:47.836420",
     "exception": false,
     "start_time": "2022-08-18T18:46:47.489164",
     "status": "completed"
    },
    "tags": []
   },
   "outputs": [
    {
     "data": {
      "text/plain": [
       "(0.0, 10.0)"
      ]
     },
     "execution_count": 48,
     "metadata": {},
     "output_type": "execute_result"
    },
    {
     "data": {
      "image/png": "[encoded data removed]",
      "text/plain": [
       "<Figure size 432x288 with 1 Axes>"
      ]
     },
     "metadata": {
      "needs_background": "light"
     },
     "output_type": "display_data"
    }
   ],
   "source": [
    "per_miss=percent_missing(all_data)\n",
    "sns.barplot(x=per_miss.index,y=per_miss)\n",
    "plt.xticks(rotation=90);\n",
    "plt.ylim(0,10)"
   ]
  },
  {
   "cell_type": "code",
   "execution_count": 49,
   "id": "1089157a",
   "metadata": {
    "execution": {
     "iopub.execute_input": "2022-08-18T18:46:47.923586Z",
     "iopub.status.busy": "2022-08-18T18:46:47.923074Z",
     "iopub.status.idle": "2022-08-18T18:46:47.931990Z",
     "shell.execute_reply": "2022-08-18T18:46:47.930698Z"
    },
    "papermill": {
     "duration": 0.055789,
     "end_time": "2022-08-18T18:46:47.934559",
     "exception": false,
     "start_time": "2022-08-18T18:46:47.878770",
     "status": "completed"
    },
    "tags": []
   },
   "outputs": [],
   "source": [
    "all_data['Exterior1st']=all_data['Exterior1st'].fillna('None')"
   ]
  },
  {
   "cell_type": "code",
   "execution_count": 50,
   "id": "6817c587",
   "metadata": {
    "execution": {
     "iopub.execute_input": "2022-08-18T18:46:48.022624Z",
     "iopub.status.busy": "2022-08-18T18:46:48.021500Z",
     "iopub.status.idle": "2022-08-18T18:46:48.028221Z",
     "shell.execute_reply": "2022-08-18T18:46:48.027165Z"
    },
    "papermill": {
     "duration": 0.054162,
     "end_time": "2022-08-18T18:46:48.030745",
     "exception": false,
     "start_time": "2022-08-18T18:46:47.976583",
     "status": "completed"
    },
    "tags": []
   },
   "outputs": [],
   "source": [
    "all_data['Exterior2nd']=all_data['Exterior2nd'].fillna('None')"
   ]
  },
  {
   "cell_type": "code",
   "execution_count": 51,
   "id": "835cf4bc",
   "metadata": {
    "execution": {
     "iopub.execute_input": "2022-08-18T18:46:48.114810Z",
     "iopub.status.busy": "2022-08-18T18:46:48.114098Z",
     "iopub.status.idle": "2022-08-18T18:46:48.119986Z",
     "shell.execute_reply": "2022-08-18T18:46:48.119037Z"
    },
    "papermill": {
     "duration": 0.050831,
     "end_time": "2022-08-18T18:46:48.122456",
     "exception": false,
     "start_time": "2022-08-18T18:46:48.071625",
     "status": "completed"
    },
    "tags": []
   },
   "outputs": [],
   "source": [
    "all_data['KitchenQual']=all_data['KitchenQual'].fillna('None')"
   ]
  },
  {
   "cell_type": "code",
   "execution_count": 52,
   "id": "5ac3fb7c",
   "metadata": {
    "execution": {
     "iopub.execute_input": "2022-08-18T18:46:48.206521Z",
     "iopub.status.busy": "2022-08-18T18:46:48.205703Z",
     "iopub.status.idle": "2022-08-18T18:46:48.212237Z",
     "shell.execute_reply": "2022-08-18T18:46:48.211172Z"
    },
    "papermill": {
     "duration": 0.05167,
     "end_time": "2022-08-18T18:46:48.214972",
     "exception": false,
     "start_time": "2022-08-18T18:46:48.163302",
     "status": "completed"
    },
    "tags": []
   },
   "outputs": [],
   "source": [
    "all_data['SaleType']=all_data['SaleType'].fillna('None')"
   ]
  },
  {
   "cell_type": "code",
   "execution_count": 53,
   "id": "5cd2ef1f",
   "metadata": {
    "execution": {
     "iopub.execute_input": "2022-08-18T18:46:48.300150Z",
     "iopub.status.busy": "2022-08-18T18:46:48.299325Z",
     "iopub.status.idle": "2022-08-18T18:46:48.306503Z",
     "shell.execute_reply": "2022-08-18T18:46:48.305030Z"
    },
    "papermill": {
     "duration": 0.052761,
     "end_time": "2022-08-18T18:46:48.309304",
     "exception": false,
     "start_time": "2022-08-18T18:46:48.256543",
     "status": "completed"
    },
    "tags": []
   },
   "outputs": [],
   "source": [
    "all_data['Functional']=all_data['Functional'].fillna('None')"
   ]
  },
  {
   "cell_type": "code",
   "execution_count": 54,
   "id": "c300c83e",
   "metadata": {
    "execution": {
     "iopub.execute_input": "2022-08-18T18:46:48.392533Z",
     "iopub.status.busy": "2022-08-18T18:46:48.392036Z",
     "iopub.status.idle": "2022-08-18T18:46:48.399020Z",
     "shell.execute_reply": "2022-08-18T18:46:48.397803Z"
    },
    "papermill": {
     "duration": 0.051357,
     "end_time": "2022-08-18T18:46:48.401455",
     "exception": false,
     "start_time": "2022-08-18T18:46:48.350098",
     "status": "completed"
    },
    "tags": []
   },
   "outputs": [],
   "source": [
    "all_data['MSZoning']=all_data['MSZoning'].fillna('None')"
   ]
  },
  {
   "cell_type": "code",
   "execution_count": 55,
   "id": "685e1471",
   "metadata": {
    "execution": {
     "iopub.execute_input": "2022-08-18T18:46:48.484513Z",
     "iopub.status.busy": "2022-08-18T18:46:48.483876Z",
     "iopub.status.idle": "2022-08-18T18:46:48.710530Z",
     "shell.execute_reply": "2022-08-18T18:46:48.709098Z"
    },
    "papermill": {
     "duration": 0.271381,
     "end_time": "2022-08-18T18:46:48.713225",
     "exception": false,
     "start_time": "2022-08-18T18:46:48.441844",
     "status": "completed"
    },
    "tags": []
   },
   "outputs": [
    {
     "data": {
      "text/plain": [
       "(0.0, 100.0)"
      ]
     },
     "execution_count": 55,
     "metadata": {},
     "output_type": "execute_result"
    },
    {
     "data": {
      "image/png": "[encoded data removed]",
      "text/plain": [
       "<Figure size 432x288 with 1 Axes>"
      ]
     },
     "metadata": {
      "needs_background": "light"
     },
     "output_type": "display_data"
    }
   ],
   "source": [
    "per_miss=percent_missing(all_data)\n",
    "sns.barplot(x=per_miss.index,y=per_miss)\n",
    "plt.xticks(rotation=90);\n",
    "plt.ylim(0,100)"
   ]
  },
  {
   "cell_type": "code",
   "execution_count": 56,
   "id": "cfdc0251",
   "metadata": {
    "execution": {
     "iopub.execute_input": "2022-08-18T18:46:48.795626Z",
     "iopub.status.busy": "2022-08-18T18:46:48.795109Z",
     "iopub.status.idle": "2022-08-18T18:46:48.804491Z",
     "shell.execute_reply": "2022-08-18T18:46:48.803474Z"
    },
    "papermill": {
     "duration": 0.053632,
     "end_time": "2022-08-18T18:46:48.807126",
     "exception": false,
     "start_time": "2022-08-18T18:46:48.753494",
     "status": "completed"
    },
    "tags": []
   },
   "outputs": [],
   "source": [
    "all_data.drop('Utilities',axis=1,inplace=True)"
   ]
  },
  {
   "cell_type": "markdown",
   "id": "9fc7ba82",
   "metadata": {
    "papermill": {
     "duration": 0.040033,
     "end_time": "2022-08-18T18:46:48.889370",
     "exception": false,
     "start_time": "2022-08-18T18:46:48.849337",
     "status": "completed"
    },
    "tags": []
   },
   "source": [
    "## Dropping Feature Columns\n",
    "\n",
    "Sometimes you may want to take the approach that above a certain missing percentage threshold, you will simply remove the feature from all the data. For example if 99% of rows are missing a feature, it will not be predictive, since almost all the data does not have any value for it. In our particular data set, many of these high percentage NaN features are actually plasceholders for \"none\" or 0. But for the sake of showing variations on dealing with missing data, we will remove these features, instead of filling them in with the appropriate value."
   ]
  },
  {
   "cell_type": "code",
   "execution_count": 57,
   "id": "d4d20de8",
   "metadata": {
    "execution": {
     "iopub.execute_input": "2022-08-18T18:46:48.973592Z",
     "iopub.status.busy": "2022-08-18T18:46:48.973097Z",
     "iopub.status.idle": "2022-08-18T18:46:48.981901Z",
     "shell.execute_reply": "2022-08-18T18:46:48.980808Z"
    },
    "papermill": {
     "duration": 0.053677,
     "end_time": "2022-08-18T18:46:48.984418",
     "exception": false,
     "start_time": "2022-08-18T18:46:48.930741",
     "status": "completed"
    },
    "tags": []
   },
   "outputs": [],
   "source": [
    "all_data=all_data.drop(['Fence','Alley','MiscFeature','PoolQC'],axis=1)"
   ]
  },
  {
   "cell_type": "code",
   "execution_count": 58,
   "id": "dc38905d",
   "metadata": {
    "execution": {
     "iopub.execute_input": "2022-08-18T18:46:49.067512Z",
     "iopub.status.busy": "2022-08-18T18:46:49.066675Z",
     "iopub.status.idle": "2022-08-18T18:46:49.251151Z",
     "shell.execute_reply": "2022-08-18T18:46:49.249860Z"
    },
    "papermill": {
     "duration": 0.229341,
     "end_time": "2022-08-18T18:46:49.254005",
     "exception": false,
     "start_time": "2022-08-18T18:46:49.024664",
     "status": "completed"
    },
    "tags": []
   },
   "outputs": [
    {
     "data": {
      "text/plain": [
       "(0.0, 100.0)"
      ]
     },
     "execution_count": 58,
     "metadata": {},
     "output_type": "execute_result"
    },
    {
     "data": {
      "image/png": "[encoded data removed]",
      "text/plain": [
       "<Figure size 432x288 with 1 Axes>"
      ]
     },
     "metadata": {
      "needs_background": "light"
     },
     "output_type": "display_data"
    }
   ],
   "source": [
    "per_miss=percent_missing(all_data)\n",
    "sns.barplot(x=per_miss.index,y=per_miss)\n",
    "plt.xticks(rotation=90);\n",
    "plt.ylim(0,100)"
   ]
  },
  {
   "cell_type": "markdown",
   "id": "ae6f7e05",
   "metadata": {
    "papermill": {
     "duration": 0.040763,
     "end_time": "2022-08-18T18:46:49.335827",
     "exception": false,
     "start_time": "2022-08-18T18:46:49.295064",
     "status": "completed"
    },
    "tags": []
   },
   "source": [
    "### Filling in Fireplace Quality based on Description Text"
   ]
  },
  {
   "cell_type": "code",
   "execution_count": 59,
   "id": "5d2d10a9",
   "metadata": {
    "execution": {
     "iopub.execute_input": "2022-08-18T18:46:49.419057Z",
     "iopub.status.busy": "2022-08-18T18:46:49.418584Z",
     "iopub.status.idle": "2022-08-18T18:46:49.425634Z",
     "shell.execute_reply": "2022-08-18T18:46:49.424656Z"
    },
    "papermill": {
     "duration": 0.051344,
     "end_time": "2022-08-18T18:46:49.427980",
     "exception": false,
     "start_time": "2022-08-18T18:46:49.376636",
     "status": "completed"
    },
    "tags": []
   },
   "outputs": [],
   "source": [
    "all_data['FireplaceQu']=all_data['FireplaceQu'].fillna('None')"
   ]
  },
  {
   "cell_type": "code",
   "execution_count": 60,
   "id": "08347fff",
   "metadata": {
    "execution": {
     "iopub.execute_input": "2022-08-18T18:46:49.512593Z",
     "iopub.status.busy": "2022-08-18T18:46:49.511734Z",
     "iopub.status.idle": "2022-08-18T18:46:49.695535Z",
     "shell.execute_reply": "2022-08-18T18:46:49.694273Z"
    },
    "papermill": {
     "duration": 0.229313,
     "end_time": "2022-08-18T18:46:49.698378",
     "exception": false,
     "start_time": "2022-08-18T18:46:49.469065",
     "status": "completed"
    },
    "tags": []
   },
   "outputs": [
    {
     "data": {
      "image/png": "[encoded data removed]",
      "text/plain": [
       "<Figure size 432x288 with 1 Axes>"
      ]
     },
     "metadata": {
      "needs_background": "light"
     },
     "output_type": "display_data"
    }
   ],
   "source": [
    "per_miss=percent_missing(all_data)\n",
    "sns.barplot(x=per_miss.index,y=per_miss)\n",
    "plt.xticks(rotation=90);\n"
   ]
  },
  {
   "cell_type": "markdown",
   "id": "931adbe3",
   "metadata": {
    "papermill": {
     "duration": 0.041632,
     "end_time": "2022-08-18T18:46:49.781836",
     "exception": false,
     "start_time": "2022-08-18T18:46:49.740204",
     "status": "completed"
    },
    "tags": []
   },
   "source": [
    "### Imputation of Missing Data\n",
    "To impute missing data, we need to decide what other filled in (no NaN values) feature most probably relates and is correlated with the missing feature data."
   ]
  },
  {
   "cell_type": "code",
   "execution_count": 61,
   "id": "20e238b1",
   "metadata": {
    "execution": {
     "iopub.execute_input": "2022-08-18T18:46:49.867317Z",
     "iopub.status.busy": "2022-08-18T18:46:49.866773Z",
     "iopub.status.idle": "2022-08-18T18:46:50.262542Z",
     "shell.execute_reply": "2022-08-18T18:46:50.261150Z"
    },
    "papermill": {
     "duration": 0.442394,
     "end_time": "2022-08-18T18:46:50.265412",
     "exception": false,
     "start_time": "2022-08-18T18:46:49.823018",
     "status": "completed"
    },
    "tags": []
   },
   "outputs": [],
   "source": [
    "from sklearn.impute import KNNImputer"
   ]
  },
  {
   "cell_type": "code",
   "execution_count": 62,
   "id": "1aecc014",
   "metadata": {
    "execution": {
     "iopub.execute_input": "2022-08-18T18:46:50.351361Z",
     "iopub.status.busy": "2022-08-18T18:46:50.350420Z",
     "iopub.status.idle": "2022-08-18T18:46:50.491206Z",
     "shell.execute_reply": "2022-08-18T18:46:50.489336Z"
    },
    "papermill": {
     "duration": 0.188546,
     "end_time": "2022-08-18T18:46:50.496269",
     "exception": false,
     "start_time": "2022-08-18T18:46:50.307723",
     "status": "completed"
    },
    "tags": []
   },
   "outputs": [],
   "source": [
    "imputer = KNNImputer(n_neighbors=2, weights=\"uniform\")\n",
    "all_data['LotFrontage']=imputer.fit_transform(all_data[['LotFrontage']])\n"
   ]
  },
  {
   "cell_type": "code",
   "execution_count": 63,
   "id": "00054d91",
   "metadata": {
    "execution": {
     "iopub.execute_input": "2022-08-18T18:46:50.600264Z",
     "iopub.status.busy": "2022-08-18T18:46:50.599767Z",
     "iopub.status.idle": "2022-08-18T18:46:50.608420Z",
     "shell.execute_reply": "2022-08-18T18:46:50.607310Z"
    },
    "papermill": {
     "duration": 0.053205,
     "end_time": "2022-08-18T18:46:50.610863",
     "exception": false,
     "start_time": "2022-08-18T18:46:50.557658",
     "status": "completed"
    },
    "tags": []
   },
   "outputs": [
    {
     "data": {
      "text/plain": [
       "0"
      ]
     },
     "execution_count": 63,
     "metadata": {},
     "output_type": "execute_result"
    }
   ],
   "source": [
    "all_data['LotFrontage'].isnull().sum()"
   ]
  },
  {
   "cell_type": "code",
   "execution_count": 64,
   "id": "33538e31",
   "metadata": {
    "execution": {
     "iopub.execute_input": "2022-08-18T18:46:50.695687Z",
     "iopub.status.busy": "2022-08-18T18:46:50.695214Z",
     "iopub.status.idle": "2022-08-18T18:46:50.709212Z",
     "shell.execute_reply": "2022-08-18T18:46:50.708029Z"
    },
    "papermill": {
     "duration": 0.060117,
     "end_time": "2022-08-18T18:46:50.712227",
     "exception": false,
     "start_time": "2022-08-18T18:46:50.652110",
     "status": "completed"
    },
    "tags": []
   },
   "outputs": [],
   "source": [
    "per_miss=percent_missing(all_data)\n"
   ]
  },
  {
   "cell_type": "code",
   "execution_count": 65,
   "id": "ead3fb5d",
   "metadata": {
    "execution": {
     "iopub.execute_input": "2022-08-18T18:46:50.797579Z",
     "iopub.status.busy": "2022-08-18T18:46:50.796190Z",
     "iopub.status.idle": "2022-08-18T18:46:50.804083Z",
     "shell.execute_reply": "2022-08-18T18:46:50.803234Z"
    },
    "papermill": {
     "duration": 0.052693,
     "end_time": "2022-08-18T18:46:50.806400",
     "exception": false,
     "start_time": "2022-08-18T18:46:50.753707",
     "status": "completed"
    },
    "tags": []
   },
   "outputs": [
    {
     "data": {
      "text/plain": [
       "Series([], dtype: float64)"
      ]
     },
     "execution_count": 65,
     "metadata": {},
     "output_type": "execute_result"
    }
   ],
   "source": [
    "per_miss"
   ]
  },
  {
   "cell_type": "markdown",
   "id": "f9cab829",
   "metadata": {
    "papermill": {
     "duration": 0.040965,
     "end_time": "2022-08-18T18:46:50.888817",
     "exception": false,
     "start_time": "2022-08-18T18:46:50.847852",
     "status": "completed"
    },
    "tags": []
   },
   "source": [
    "Great! We no longer have any missing data in our entire data set."
   ]
  },
  {
   "cell_type": "code",
   "execution_count": 66,
   "id": "fd9a81d4",
   "metadata": {
    "execution": {
     "iopub.execute_input": "2022-08-18T18:46:50.975126Z",
     "iopub.status.busy": "2022-08-18T18:46:50.974579Z",
     "iopub.status.idle": "2022-08-18T18:46:50.979710Z",
     "shell.execute_reply": "2022-08-18T18:46:50.978379Z"
    },
    "papermill": {
     "duration": 0.050478,
     "end_time": "2022-08-18T18:46:50.982141",
     "exception": false,
     "start_time": "2022-08-18T18:46:50.931663",
     "status": "completed"
    },
    "tags": []
   },
   "outputs": [],
   "source": [
    "#all_data"
   ]
  },
  {
   "cell_type": "code",
   "execution_count": 67,
   "id": "b6148877",
   "metadata": {
    "execution": {
     "iopub.execute_input": "2022-08-18T18:46:51.067973Z",
     "iopub.status.busy": "2022-08-18T18:46:51.066692Z",
     "iopub.status.idle": "2022-08-18T18:46:51.082418Z",
     "shell.execute_reply": "2022-08-18T18:46:51.081026Z"
    },
    "papermill": {
     "duration": 0.062514,
     "end_time": "2022-08-18T18:46:51.085734",
     "exception": false,
     "start_time": "2022-08-18T18:46:51.023220",
     "status": "completed"
    },
    "tags": []
   },
   "outputs": [],
   "source": [
    "all_data['MSSubClass'] = all_data['MSSubClass'].apply(str)\n",
    "all_data['YrSold'] = all_data['YrSold'].astype(str)\n",
    "all_data['MoSold'] = all_data['MoSold'].astype(str)"
   ]
  },
  {
   "cell_type": "code",
   "execution_count": 68,
   "id": "8ace10e6",
   "metadata": {
    "execution": {
     "iopub.execute_input": "2022-08-18T18:46:51.171138Z",
     "iopub.status.busy": "2022-08-18T18:46:51.170641Z",
     "iopub.status.idle": "2022-08-18T18:46:51.178011Z",
     "shell.execute_reply": "2022-08-18T18:46:51.177122Z"
    },
    "papermill": {
     "duration": 0.052605,
     "end_time": "2022-08-18T18:46:51.180458",
     "exception": false,
     "start_time": "2022-08-18T18:46:51.127853",
     "status": "completed"
    },
    "tags": []
   },
   "outputs": [
    {
     "data": {
      "text/plain": [
       "(2919, 74)"
      ]
     },
     "execution_count": 68,
     "metadata": {},
     "output_type": "execute_result"
    }
   ],
   "source": [
    "all_data.shape"
   ]
  },
  {
   "cell_type": "code",
   "execution_count": 69,
   "id": "f45a2afa",
   "metadata": {
    "execution": {
     "iopub.execute_input": "2022-08-18T18:46:51.266891Z",
     "iopub.status.busy": "2022-08-18T18:46:51.265818Z",
     "iopub.status.idle": "2022-08-18T18:46:51.274079Z",
     "shell.execute_reply": "2022-08-18T18:46:51.273083Z"
    },
    "papermill": {
     "duration": 0.054214,
     "end_time": "2022-08-18T18:46:51.276671",
     "exception": false,
     "start_time": "2022-08-18T18:46:51.222457",
     "status": "completed"
    },
    "tags": []
   },
   "outputs": [],
   "source": [
    "train_data = all_data[:len(train)]\n",
    "train_data[\"SalePrice\"] = SalePrice\n",
    "test_data = all_data[len(train):]"
   ]
  },
  {
   "cell_type": "markdown",
   "id": "88f46448",
   "metadata": {
    "papermill": {
     "duration": 0.040599,
     "end_time": "2022-08-18T18:46:51.358299",
     "exception": false,
     "start_time": "2022-08-18T18:46:51.317700",
     "status": "completed"
    },
    "tags": []
   },
   "source": [
    "# Dealing with Outliers\n",
    "\n",
    "In statistics, an outlier is a data point that differs significantly from other observations.An outlier may be due to variability in the measurement or it may indicate experimental error; the latter are sometimes excluded from the data set. An outlier can cause serious problems in statistical analyses.\n",
    "\n",
    "Remember that even if a data point is an outlier, its still a data point! Carefully consider your data, its sources, and your goals whenever deciding to remove an outlier. Each case is different!\n"
   ]
  },
  {
   "cell_type": "code",
   "execution_count": 70,
   "id": "e205681f",
   "metadata": {
    "execution": {
     "iopub.execute_input": "2022-08-18T18:46:51.443468Z",
     "iopub.status.busy": "2022-08-18T18:46:51.442371Z",
     "iopub.status.idle": "2022-08-18T18:46:51.679892Z",
     "shell.execute_reply": "2022-08-18T18:46:51.678443Z"
    },
    "papermill": {
     "duration": 0.283391,
     "end_time": "2022-08-18T18:46:51.682702",
     "exception": false,
     "start_time": "2022-08-18T18:46:51.399311",
     "status": "completed"
    },
    "tags": []
   },
   "outputs": [
    {
     "data": {
      "text/plain": [
       "<AxesSubplot:xlabel='OverallQual', ylabel='SalePrice'>"
      ]
     },
     "execution_count": 70,
     "metadata": {},
     "output_type": "execute_result"
    },
    {
     "data": {
      "image/png": "[encoded data removed]",
      "text/plain": [
       "<Figure size 432x288 with 1 Axes>"
      ]
     },
     "metadata": {
      "needs_background": "light"
     },
     "output_type": "display_data"
    }
   ],
   "source": [
    "sns.scatterplot(x='OverallQual',y='SalePrice',data=train_data)"
   ]
  },
  {
   "cell_type": "code",
   "execution_count": 71,
   "id": "cadf34f0",
   "metadata": {
    "execution": {
     "iopub.execute_input": "2022-08-18T18:46:51.770368Z",
     "iopub.status.busy": "2022-08-18T18:46:51.769821Z",
     "iopub.status.idle": "2022-08-18T18:46:51.797526Z",
     "shell.execute_reply": "2022-08-18T18:46:51.796085Z"
    },
    "papermill": {
     "duration": 0.074744,
     "end_time": "2022-08-18T18:46:51.800312",
     "exception": false,
     "start_time": "2022-08-18T18:46:51.725568",
     "status": "completed"
    },
    "tags": []
   },
   "outputs": [
    {
     "data": {
      "text/html": [
       "<div>\n",
       "<style scoped>\n",
       "    .dataframe tbody tr th:only-of-type {\n",
       "        vertical-align: middle;\n",
       "    }\n",
       "\n",
       "    .dataframe tbody tr th {\n",
       "        vertical-align: top;\n",
       "    }\n",
       "\n",
       "    .dataframe thead th {\n",
       "        text-align: right;\n",
       "    }\n",
       "</style>\n",
       "<table border=\"1\" class=\"dataframe\">\n",
       "  <thead>\n",
       "    <tr style=\"text-align: right;\">\n",
       "      <th></th>\n",
       "      <th>MSSubClass</th>\n",
       "      <th>MSZoning</th>\n",
       "      <th>LotFrontage</th>\n",
       "      <th>LotArea</th>\n",
       "      <th>Street</th>\n",
       "      <th>LotShape</th>\n",
       "      <th>LandContour</th>\n",
       "      <th>LotConfig</th>\n",
       "      <th>LandSlope</th>\n",
       "      <th>Neighborhood</th>\n",
       "      <th>...</th>\n",
       "      <th>EnclosedPorch</th>\n",
       "      <th>3SsnPorch</th>\n",
       "      <th>ScreenPorch</th>\n",
       "      <th>PoolArea</th>\n",
       "      <th>MiscVal</th>\n",
       "      <th>MoSold</th>\n",
       "      <th>YrSold</th>\n",
       "      <th>SaleType</th>\n",
       "      <th>SaleCondition</th>\n",
       "      <th>SalePrice</th>\n",
       "    </tr>\n",
       "  </thead>\n",
       "  <tbody>\n",
       "    <tr>\n",
       "      <th>523</th>\n",
       "      <td>60</td>\n",
       "      <td>RL</td>\n",
       "      <td>130.0</td>\n",
       "      <td>40094</td>\n",
       "      <td>Pave</td>\n",
       "      <td>IR1</td>\n",
       "      <td>Bnk</td>\n",
       "      <td>Inside</td>\n",
       "      <td>Gtl</td>\n",
       "      <td>Edwards</td>\n",
       "      <td>...</td>\n",
       "      <td>0</td>\n",
       "      <td>0</td>\n",
       "      <td>0</td>\n",
       "      <td>0</td>\n",
       "      <td>0</td>\n",
       "      <td>10</td>\n",
       "      <td>2007</td>\n",
       "      <td>New</td>\n",
       "      <td>Partial</td>\n",
       "      <td>184750</td>\n",
       "    </tr>\n",
       "    <tr>\n",
       "      <th>1298</th>\n",
       "      <td>60</td>\n",
       "      <td>RL</td>\n",
       "      <td>313.0</td>\n",
       "      <td>63887</td>\n",
       "      <td>Pave</td>\n",
       "      <td>IR3</td>\n",
       "      <td>Bnk</td>\n",
       "      <td>Corner</td>\n",
       "      <td>Gtl</td>\n",
       "      <td>Edwards</td>\n",
       "      <td>...</td>\n",
       "      <td>0</td>\n",
       "      <td>0</td>\n",
       "      <td>0</td>\n",
       "      <td>480</td>\n",
       "      <td>0</td>\n",
       "      <td>1</td>\n",
       "      <td>2008</td>\n",
       "      <td>New</td>\n",
       "      <td>Partial</td>\n",
       "      <td>160000</td>\n",
       "    </tr>\n",
       "  </tbody>\n",
       "</table>\n",
       "<p>2 rows × 75 columns</p>\n",
       "</div>"
      ],
      "text/plain": [
       "     MSSubClass MSZoning  LotFrontage  LotArea Street LotShape LandContour  \\\n",
       "523          60       RL        130.0    40094   Pave      IR1         Bnk   \n",
       "1298         60       RL        313.0    63887   Pave      IR3         Bnk   \n",
       "\n",
       "     LotConfig LandSlope Neighborhood  ... EnclosedPorch 3SsnPorch  \\\n",
       "523     Inside       Gtl      Edwards  ...             0         0   \n",
       "1298    Corner       Gtl      Edwards  ...             0         0   \n",
       "\n",
       "     ScreenPorch PoolArea  MiscVal  MoSold  YrSold  SaleType SaleCondition  \\\n",
       "523            0        0        0      10    2007       New       Partial   \n",
       "1298           0      480        0       1    2008       New       Partial   \n",
       "\n",
       "     SalePrice  \n",
       "523     184750  \n",
       "1298    160000  \n",
       "\n",
       "[2 rows x 75 columns]"
      ]
     },
     "execution_count": 71,
     "metadata": {},
     "output_type": "execute_result"
    }
   ],
   "source": [
    "train_data[(train_data['OverallQual']>8)&(train_data['SalePrice']<200000)]\n"
   ]
  },
  {
   "cell_type": "code",
   "execution_count": 72,
   "id": "371249d2",
   "metadata": {
    "execution": {
     "iopub.execute_input": "2022-08-18T18:46:51.888385Z",
     "iopub.status.busy": "2022-08-18T18:46:51.887280Z",
     "iopub.status.idle": "2022-08-18T18:46:51.894641Z",
     "shell.execute_reply": "2022-08-18T18:46:51.893613Z"
    },
    "papermill": {
     "duration": 0.05461,
     "end_time": "2022-08-18T18:46:51.897189",
     "exception": false,
     "start_time": "2022-08-18T18:46:51.842579",
     "status": "completed"
    },
    "tags": []
   },
   "outputs": [],
   "source": [
    "int_drop=train_data[(train_data['OverallQual']>8)&(train_data['SalePrice']<200000)].index\n"
   ]
  },
  {
   "cell_type": "code",
   "execution_count": 73,
   "id": "b242683e",
   "metadata": {
    "execution": {
     "iopub.execute_input": "2022-08-18T18:46:51.987389Z",
     "iopub.status.busy": "2022-08-18T18:46:51.986423Z",
     "iopub.status.idle": "2022-08-18T18:46:51.995013Z",
     "shell.execute_reply": "2022-08-18T18:46:51.993707Z"
    },
    "papermill": {
     "duration": 0.056191,
     "end_time": "2022-08-18T18:46:51.998301",
     "exception": false,
     "start_time": "2022-08-18T18:46:51.942110",
     "status": "completed"
    },
    "tags": []
   },
   "outputs": [],
   "source": [
    "train_data=train_data.drop(int_drop,axis=0)"
   ]
  },
  {
   "cell_type": "code",
   "execution_count": 74,
   "id": "7e8e63d4",
   "metadata": {
    "execution": {
     "iopub.execute_input": "2022-08-18T18:46:52.090750Z",
     "iopub.status.busy": "2022-08-18T18:46:52.090258Z",
     "iopub.status.idle": "2022-08-18T18:46:52.114378Z",
     "shell.execute_reply": "2022-08-18T18:46:52.112885Z"
    },
    "papermill": {
     "duration": 0.074899,
     "end_time": "2022-08-18T18:46:52.117217",
     "exception": false,
     "start_time": "2022-08-18T18:46:52.042318",
     "status": "completed"
    },
    "tags": []
   },
   "outputs": [
    {
     "data": {
      "text/html": [
       "<div>\n",
       "<style scoped>\n",
       "    .dataframe tbody tr th:only-of-type {\n",
       "        vertical-align: middle;\n",
       "    }\n",
       "\n",
       "    .dataframe tbody tr th {\n",
       "        vertical-align: top;\n",
       "    }\n",
       "\n",
       "    .dataframe thead th {\n",
       "        text-align: right;\n",
       "    }\n",
       "</style>\n",
       "<table border=\"1\" class=\"dataframe\">\n",
       "  <thead>\n",
       "    <tr style=\"text-align: right;\">\n",
       "      <th></th>\n",
       "      <th>MSSubClass</th>\n",
       "      <th>MSZoning</th>\n",
       "      <th>LotFrontage</th>\n",
       "      <th>LotArea</th>\n",
       "      <th>Street</th>\n",
       "      <th>LotShape</th>\n",
       "      <th>LandContour</th>\n",
       "      <th>LotConfig</th>\n",
       "      <th>LandSlope</th>\n",
       "      <th>Neighborhood</th>\n",
       "      <th>...</th>\n",
       "      <th>EnclosedPorch</th>\n",
       "      <th>3SsnPorch</th>\n",
       "      <th>ScreenPorch</th>\n",
       "      <th>PoolArea</th>\n",
       "      <th>MiscVal</th>\n",
       "      <th>MoSold</th>\n",
       "      <th>YrSold</th>\n",
       "      <th>SaleType</th>\n",
       "      <th>SaleCondition</th>\n",
       "      <th>SalePrice</th>\n",
       "    </tr>\n",
       "  </thead>\n",
       "  <tbody>\n",
       "  </tbody>\n",
       "</table>\n",
       "<p>0 rows × 75 columns</p>\n",
       "</div>"
      ],
      "text/plain": [
       "Empty DataFrame\n",
       "Columns: [MSSubClass, MSZoning, LotFrontage, LotArea, Street, LotShape, LandContour, LotConfig, LandSlope, Neighborhood, Condition1, Condition2, BldgType, HouseStyle, OverallQual, OverallCond, YearBuilt, YearRemodAdd, RoofStyle, RoofMatl, Exterior1st, Exterior2nd, MasVnrType, MasVnrArea, ExterQual, ExterCond, Foundation, BsmtQual, BsmtCond, BsmtExposure, BsmtFinType1, BsmtFinSF1, BsmtFinType2, BsmtFinSF2, BsmtUnfSF, TotalBsmtSF, Heating, HeatingQC, CentralAir, Electrical, 1stFlrSF, 2ndFlrSF, LowQualFinSF, GrLivArea, BsmtFullBath, BsmtHalfBath, FullBath, HalfBath, BedroomAbvGr, KitchenAbvGr, KitchenQual, TotRmsAbvGrd, Functional, Fireplaces, FireplaceQu, GarageType, GarageYrBlt, GarageFinish, GarageCars, GarageArea, GarageQual, GarageCond, PavedDrive, WoodDeckSF, OpenPorchSF, EnclosedPorch, 3SsnPorch, ScreenPorch, PoolArea, MiscVal, MoSold, YrSold, SaleType, SaleCondition, SalePrice]\n",
       "Index: []\n",
       "\n",
       "[0 rows x 75 columns]"
      ]
     },
     "execution_count": 74,
     "metadata": {},
     "output_type": "execute_result"
    }
   ],
   "source": [
    "train_data[(train_data['OverallQual']>8)&(train_data['SalePrice']<200000)]\n"
   ]
  },
  {
   "cell_type": "code",
   "execution_count": 75,
   "id": "a07ef8e2",
   "metadata": {
    "execution": {
     "iopub.execute_input": "2022-08-18T18:46:52.208938Z",
     "iopub.status.busy": "2022-08-18T18:46:52.208449Z",
     "iopub.status.idle": "2022-08-18T18:46:52.446843Z",
     "shell.execute_reply": "2022-08-18T18:46:52.445595Z"
    },
    "papermill": {
     "duration": 0.286393,
     "end_time": "2022-08-18T18:46:52.450093",
     "exception": false,
     "start_time": "2022-08-18T18:46:52.163700",
     "status": "completed"
    },
    "tags": []
   },
   "outputs": [
    {
     "data": {
      "text/plain": [
       "<AxesSubplot:xlabel='GrLivArea', ylabel='SalePrice'>"
      ]
     },
     "execution_count": 75,
     "metadata": {},
     "output_type": "execute_result"
    },
    {
     "data": {
      "image/png": "[encoded data removed]",
      "text/plain": [
       "<Figure size 432x288 with 1 Axes>"
      ]
     },
     "metadata": {
      "needs_background": "light"
     },
     "output_type": "display_data"
    }
   ],
   "source": [
    "sns.scatterplot(x='GrLivArea',y='SalePrice',data=train_data)"
   ]
  },
  {
   "cell_type": "code",
   "execution_count": 76,
   "id": "30d4a36f",
   "metadata": {
    "execution": {
     "iopub.execute_input": "2022-08-18T18:46:52.560181Z",
     "iopub.status.busy": "2022-08-18T18:46:52.557982Z",
     "iopub.status.idle": "2022-08-18T18:46:52.808171Z",
     "shell.execute_reply": "2022-08-18T18:46:52.806263Z"
    },
    "papermill": {
     "duration": 0.316961,
     "end_time": "2022-08-18T18:46:52.811294",
     "exception": false,
     "start_time": "2022-08-18T18:46:52.494333",
     "status": "completed"
    },
    "tags": []
   },
   "outputs": [
    {
     "data": {
      "text/plain": [
       "<AxesSubplot:xlabel='LotFrontage', ylabel='SalePrice'>"
      ]
     },
     "execution_count": 76,
     "metadata": {},
     "output_type": "execute_result"
    },
    {
     "data": {
      "image/png": "[encoded data removed]",
      "text/plain": [
       "<Figure size 432x288 with 1 Axes>"
      ]
     },
     "metadata": {
      "needs_background": "light"
     },
     "output_type": "display_data"
    }
   ],
   "source": [
    "sns.scatterplot(x='LotFrontage',y='SalePrice',data=train_data)"
   ]
  },
  {
   "cell_type": "code",
   "execution_count": 77,
   "id": "2d919efb",
   "metadata": {
    "execution": {
     "iopub.execute_input": "2022-08-18T18:46:52.905743Z",
     "iopub.status.busy": "2022-08-18T18:46:52.905248Z",
     "iopub.status.idle": "2022-08-18T18:46:52.937892Z",
     "shell.execute_reply": "2022-08-18T18:46:52.936439Z"
    },
    "papermill": {
     "duration": 0.083988,
     "end_time": "2022-08-18T18:46:52.940655",
     "exception": false,
     "start_time": "2022-08-18T18:46:52.856667",
     "status": "completed"
    },
    "tags": []
   },
   "outputs": [
    {
     "data": {
      "text/html": [
       "<div>\n",
       "<style scoped>\n",
       "    .dataframe tbody tr th:only-of-type {\n",
       "        vertical-align: middle;\n",
       "    }\n",
       "\n",
       "    .dataframe tbody tr th {\n",
       "        vertical-align: top;\n",
       "    }\n",
       "\n",
       "    .dataframe thead th {\n",
       "        text-align: right;\n",
       "    }\n",
       "</style>\n",
       "<table border=\"1\" class=\"dataframe\">\n",
       "  <thead>\n",
       "    <tr style=\"text-align: right;\">\n",
       "      <th></th>\n",
       "      <th>MSSubClass</th>\n",
       "      <th>MSZoning</th>\n",
       "      <th>LotFrontage</th>\n",
       "      <th>LotArea</th>\n",
       "      <th>Street</th>\n",
       "      <th>LotShape</th>\n",
       "      <th>LandContour</th>\n",
       "      <th>LotConfig</th>\n",
       "      <th>LandSlope</th>\n",
       "      <th>Neighborhood</th>\n",
       "      <th>...</th>\n",
       "      <th>EnclosedPorch</th>\n",
       "      <th>3SsnPorch</th>\n",
       "      <th>ScreenPorch</th>\n",
       "      <th>PoolArea</th>\n",
       "      <th>MiscVal</th>\n",
       "      <th>MoSold</th>\n",
       "      <th>YrSold</th>\n",
       "      <th>SaleType</th>\n",
       "      <th>SaleCondition</th>\n",
       "      <th>SalePrice</th>\n",
       "    </tr>\n",
       "  </thead>\n",
       "  <tbody>\n",
       "    <tr>\n",
       "      <th>934</th>\n",
       "      <td>20</td>\n",
       "      <td>RL</td>\n",
       "      <td>313.0</td>\n",
       "      <td>27650</td>\n",
       "      <td>Pave</td>\n",
       "      <td>IR2</td>\n",
       "      <td>HLS</td>\n",
       "      <td>Inside</td>\n",
       "      <td>Mod</td>\n",
       "      <td>NAmes</td>\n",
       "      <td>...</td>\n",
       "      <td>0</td>\n",
       "      <td>0</td>\n",
       "      <td>0</td>\n",
       "      <td>0</td>\n",
       "      <td>0</td>\n",
       "      <td>11</td>\n",
       "      <td>2008</td>\n",
       "      <td>WD</td>\n",
       "      <td>Normal</td>\n",
       "      <td>242000</td>\n",
       "    </tr>\n",
       "  </tbody>\n",
       "</table>\n",
       "<p>1 rows × 75 columns</p>\n",
       "</div>"
      ],
      "text/plain": [
       "    MSSubClass MSZoning  LotFrontage  LotArea Street LotShape LandContour  \\\n",
       "934         20       RL        313.0    27650   Pave      IR2         HLS   \n",
       "\n",
       "    LotConfig LandSlope Neighborhood  ... EnclosedPorch 3SsnPorch ScreenPorch  \\\n",
       "934    Inside       Mod        NAmes  ...             0         0           0   \n",
       "\n",
       "    PoolArea  MiscVal  MoSold  YrSold  SaleType SaleCondition SalePrice  \n",
       "934        0        0      11    2008        WD        Normal    242000  \n",
       "\n",
       "[1 rows x 75 columns]"
      ]
     },
     "execution_count": 77,
     "metadata": {},
     "output_type": "execute_result"
    }
   ],
   "source": [
    "train_data[(train_data['LotFrontage']>250)]"
   ]
  },
  {
   "cell_type": "code",
   "execution_count": 78,
   "id": "eb8703c9",
   "metadata": {
    "execution": {
     "iopub.execute_input": "2022-08-18T18:46:53.032284Z",
     "iopub.status.busy": "2022-08-18T18:46:53.031787Z",
     "iopub.status.idle": "2022-08-18T18:46:53.039033Z",
     "shell.execute_reply": "2022-08-18T18:46:53.037619Z"
    },
    "papermill": {
     "duration": 0.056952,
     "end_time": "2022-08-18T18:46:53.042181",
     "exception": false,
     "start_time": "2022-08-18T18:46:52.985229",
     "status": "completed"
    },
    "tags": []
   },
   "outputs": [],
   "source": [
    "int_drop=train_data[(train_data['LotFrontage']>250)].index"
   ]
  },
  {
   "cell_type": "code",
   "execution_count": 79,
   "id": "a8163090",
   "metadata": {
    "execution": {
     "iopub.execute_input": "2022-08-18T18:46:53.134122Z",
     "iopub.status.busy": "2022-08-18T18:46:53.133578Z",
     "iopub.status.idle": "2022-08-18T18:46:53.142915Z",
     "shell.execute_reply": "2022-08-18T18:46:53.141462Z"
    },
    "papermill": {
     "duration": 0.058455,
     "end_time": "2022-08-18T18:46:53.145623",
     "exception": false,
     "start_time": "2022-08-18T18:46:53.087168",
     "status": "completed"
    },
    "tags": []
   },
   "outputs": [],
   "source": [
    "train_data=train_data.drop(int_drop,axis=0)"
   ]
  },
  {
   "cell_type": "code",
   "execution_count": 80,
   "id": "43061b92",
   "metadata": {
    "execution": {
     "iopub.execute_input": "2022-08-18T18:46:53.240492Z",
     "iopub.status.busy": "2022-08-18T18:46:53.239972Z",
     "iopub.status.idle": "2022-08-18T18:46:53.260078Z",
     "shell.execute_reply": "2022-08-18T18:46:53.258685Z"
    },
    "papermill": {
     "duration": 0.069724,
     "end_time": "2022-08-18T18:46:53.262893",
     "exception": false,
     "start_time": "2022-08-18T18:46:53.193169",
     "status": "completed"
    },
    "tags": []
   },
   "outputs": [
    {
     "data": {
      "text/html": [
       "<div>\n",
       "<style scoped>\n",
       "    .dataframe tbody tr th:only-of-type {\n",
       "        vertical-align: middle;\n",
       "    }\n",
       "\n",
       "    .dataframe tbody tr th {\n",
       "        vertical-align: top;\n",
       "    }\n",
       "\n",
       "    .dataframe thead th {\n",
       "        text-align: right;\n",
       "    }\n",
       "</style>\n",
       "<table border=\"1\" class=\"dataframe\">\n",
       "  <thead>\n",
       "    <tr style=\"text-align: right;\">\n",
       "      <th></th>\n",
       "      <th>MSSubClass</th>\n",
       "      <th>MSZoning</th>\n",
       "      <th>LotFrontage</th>\n",
       "      <th>LotArea</th>\n",
       "      <th>Street</th>\n",
       "      <th>LotShape</th>\n",
       "      <th>LandContour</th>\n",
       "      <th>LotConfig</th>\n",
       "      <th>LandSlope</th>\n",
       "      <th>Neighborhood</th>\n",
       "      <th>...</th>\n",
       "      <th>EnclosedPorch</th>\n",
       "      <th>3SsnPorch</th>\n",
       "      <th>ScreenPorch</th>\n",
       "      <th>PoolArea</th>\n",
       "      <th>MiscVal</th>\n",
       "      <th>MoSold</th>\n",
       "      <th>YrSold</th>\n",
       "      <th>SaleType</th>\n",
       "      <th>SaleCondition</th>\n",
       "      <th>SalePrice</th>\n",
       "    </tr>\n",
       "  </thead>\n",
       "  <tbody>\n",
       "  </tbody>\n",
       "</table>\n",
       "<p>0 rows × 75 columns</p>\n",
       "</div>"
      ],
      "text/plain": [
       "Empty DataFrame\n",
       "Columns: [MSSubClass, MSZoning, LotFrontage, LotArea, Street, LotShape, LandContour, LotConfig, LandSlope, Neighborhood, Condition1, Condition2, BldgType, HouseStyle, OverallQual, OverallCond, YearBuilt, YearRemodAdd, RoofStyle, RoofMatl, Exterior1st, Exterior2nd, MasVnrType, MasVnrArea, ExterQual, ExterCond, Foundation, BsmtQual, BsmtCond, BsmtExposure, BsmtFinType1, BsmtFinSF1, BsmtFinType2, BsmtFinSF2, BsmtUnfSF, TotalBsmtSF, Heating, HeatingQC, CentralAir, Electrical, 1stFlrSF, 2ndFlrSF, LowQualFinSF, GrLivArea, BsmtFullBath, BsmtHalfBath, FullBath, HalfBath, BedroomAbvGr, KitchenAbvGr, KitchenQual, TotRmsAbvGrd, Functional, Fireplaces, FireplaceQu, GarageType, GarageYrBlt, GarageFinish, GarageCars, GarageArea, GarageQual, GarageCond, PavedDrive, WoodDeckSF, OpenPorchSF, EnclosedPorch, 3SsnPorch, ScreenPorch, PoolArea, MiscVal, MoSold, YrSold, SaleType, SaleCondition, SalePrice]\n",
       "Index: []\n",
       "\n",
       "[0 rows x 75 columns]"
      ]
     },
     "execution_count": 80,
     "metadata": {},
     "output_type": "execute_result"
    }
   ],
   "source": [
    "train_data[(train_data['LotFrontage']>250)]"
   ]
  },
  {
   "cell_type": "code",
   "execution_count": 81,
   "id": "0f4291ff",
   "metadata": {
    "execution": {
     "iopub.execute_input": "2022-08-18T18:46:53.356078Z",
     "iopub.status.busy": "2022-08-18T18:46:53.355569Z",
     "iopub.status.idle": "2022-08-18T18:46:53.616670Z",
     "shell.execute_reply": "2022-08-18T18:46:53.615522Z"
    },
    "papermill": {
     "duration": 0.310256,
     "end_time": "2022-08-18T18:46:53.619730",
     "exception": false,
     "start_time": "2022-08-18T18:46:53.309474",
     "status": "completed"
    },
    "tags": []
   },
   "outputs": [
    {
     "data": {
      "text/plain": [
       "<AxesSubplot:xlabel='GarageArea', ylabel='SalePrice'>"
      ]
     },
     "execution_count": 81,
     "metadata": {},
     "output_type": "execute_result"
    },
    {
     "data": {
      "image/png": "[encoded data removed]",
      "text/plain": [
       "<Figure size 432x288 with 1 Axes>"
      ]
     },
     "metadata": {
      "needs_background": "light"
     },
     "output_type": "display_data"
    }
   ],
   "source": [
    "sns.scatterplot(x='GarageArea',y='SalePrice',data=train_data)"
   ]
  },
  {
   "cell_type": "code",
   "execution_count": 82,
   "id": "d4b2a420",
   "metadata": {
    "execution": {
     "iopub.execute_input": "2022-08-18T18:46:53.713344Z",
     "iopub.status.busy": "2022-08-18T18:46:53.712480Z",
     "iopub.status.idle": "2022-08-18T18:46:53.738389Z",
     "shell.execute_reply": "2022-08-18T18:46:53.737114Z"
    },
    "papermill": {
     "duration": 0.076118,
     "end_time": "2022-08-18T18:46:53.741100",
     "exception": false,
     "start_time": "2022-08-18T18:46:53.664982",
     "status": "completed"
    },
    "tags": []
   },
   "outputs": [
    {
     "data": {
      "text/html": [
       "<div>\n",
       "<style scoped>\n",
       "    .dataframe tbody tr th:only-of-type {\n",
       "        vertical-align: middle;\n",
       "    }\n",
       "\n",
       "    .dataframe tbody tr th {\n",
       "        vertical-align: top;\n",
       "    }\n",
       "\n",
       "    .dataframe thead th {\n",
       "        text-align: right;\n",
       "    }\n",
       "</style>\n",
       "<table border=\"1\" class=\"dataframe\">\n",
       "  <thead>\n",
       "    <tr style=\"text-align: right;\">\n",
       "      <th></th>\n",
       "      <th>MSSubClass</th>\n",
       "      <th>MSZoning</th>\n",
       "      <th>LotFrontage</th>\n",
       "      <th>LotArea</th>\n",
       "      <th>Street</th>\n",
       "      <th>LotShape</th>\n",
       "      <th>LandContour</th>\n",
       "      <th>LotConfig</th>\n",
       "      <th>LandSlope</th>\n",
       "      <th>Neighborhood</th>\n",
       "      <th>...</th>\n",
       "      <th>EnclosedPorch</th>\n",
       "      <th>3SsnPorch</th>\n",
       "      <th>ScreenPorch</th>\n",
       "      <th>PoolArea</th>\n",
       "      <th>MiscVal</th>\n",
       "      <th>MoSold</th>\n",
       "      <th>YrSold</th>\n",
       "      <th>SaleType</th>\n",
       "      <th>SaleCondition</th>\n",
       "      <th>SalePrice</th>\n",
       "    </tr>\n",
       "  </thead>\n",
       "  <tbody>\n",
       "    <tr>\n",
       "      <th>581</th>\n",
       "      <td>20</td>\n",
       "      <td>RL</td>\n",
       "      <td>98.000000</td>\n",
       "      <td>12704</td>\n",
       "      <td>Pave</td>\n",
       "      <td>Reg</td>\n",
       "      <td>Lvl</td>\n",
       "      <td>Inside</td>\n",
       "      <td>Gtl</td>\n",
       "      <td>NridgHt</td>\n",
       "      <td>...</td>\n",
       "      <td>0</td>\n",
       "      <td>0</td>\n",
       "      <td>0</td>\n",
       "      <td>0</td>\n",
       "      <td>0</td>\n",
       "      <td>8</td>\n",
       "      <td>2009</td>\n",
       "      <td>New</td>\n",
       "      <td>Partial</td>\n",
       "      <td>253293</td>\n",
       "    </tr>\n",
       "    <tr>\n",
       "      <th>1061</th>\n",
       "      <td>30</td>\n",
       "      <td>C (all)</td>\n",
       "      <td>120.000000</td>\n",
       "      <td>18000</td>\n",
       "      <td>Grvl</td>\n",
       "      <td>Reg</td>\n",
       "      <td>Low</td>\n",
       "      <td>Inside</td>\n",
       "      <td>Gtl</td>\n",
       "      <td>IDOTRR</td>\n",
       "      <td>...</td>\n",
       "      <td>0</td>\n",
       "      <td>0</td>\n",
       "      <td>0</td>\n",
       "      <td>0</td>\n",
       "      <td>560</td>\n",
       "      <td>8</td>\n",
       "      <td>2008</td>\n",
       "      <td>ConLD</td>\n",
       "      <td>Normal</td>\n",
       "      <td>81000</td>\n",
       "    </tr>\n",
       "    <tr>\n",
       "      <th>1190</th>\n",
       "      <td>190</td>\n",
       "      <td>RL</td>\n",
       "      <td>69.305795</td>\n",
       "      <td>32463</td>\n",
       "      <td>Pave</td>\n",
       "      <td>Reg</td>\n",
       "      <td>Low</td>\n",
       "      <td>Inside</td>\n",
       "      <td>Mod</td>\n",
       "      <td>Mitchel</td>\n",
       "      <td>...</td>\n",
       "      <td>0</td>\n",
       "      <td>0</td>\n",
       "      <td>0</td>\n",
       "      <td>0</td>\n",
       "      <td>0</td>\n",
       "      <td>3</td>\n",
       "      <td>2007</td>\n",
       "      <td>WD</td>\n",
       "      <td>Normal</td>\n",
       "      <td>168000</td>\n",
       "    </tr>\n",
       "  </tbody>\n",
       "</table>\n",
       "<p>3 rows × 75 columns</p>\n",
       "</div>"
      ],
      "text/plain": [
       "     MSSubClass MSZoning  LotFrontage  LotArea Street LotShape LandContour  \\\n",
       "581          20       RL    98.000000    12704   Pave      Reg         Lvl   \n",
       "1061         30  C (all)   120.000000    18000   Grvl      Reg         Low   \n",
       "1190        190       RL    69.305795    32463   Pave      Reg         Low   \n",
       "\n",
       "     LotConfig LandSlope Neighborhood  ... EnclosedPorch 3SsnPorch  \\\n",
       "581     Inside       Gtl      NridgHt  ...             0         0   \n",
       "1061    Inside       Gtl       IDOTRR  ...             0         0   \n",
       "1190    Inside       Mod      Mitchel  ...             0         0   \n",
       "\n",
       "     ScreenPorch PoolArea  MiscVal  MoSold  YrSold  SaleType SaleCondition  \\\n",
       "581            0        0        0       8    2009       New       Partial   \n",
       "1061           0        0      560       8    2008     ConLD        Normal   \n",
       "1190           0        0        0       3    2007        WD        Normal   \n",
       "\n",
       "     SalePrice  \n",
       "581     253293  \n",
       "1061     81000  \n",
       "1190    168000  \n",
       "\n",
       "[3 rows x 75 columns]"
      ]
     },
     "execution_count": 82,
     "metadata": {},
     "output_type": "execute_result"
    }
   ],
   "source": [
    "train_data[(train_data['GarageArea']>1200)&(train_data['SalePrice']<300000)]\n"
   ]
  },
  {
   "cell_type": "code",
   "execution_count": 83,
   "id": "78d30234",
   "metadata": {
    "execution": {
     "iopub.execute_input": "2022-08-18T18:46:53.833955Z",
     "iopub.status.busy": "2022-08-18T18:46:53.833460Z",
     "iopub.status.idle": "2022-08-18T18:46:53.841103Z",
     "shell.execute_reply": "2022-08-18T18:46:53.840150Z"
    },
    "papermill": {
     "duration": 0.056989,
     "end_time": "2022-08-18T18:46:53.843301",
     "exception": false,
     "start_time": "2022-08-18T18:46:53.786312",
     "status": "completed"
    },
    "tags": []
   },
   "outputs": [],
   "source": [
    "int_drop=train_data[(train_data['GarageArea']>1200)&(train_data['SalePrice']<300000)].index\n"
   ]
  },
  {
   "cell_type": "code",
   "execution_count": 84,
   "id": "3f3ab058",
   "metadata": {
    "execution": {
     "iopub.execute_input": "2022-08-18T18:46:53.936800Z",
     "iopub.status.busy": "2022-08-18T18:46:53.936009Z",
     "iopub.status.idle": "2022-08-18T18:46:53.944391Z",
     "shell.execute_reply": "2022-08-18T18:46:53.943359Z"
    },
    "papermill": {
     "duration": 0.058299,
     "end_time": "2022-08-18T18:46:53.947026",
     "exception": false,
     "start_time": "2022-08-18T18:46:53.888727",
     "status": "completed"
    },
    "tags": []
   },
   "outputs": [],
   "source": [
    "train_data=train_data.drop(int_drop,axis=0)"
   ]
  },
  {
   "cell_type": "code",
   "execution_count": 85,
   "id": "04a80b8a",
   "metadata": {
    "execution": {
     "iopub.execute_input": "2022-08-18T18:46:54.040287Z",
     "iopub.status.busy": "2022-08-18T18:46:54.038898Z",
     "iopub.status.idle": "2022-08-18T18:46:54.275635Z",
     "shell.execute_reply": "2022-08-18T18:46:54.274276Z"
    },
    "papermill": {
     "duration": 0.286496,
     "end_time": "2022-08-18T18:46:54.278381",
     "exception": false,
     "start_time": "2022-08-18T18:46:53.991885",
     "status": "completed"
    },
    "tags": []
   },
   "outputs": [
    {
     "data": {
      "text/plain": [
       "<AxesSubplot:xlabel='LotArea', ylabel='SalePrice'>"
      ]
     },
     "execution_count": 85,
     "metadata": {},
     "output_type": "execute_result"
    },
    {
     "data": {
      "image/png": "[encoded data removed]",
      "text/plain": [
       "<Figure size 432x288 with 1 Axes>"
      ]
     },
     "metadata": {
      "needs_background": "light"
     },
     "output_type": "display_data"
    }
   ],
   "source": [
    "sns.scatterplot(x='LotArea',y='SalePrice',data=train_data)"
   ]
  },
  {
   "cell_type": "code",
   "execution_count": 86,
   "id": "2fecc003",
   "metadata": {
    "execution": {
     "iopub.execute_input": "2022-08-18T18:46:54.372588Z",
     "iopub.status.busy": "2022-08-18T18:46:54.371753Z",
     "iopub.status.idle": "2022-08-18T18:46:54.398376Z",
     "shell.execute_reply": "2022-08-18T18:46:54.397037Z"
    },
    "papermill": {
     "duration": 0.077029,
     "end_time": "2022-08-18T18:46:54.401238",
     "exception": false,
     "start_time": "2022-08-18T18:46:54.324209",
     "status": "completed"
    },
    "tags": []
   },
   "outputs": [
    {
     "data": {
      "text/html": [
       "<div>\n",
       "<style scoped>\n",
       "    .dataframe tbody tr th:only-of-type {\n",
       "        vertical-align: middle;\n",
       "    }\n",
       "\n",
       "    .dataframe tbody tr th {\n",
       "        vertical-align: top;\n",
       "    }\n",
       "\n",
       "    .dataframe thead th {\n",
       "        text-align: right;\n",
       "    }\n",
       "</style>\n",
       "<table border=\"1\" class=\"dataframe\">\n",
       "  <thead>\n",
       "    <tr style=\"text-align: right;\">\n",
       "      <th></th>\n",
       "      <th>MSSubClass</th>\n",
       "      <th>MSZoning</th>\n",
       "      <th>LotFrontage</th>\n",
       "      <th>LotArea</th>\n",
       "      <th>Street</th>\n",
       "      <th>LotShape</th>\n",
       "      <th>LandContour</th>\n",
       "      <th>LotConfig</th>\n",
       "      <th>LandSlope</th>\n",
       "      <th>Neighborhood</th>\n",
       "      <th>...</th>\n",
       "      <th>EnclosedPorch</th>\n",
       "      <th>3SsnPorch</th>\n",
       "      <th>ScreenPorch</th>\n",
       "      <th>PoolArea</th>\n",
       "      <th>MiscVal</th>\n",
       "      <th>MoSold</th>\n",
       "      <th>YrSold</th>\n",
       "      <th>SaleType</th>\n",
       "      <th>SaleCondition</th>\n",
       "      <th>SalePrice</th>\n",
       "    </tr>\n",
       "  </thead>\n",
       "  <tbody>\n",
       "    <tr>\n",
       "      <th>249</th>\n",
       "      <td>50</td>\n",
       "      <td>RL</td>\n",
       "      <td>69.305795</td>\n",
       "      <td>159000</td>\n",
       "      <td>Pave</td>\n",
       "      <td>IR2</td>\n",
       "      <td>Low</td>\n",
       "      <td>CulDSac</td>\n",
       "      <td>Sev</td>\n",
       "      <td>ClearCr</td>\n",
       "      <td>...</td>\n",
       "      <td>0</td>\n",
       "      <td>0</td>\n",
       "      <td>0</td>\n",
       "      <td>0</td>\n",
       "      <td>500</td>\n",
       "      <td>6</td>\n",
       "      <td>2007</td>\n",
       "      <td>WD</td>\n",
       "      <td>Normal</td>\n",
       "      <td>277000</td>\n",
       "    </tr>\n",
       "    <tr>\n",
       "      <th>313</th>\n",
       "      <td>20</td>\n",
       "      <td>RL</td>\n",
       "      <td>150.000000</td>\n",
       "      <td>215245</td>\n",
       "      <td>Pave</td>\n",
       "      <td>IR3</td>\n",
       "      <td>Low</td>\n",
       "      <td>Inside</td>\n",
       "      <td>Sev</td>\n",
       "      <td>Timber</td>\n",
       "      <td>...</td>\n",
       "      <td>0</td>\n",
       "      <td>0</td>\n",
       "      <td>0</td>\n",
       "      <td>0</td>\n",
       "      <td>0</td>\n",
       "      <td>6</td>\n",
       "      <td>2009</td>\n",
       "      <td>WD</td>\n",
       "      <td>Normal</td>\n",
       "      <td>375000</td>\n",
       "    </tr>\n",
       "    <tr>\n",
       "      <th>335</th>\n",
       "      <td>190</td>\n",
       "      <td>RL</td>\n",
       "      <td>69.305795</td>\n",
       "      <td>164660</td>\n",
       "      <td>Grvl</td>\n",
       "      <td>IR1</td>\n",
       "      <td>HLS</td>\n",
       "      <td>Corner</td>\n",
       "      <td>Sev</td>\n",
       "      <td>Timber</td>\n",
       "      <td>...</td>\n",
       "      <td>0</td>\n",
       "      <td>0</td>\n",
       "      <td>0</td>\n",
       "      <td>0</td>\n",
       "      <td>700</td>\n",
       "      <td>8</td>\n",
       "      <td>2008</td>\n",
       "      <td>WD</td>\n",
       "      <td>Normal</td>\n",
       "      <td>228950</td>\n",
       "    </tr>\n",
       "    <tr>\n",
       "      <th>706</th>\n",
       "      <td>20</td>\n",
       "      <td>RL</td>\n",
       "      <td>69.305795</td>\n",
       "      <td>115149</td>\n",
       "      <td>Pave</td>\n",
       "      <td>IR2</td>\n",
       "      <td>Low</td>\n",
       "      <td>CulDSac</td>\n",
       "      <td>Sev</td>\n",
       "      <td>ClearCr</td>\n",
       "      <td>...</td>\n",
       "      <td>0</td>\n",
       "      <td>0</td>\n",
       "      <td>0</td>\n",
       "      <td>0</td>\n",
       "      <td>0</td>\n",
       "      <td>6</td>\n",
       "      <td>2007</td>\n",
       "      <td>WD</td>\n",
       "      <td>Normal</td>\n",
       "      <td>302000</td>\n",
       "    </tr>\n",
       "  </tbody>\n",
       "</table>\n",
       "<p>4 rows × 75 columns</p>\n",
       "</div>"
      ],
      "text/plain": [
       "    MSSubClass MSZoning  LotFrontage  LotArea Street LotShape LandContour  \\\n",
       "249         50       RL    69.305795   159000   Pave      IR2         Low   \n",
       "313         20       RL   150.000000   215245   Pave      IR3         Low   \n",
       "335        190       RL    69.305795   164660   Grvl      IR1         HLS   \n",
       "706         20       RL    69.305795   115149   Pave      IR2         Low   \n",
       "\n",
       "    LotConfig LandSlope Neighborhood  ... EnclosedPorch 3SsnPorch ScreenPorch  \\\n",
       "249   CulDSac       Sev      ClearCr  ...             0         0           0   \n",
       "313    Inside       Sev       Timber  ...             0         0           0   \n",
       "335    Corner       Sev       Timber  ...             0         0           0   \n",
       "706   CulDSac       Sev      ClearCr  ...             0         0           0   \n",
       "\n",
       "    PoolArea  MiscVal  MoSold  YrSold  SaleType SaleCondition SalePrice  \n",
       "249        0      500       6    2007        WD        Normal    277000  \n",
       "313        0        0       6    2009        WD        Normal    375000  \n",
       "335        0      700       8    2008        WD        Normal    228950  \n",
       "706        0        0       6    2007        WD        Normal    302000  \n",
       "\n",
       "[4 rows x 75 columns]"
      ]
     },
     "execution_count": 86,
     "metadata": {},
     "output_type": "execute_result"
    }
   ],
   "source": [
    "train_data[(train_data['LotArea']>=100000)]\n"
   ]
  },
  {
   "cell_type": "code",
   "execution_count": 87,
   "id": "ffd4f304",
   "metadata": {
    "execution": {
     "iopub.execute_input": "2022-08-18T18:46:54.497999Z",
     "iopub.status.busy": "2022-08-18T18:46:54.496975Z",
     "iopub.status.idle": "2022-08-18T18:46:54.504527Z",
     "shell.execute_reply": "2022-08-18T18:46:54.503165Z"
    },
    "papermill": {
     "duration": 0.059154,
     "end_time": "2022-08-18T18:46:54.506947",
     "exception": false,
     "start_time": "2022-08-18T18:46:54.447793",
     "status": "completed"
    },
    "tags": []
   },
   "outputs": [],
   "source": [
    "int_drop=train_data[(train_data['LotArea']>=100000)].index\n"
   ]
  },
  {
   "cell_type": "code",
   "execution_count": 88,
   "id": "7fef3351",
   "metadata": {
    "execution": {
     "iopub.execute_input": "2022-08-18T18:46:54.605521Z",
     "iopub.status.busy": "2022-08-18T18:46:54.604622Z",
     "iopub.status.idle": "2022-08-18T18:46:54.612875Z",
     "shell.execute_reply": "2022-08-18T18:46:54.611767Z"
    },
    "papermill": {
     "duration": 0.061398,
     "end_time": "2022-08-18T18:46:54.616247",
     "exception": false,
     "start_time": "2022-08-18T18:46:54.554849",
     "status": "completed"
    },
    "tags": []
   },
   "outputs": [],
   "source": [
    "train_data=train_data.drop(int_drop,axis=0)"
   ]
  },
  {
   "cell_type": "code",
   "execution_count": 89,
   "id": "c3b081d9",
   "metadata": {
    "execution": {
     "iopub.execute_input": "2022-08-18T18:46:54.712762Z",
     "iopub.status.busy": "2022-08-18T18:46:54.711836Z",
     "iopub.status.idle": "2022-08-18T18:46:54.730696Z",
     "shell.execute_reply": "2022-08-18T18:46:54.729373Z"
    },
    "papermill": {
     "duration": 0.070625,
     "end_time": "2022-08-18T18:46:54.733532",
     "exception": false,
     "start_time": "2022-08-18T18:46:54.662907",
     "status": "completed"
    },
    "tags": []
   },
   "outputs": [
    {
     "data": {
      "text/html": [
       "<div>\n",
       "<style scoped>\n",
       "    .dataframe tbody tr th:only-of-type {\n",
       "        vertical-align: middle;\n",
       "    }\n",
       "\n",
       "    .dataframe tbody tr th {\n",
       "        vertical-align: top;\n",
       "    }\n",
       "\n",
       "    .dataframe thead th {\n",
       "        text-align: right;\n",
       "    }\n",
       "</style>\n",
       "<table border=\"1\" class=\"dataframe\">\n",
       "  <thead>\n",
       "    <tr style=\"text-align: right;\">\n",
       "      <th></th>\n",
       "      <th>MSSubClass</th>\n",
       "      <th>MSZoning</th>\n",
       "      <th>LotFrontage</th>\n",
       "      <th>LotArea</th>\n",
       "      <th>Street</th>\n",
       "      <th>LotShape</th>\n",
       "      <th>LandContour</th>\n",
       "      <th>LotConfig</th>\n",
       "      <th>LandSlope</th>\n",
       "      <th>Neighborhood</th>\n",
       "      <th>...</th>\n",
       "      <th>EnclosedPorch</th>\n",
       "      <th>3SsnPorch</th>\n",
       "      <th>ScreenPorch</th>\n",
       "      <th>PoolArea</th>\n",
       "      <th>MiscVal</th>\n",
       "      <th>MoSold</th>\n",
       "      <th>YrSold</th>\n",
       "      <th>SaleType</th>\n",
       "      <th>SaleCondition</th>\n",
       "      <th>SalePrice</th>\n",
       "    </tr>\n",
       "  </thead>\n",
       "  <tbody>\n",
       "  </tbody>\n",
       "</table>\n",
       "<p>0 rows × 75 columns</p>\n",
       "</div>"
      ],
      "text/plain": [
       "Empty DataFrame\n",
       "Columns: [MSSubClass, MSZoning, LotFrontage, LotArea, Street, LotShape, LandContour, LotConfig, LandSlope, Neighborhood, Condition1, Condition2, BldgType, HouseStyle, OverallQual, OverallCond, YearBuilt, YearRemodAdd, RoofStyle, RoofMatl, Exterior1st, Exterior2nd, MasVnrType, MasVnrArea, ExterQual, ExterCond, Foundation, BsmtQual, BsmtCond, BsmtExposure, BsmtFinType1, BsmtFinSF1, BsmtFinType2, BsmtFinSF2, BsmtUnfSF, TotalBsmtSF, Heating, HeatingQC, CentralAir, Electrical, 1stFlrSF, 2ndFlrSF, LowQualFinSF, GrLivArea, BsmtFullBath, BsmtHalfBath, FullBath, HalfBath, BedroomAbvGr, KitchenAbvGr, KitchenQual, TotRmsAbvGrd, Functional, Fireplaces, FireplaceQu, GarageType, GarageYrBlt, GarageFinish, GarageCars, GarageArea, GarageQual, GarageCond, PavedDrive, WoodDeckSF, OpenPorchSF, EnclosedPorch, 3SsnPorch, ScreenPorch, PoolArea, MiscVal, MoSold, YrSold, SaleType, SaleCondition, SalePrice]\n",
       "Index: []\n",
       "\n",
       "[0 rows x 75 columns]"
      ]
     },
     "execution_count": 89,
     "metadata": {},
     "output_type": "execute_result"
    }
   ],
   "source": [
    "train_data[(train_data['LotArea']>=100000)]\n"
   ]
  },
  {
   "cell_type": "code",
   "execution_count": 90,
   "id": "b60cb8d6",
   "metadata": {
    "execution": {
     "iopub.execute_input": "2022-08-18T18:46:54.830138Z",
     "iopub.status.busy": "2022-08-18T18:46:54.829100Z",
     "iopub.status.idle": "2022-08-18T18:46:55.083552Z",
     "shell.execute_reply": "2022-08-18T18:46:55.081867Z"
    },
    "papermill": {
     "duration": 0.306995,
     "end_time": "2022-08-18T18:46:55.086884",
     "exception": false,
     "start_time": "2022-08-18T18:46:54.779889",
     "status": "completed"
    },
    "tags": []
   },
   "outputs": [
    {
     "data": {
      "text/plain": [
       "<AxesSubplot:xlabel='LotArea', ylabel='SalePrice'>"
      ]
     },
     "execution_count": 90,
     "metadata": {},
     "output_type": "execute_result"
    },
    {
     "data": {
      "image/png": "[encoded data removed]",
      "text/plain": [
       "<Figure size 432x288 with 1 Axes>"
      ]
     },
     "metadata": {
      "needs_background": "light"
     },
     "output_type": "display_data"
    }
   ],
   "source": [
    "sns.scatterplot(x='LotArea',y='SalePrice',data=train_data)"
   ]
  },
  {
   "cell_type": "code",
   "execution_count": 91,
   "id": "9e7e993c",
   "metadata": {
    "execution": {
     "iopub.execute_input": "2022-08-18T18:46:55.185223Z",
     "iopub.status.busy": "2022-08-18T18:46:55.184710Z",
     "iopub.status.idle": "2022-08-18T18:46:55.421566Z",
     "shell.execute_reply": "2022-08-18T18:46:55.420269Z"
    },
    "papermill": {
     "duration": 0.289773,
     "end_time": "2022-08-18T18:46:55.424730",
     "exception": false,
     "start_time": "2022-08-18T18:46:55.134957",
     "status": "completed"
    },
    "tags": []
   },
   "outputs": [
    {
     "data": {
      "text/plain": [
       "<AxesSubplot:xlabel='1stFlrSF', ylabel='SalePrice'>"
      ]
     },
     "execution_count": 91,
     "metadata": {},
     "output_type": "execute_result"
    },
    {
     "data": {
      "image/png": "[encoded data removed]",
      "text/plain": [
       "<Figure size 432x288 with 1 Axes>"
      ]
     },
     "metadata": {
      "needs_background": "light"
     },
     "output_type": "display_data"
    }
   ],
   "source": [
    "sns.scatterplot(x='1stFlrSF',y='SalePrice',data=train_data)"
   ]
  },
  {
   "cell_type": "code",
   "execution_count": 92,
   "id": "0ae0cef4",
   "metadata": {
    "execution": {
     "iopub.execute_input": "2022-08-18T18:46:55.527228Z",
     "iopub.status.busy": "2022-08-18T18:46:55.525798Z",
     "iopub.status.idle": "2022-08-18T18:46:55.554495Z",
     "shell.execute_reply": "2022-08-18T18:46:55.553186Z"
    },
    "papermill": {
     "duration": 0.084085,
     "end_time": "2022-08-18T18:46:55.557331",
     "exception": false,
     "start_time": "2022-08-18T18:46:55.473246",
     "status": "completed"
    },
    "tags": []
   },
   "outputs": [
    {
     "data": {
      "text/html": [
       "<div>\n",
       "<style scoped>\n",
       "    .dataframe tbody tr th:only-of-type {\n",
       "        vertical-align: middle;\n",
       "    }\n",
       "\n",
       "    .dataframe tbody tr th {\n",
       "        vertical-align: top;\n",
       "    }\n",
       "\n",
       "    .dataframe thead th {\n",
       "        text-align: right;\n",
       "    }\n",
       "</style>\n",
       "<table border=\"1\" class=\"dataframe\">\n",
       "  <thead>\n",
       "    <tr style=\"text-align: right;\">\n",
       "      <th></th>\n",
       "      <th>MSSubClass</th>\n",
       "      <th>MSZoning</th>\n",
       "      <th>LotFrontage</th>\n",
       "      <th>LotArea</th>\n",
       "      <th>Street</th>\n",
       "      <th>LotShape</th>\n",
       "      <th>LandContour</th>\n",
       "      <th>LotConfig</th>\n",
       "      <th>LandSlope</th>\n",
       "      <th>Neighborhood</th>\n",
       "      <th>...</th>\n",
       "      <th>EnclosedPorch</th>\n",
       "      <th>3SsnPorch</th>\n",
       "      <th>ScreenPorch</th>\n",
       "      <th>PoolArea</th>\n",
       "      <th>MiscVal</th>\n",
       "      <th>MoSold</th>\n",
       "      <th>YrSold</th>\n",
       "      <th>SaleType</th>\n",
       "      <th>SaleCondition</th>\n",
       "      <th>SalePrice</th>\n",
       "    </tr>\n",
       "  </thead>\n",
       "  <tbody>\n",
       "    <tr>\n",
       "      <th>496</th>\n",
       "      <td>20</td>\n",
       "      <td>RL</td>\n",
       "      <td>69.305795</td>\n",
       "      <td>12692</td>\n",
       "      <td>Pave</td>\n",
       "      <td>IR1</td>\n",
       "      <td>Lvl</td>\n",
       "      <td>Inside</td>\n",
       "      <td>Gtl</td>\n",
       "      <td>NoRidge</td>\n",
       "      <td>...</td>\n",
       "      <td>291</td>\n",
       "      <td>0</td>\n",
       "      <td>0</td>\n",
       "      <td>0</td>\n",
       "      <td>0</td>\n",
       "      <td>5</td>\n",
       "      <td>2007</td>\n",
       "      <td>WD</td>\n",
       "      <td>Normal</td>\n",
       "      <td>430000</td>\n",
       "    </tr>\n",
       "    <tr>\n",
       "      <th>1024</th>\n",
       "      <td>20</td>\n",
       "      <td>RL</td>\n",
       "      <td>69.305795</td>\n",
       "      <td>15498</td>\n",
       "      <td>Pave</td>\n",
       "      <td>IR1</td>\n",
       "      <td>Lvl</td>\n",
       "      <td>Corner</td>\n",
       "      <td>Gtl</td>\n",
       "      <td>Timber</td>\n",
       "      <td>...</td>\n",
       "      <td>174</td>\n",
       "      <td>0</td>\n",
       "      <td>0</td>\n",
       "      <td>0</td>\n",
       "      <td>0</td>\n",
       "      <td>5</td>\n",
       "      <td>2008</td>\n",
       "      <td>COD</td>\n",
       "      <td>Abnorml</td>\n",
       "      <td>287000</td>\n",
       "    </tr>\n",
       "  </tbody>\n",
       "</table>\n",
       "<p>2 rows × 75 columns</p>\n",
       "</div>"
      ],
      "text/plain": [
       "     MSSubClass MSZoning  LotFrontage  LotArea Street LotShape LandContour  \\\n",
       "496          20       RL    69.305795    12692   Pave      IR1         Lvl   \n",
       "1024         20       RL    69.305795    15498   Pave      IR1         Lvl   \n",
       "\n",
       "     LotConfig LandSlope Neighborhood  ... EnclosedPorch 3SsnPorch  \\\n",
       "496     Inside       Gtl      NoRidge  ...           291         0   \n",
       "1024    Corner       Gtl       Timber  ...           174         0   \n",
       "\n",
       "     ScreenPorch PoolArea  MiscVal  MoSold  YrSold  SaleType SaleCondition  \\\n",
       "496            0        0        0       5    2007        WD        Normal   \n",
       "1024           0        0        0       5    2008       COD       Abnorml   \n",
       "\n",
       "     SalePrice  \n",
       "496     430000  \n",
       "1024    287000  \n",
       "\n",
       "[2 rows x 75 columns]"
      ]
     },
     "execution_count": 92,
     "metadata": {},
     "output_type": "execute_result"
    }
   ],
   "source": [
    "train_data[(train_data['1stFlrSF']>2700)]\n"
   ]
  },
  {
   "cell_type": "code",
   "execution_count": 93,
   "id": "77beda1b",
   "metadata": {
    "execution": {
     "iopub.execute_input": "2022-08-18T18:46:55.659589Z",
     "iopub.status.busy": "2022-08-18T18:46:55.659123Z",
     "iopub.status.idle": "2022-08-18T18:46:55.666122Z",
     "shell.execute_reply": "2022-08-18T18:46:55.664726Z"
    },
    "papermill": {
     "duration": 0.061325,
     "end_time": "2022-08-18T18:46:55.668735",
     "exception": false,
     "start_time": "2022-08-18T18:46:55.607410",
     "status": "completed"
    },
    "tags": []
   },
   "outputs": [],
   "source": [
    "int_drop=train_data[(train_data['1stFlrSF']>2700)].index\n"
   ]
  },
  {
   "cell_type": "code",
   "execution_count": 94,
   "id": "80300cc2",
   "metadata": {
    "execution": {
     "iopub.execute_input": "2022-08-18T18:46:55.769280Z",
     "iopub.status.busy": "2022-08-18T18:46:55.768789Z",
     "iopub.status.idle": "2022-08-18T18:46:55.776670Z",
     "shell.execute_reply": "2022-08-18T18:46:55.775561Z"
    },
    "papermill": {
     "duration": 0.061197,
     "end_time": "2022-08-18T18:46:55.779025",
     "exception": false,
     "start_time": "2022-08-18T18:46:55.717828",
     "status": "completed"
    },
    "tags": []
   },
   "outputs": [],
   "source": [
    "train_data=train_data.drop(int_drop,axis=0)"
   ]
  },
  {
   "cell_type": "code",
   "execution_count": 95,
   "id": "19d2ddd9",
   "metadata": {
    "execution": {
     "iopub.execute_input": "2022-08-18T18:46:55.879137Z",
     "iopub.status.busy": "2022-08-18T18:46:55.878427Z",
     "iopub.status.idle": "2022-08-18T18:46:56.115057Z",
     "shell.execute_reply": "2022-08-18T18:46:56.114027Z"
    },
    "papermill": {
     "duration": 0.290384,
     "end_time": "2022-08-18T18:46:56.117586",
     "exception": false,
     "start_time": "2022-08-18T18:46:55.827202",
     "status": "completed"
    },
    "tags": []
   },
   "outputs": [
    {
     "data": {
      "text/plain": [
       "<AxesSubplot:xlabel='YearBuilt', ylabel='SalePrice'>"
      ]
     },
     "execution_count": 95,
     "metadata": {},
     "output_type": "execute_result"
    },
    {
     "data": {
      "image/png": "[encoded data removed]",
      "text/plain": [
       "<Figure size 432x288 with 1 Axes>"
      ]
     },
     "metadata": {
      "needs_background": "light"
     },
     "output_type": "display_data"
    }
   ],
   "source": [
    "sns.scatterplot(x='YearBuilt',y='SalePrice',data=train_data)"
   ]
  },
  {
   "cell_type": "code",
   "execution_count": 96,
   "id": "a543ed23",
   "metadata": {
    "execution": {
     "iopub.execute_input": "2022-08-18T18:46:56.219641Z",
     "iopub.status.busy": "2022-08-18T18:46:56.218921Z",
     "iopub.status.idle": "2022-08-18T18:46:56.242753Z",
     "shell.execute_reply": "2022-08-18T18:46:56.241710Z"
    },
    "papermill": {
     "duration": 0.076969,
     "end_time": "2022-08-18T18:46:56.245074",
     "exception": false,
     "start_time": "2022-08-18T18:46:56.168105",
     "status": "completed"
    },
    "tags": []
   },
   "outputs": [
    {
     "data": {
      "text/html": [
       "<div>\n",
       "<style scoped>\n",
       "    .dataframe tbody tr th:only-of-type {\n",
       "        vertical-align: middle;\n",
       "    }\n",
       "\n",
       "    .dataframe tbody tr th {\n",
       "        vertical-align: top;\n",
       "    }\n",
       "\n",
       "    .dataframe thead th {\n",
       "        text-align: right;\n",
       "    }\n",
       "</style>\n",
       "<table border=\"1\" class=\"dataframe\">\n",
       "  <thead>\n",
       "    <tr style=\"text-align: right;\">\n",
       "      <th></th>\n",
       "      <th>MSSubClass</th>\n",
       "      <th>MSZoning</th>\n",
       "      <th>LotFrontage</th>\n",
       "      <th>LotArea</th>\n",
       "      <th>Street</th>\n",
       "      <th>LotShape</th>\n",
       "      <th>LandContour</th>\n",
       "      <th>LotConfig</th>\n",
       "      <th>LandSlope</th>\n",
       "      <th>Neighborhood</th>\n",
       "      <th>...</th>\n",
       "      <th>EnclosedPorch</th>\n",
       "      <th>3SsnPorch</th>\n",
       "      <th>ScreenPorch</th>\n",
       "      <th>PoolArea</th>\n",
       "      <th>MiscVal</th>\n",
       "      <th>MoSold</th>\n",
       "      <th>YrSold</th>\n",
       "      <th>SaleType</th>\n",
       "      <th>SaleCondition</th>\n",
       "      <th>SalePrice</th>\n",
       "    </tr>\n",
       "  </thead>\n",
       "  <tbody>\n",
       "    <tr>\n",
       "      <th>185</th>\n",
       "      <td>75</td>\n",
       "      <td>RM</td>\n",
       "      <td>90.0</td>\n",
       "      <td>22950</td>\n",
       "      <td>Pave</td>\n",
       "      <td>IR2</td>\n",
       "      <td>Lvl</td>\n",
       "      <td>Inside</td>\n",
       "      <td>Gtl</td>\n",
       "      <td>OldTown</td>\n",
       "      <td>...</td>\n",
       "      <td>0</td>\n",
       "      <td>0</td>\n",
       "      <td>410</td>\n",
       "      <td>0</td>\n",
       "      <td>0</td>\n",
       "      <td>6</td>\n",
       "      <td>2006</td>\n",
       "      <td>WD</td>\n",
       "      <td>Normal</td>\n",
       "      <td>475000</td>\n",
       "    </tr>\n",
       "  </tbody>\n",
       "</table>\n",
       "<p>1 rows × 75 columns</p>\n",
       "</div>"
      ],
      "text/plain": [
       "    MSSubClass MSZoning  LotFrontage  LotArea Street LotShape LandContour  \\\n",
       "185         75       RM         90.0    22950   Pave      IR2         Lvl   \n",
       "\n",
       "    LotConfig LandSlope Neighborhood  ... EnclosedPorch 3SsnPorch ScreenPorch  \\\n",
       "185    Inside       Gtl      OldTown  ...             0         0         410   \n",
       "\n",
       "    PoolArea  MiscVal  MoSold  YrSold  SaleType SaleCondition SalePrice  \n",
       "185        0        0       6    2006        WD        Normal    475000  \n",
       "\n",
       "[1 rows x 75 columns]"
      ]
     },
     "execution_count": 96,
     "metadata": {},
     "output_type": "execute_result"
    }
   ],
   "source": [
    "train_data[(train_data['YearBuilt']<1900)&(train_data['SalePrice']>400000)]\n"
   ]
  },
  {
   "cell_type": "code",
   "execution_count": 97,
   "id": "70dfcf25",
   "metadata": {
    "execution": {
     "iopub.execute_input": "2022-08-18T18:46:56.345875Z",
     "iopub.status.busy": "2022-08-18T18:46:56.345183Z",
     "iopub.status.idle": "2022-08-18T18:46:56.351659Z",
     "shell.execute_reply": "2022-08-18T18:46:56.350632Z"
    },
    "papermill": {
     "duration": 0.059965,
     "end_time": "2022-08-18T18:46:56.354219",
     "exception": false,
     "start_time": "2022-08-18T18:46:56.294254",
     "status": "completed"
    },
    "tags": []
   },
   "outputs": [],
   "source": [
    "int_drop=train_data[(train_data['YearBuilt']<1900)&(train_data['SalePrice']>400000)].index\n"
   ]
  },
  {
   "cell_type": "code",
   "execution_count": 98,
   "id": "ca3af1ac",
   "metadata": {
    "execution": {
     "iopub.execute_input": "2022-08-18T18:46:56.455938Z",
     "iopub.status.busy": "2022-08-18T18:46:56.455230Z",
     "iopub.status.idle": "2022-08-18T18:46:56.462756Z",
     "shell.execute_reply": "2022-08-18T18:46:56.461390Z"
    },
    "papermill": {
     "duration": 0.06161,
     "end_time": "2022-08-18T18:46:56.465643",
     "exception": false,
     "start_time": "2022-08-18T18:46:56.404033",
     "status": "completed"
    },
    "tags": []
   },
   "outputs": [],
   "source": [
    "train_data=train_data.drop(int_drop,axis=0)"
   ]
  },
  {
   "cell_type": "code",
   "execution_count": 99,
   "id": "632113c4",
   "metadata": {
    "execution": {
     "iopub.execute_input": "2022-08-18T18:46:56.567705Z",
     "iopub.status.busy": "2022-08-18T18:46:56.566975Z",
     "iopub.status.idle": "2022-08-18T18:46:57.615364Z",
     "shell.execute_reply": "2022-08-18T18:46:57.613760Z"
    },
    "papermill": {
     "duration": 1.10246,
     "end_time": "2022-08-18T18:46:57.618492",
     "exception": false,
     "start_time": "2022-08-18T18:46:56.516032",
     "status": "completed"
    },
    "tags": []
   },
   "outputs": [
    {
     "data": {
      "image/png": "[encoded data removed]",
      "text/plain": [
       "<Figure size 864x864 with 4 Axes>"
      ]
     },
     "metadata": {
      "needs_background": "light"
     },
     "output_type": "display_data"
    }
   ],
   "source": [
    "# ==================================================================\n",
    "# Sale Price\n",
    "# ==================================================================\n",
    "\n",
    "plot , ax = plt.subplots(2 , 2 , figsize = (12 , 12))\n",
    "g = sns.histplot(SalePrice , kde = True , ax = ax[0][0])\n",
    "res = stats.probplot(SalePrice, plot= ax[1][0])\n",
    "sale_price = np.log1p(train_data[\"SalePrice\"])\n",
    "g = sns.histplot(sale_price , kde = True , ax = ax[0][1])\n",
    "res = stats.probplot(SalePrice, plot= ax[1][1])\n"
   ]
  },
  {
   "cell_type": "code",
   "execution_count": 100,
   "id": "6fc6baf8",
   "metadata": {
    "execution": {
     "iopub.execute_input": "2022-08-18T18:46:57.721666Z",
     "iopub.status.busy": "2022-08-18T18:46:57.721189Z",
     "iopub.status.idle": "2022-08-18T18:46:57.744844Z",
     "shell.execute_reply": "2022-08-18T18:46:57.743330Z"
    },
    "papermill": {
     "duration": 0.078443,
     "end_time": "2022-08-18T18:46:57.747583",
     "exception": false,
     "start_time": "2022-08-18T18:46:57.669140",
     "status": "completed"
    },
    "tags": []
   },
   "outputs": [
    {
     "name": "stdout",
     "output_type": "stream",
     "text": [
      "<class 'pandas.core.frame.DataFrame'>\n",
      "Int64Index: 1447 entries, 0 to 1459\n",
      "Data columns (total 75 columns):\n",
      " #   Column         Non-Null Count  Dtype  \n",
      "---  ------         --------------  -----  \n",
      " 0   MSSubClass     1447 non-null   object \n",
      " 1   MSZoning       1447 non-null   object \n",
      " 2   LotFrontage    1447 non-null   float64\n",
      " 3   LotArea        1447 non-null   int64  \n",
      " 4   Street         1447 non-null   object \n",
      " 5   LotShape       1447 non-null   object \n",
      " 6   LandContour    1447 non-null   object \n",
      " 7   LotConfig      1447 non-null   object \n",
      " 8   LandSlope      1447 non-null   object \n",
      " 9   Neighborhood   1447 non-null   object \n",
      " 10  Condition1     1447 non-null   object \n",
      " 11  Condition2     1447 non-null   object \n",
      " 12  BldgType       1447 non-null   object \n",
      " 13  HouseStyle     1447 non-null   object \n",
      " 14  OverallQual    1447 non-null   int64  \n",
      " 15  OverallCond    1447 non-null   int64  \n",
      " 16  YearBuilt      1447 non-null   int64  \n",
      " 17  YearRemodAdd   1447 non-null   int64  \n",
      " 18  RoofStyle      1447 non-null   object \n",
      " 19  RoofMatl       1447 non-null   object \n",
      " 20  Exterior1st    1447 non-null   object \n",
      " 21  Exterior2nd    1447 non-null   object \n",
      " 22  MasVnrType     1447 non-null   object \n",
      " 23  MasVnrArea     1447 non-null   float64\n",
      " 24  ExterQual      1447 non-null   object \n",
      " 25  ExterCond      1447 non-null   object \n",
      " 26  Foundation     1447 non-null   object \n",
      " 27  BsmtQual       1447 non-null   object \n",
      " 28  BsmtCond       1447 non-null   object \n",
      " 29  BsmtExposure   1447 non-null   object \n",
      " 30  BsmtFinType1   1447 non-null   object \n",
      " 31  BsmtFinSF1     1447 non-null   float64\n",
      " 32  BsmtFinType2   1447 non-null   object \n",
      " 33  BsmtFinSF2     1447 non-null   float64\n",
      " 34  BsmtUnfSF      1447 non-null   float64\n",
      " 35  TotalBsmtSF    1447 non-null   float64\n",
      " 36  Heating        1447 non-null   object \n",
      " 37  HeatingQC      1447 non-null   object \n",
      " 38  CentralAir     1447 non-null   object \n",
      " 39  Electrical     1447 non-null   object \n",
      " 40  1stFlrSF       1447 non-null   int64  \n",
      " 41  2ndFlrSF       1447 non-null   int64  \n",
      " 42  LowQualFinSF   1447 non-null   int64  \n",
      " 43  GrLivArea      1447 non-null   int64  \n",
      " 44  BsmtFullBath   1447 non-null   float64\n",
      " 45  BsmtHalfBath   1447 non-null   float64\n",
      " 46  FullBath       1447 non-null   int64  \n",
      " 47  HalfBath       1447 non-null   int64  \n",
      " 48  BedroomAbvGr   1447 non-null   int64  \n",
      " 49  KitchenAbvGr   1447 non-null   int64  \n",
      " 50  KitchenQual    1447 non-null   object \n",
      " 51  TotRmsAbvGrd   1447 non-null   int64  \n",
      " 52  Functional     1447 non-null   object \n",
      " 53  Fireplaces     1447 non-null   int64  \n",
      " 54  FireplaceQu    1447 non-null   object \n",
      " 55  GarageType     1447 non-null   object \n",
      " 56  GarageYrBlt    1447 non-null   float64\n",
      " 57  GarageFinish   1447 non-null   object \n",
      " 58  GarageCars     1447 non-null   float64\n",
      " 59  GarageArea     1447 non-null   float64\n",
      " 60  GarageQual     1447 non-null   object \n",
      " 61  GarageCond     1447 non-null   object \n",
      " 62  PavedDrive     1447 non-null   object \n",
      " 63  WoodDeckSF     1447 non-null   int64  \n",
      " 64  OpenPorchSF    1447 non-null   int64  \n",
      " 65  EnclosedPorch  1447 non-null   int64  \n",
      " 66  3SsnPorch      1447 non-null   int64  \n",
      " 67  ScreenPorch    1447 non-null   int64  \n",
      " 68  PoolArea       1447 non-null   int64  \n",
      " 69  MiscVal        1447 non-null   int64  \n",
      " 70  MoSold         1447 non-null   object \n",
      " 71  YrSold         1447 non-null   object \n",
      " 72  SaleType       1447 non-null   object \n",
      " 73  SaleCondition  1447 non-null   object \n",
      " 74  SalePrice      1447 non-null   int64  \n",
      "dtypes: float64(11), int64(23), object(41)\n",
      "memory usage: 859.2+ KB\n"
     ]
    }
   ],
   "source": [
    "train_data.info()"
   ]
  },
  {
   "cell_type": "code",
   "execution_count": 101,
   "id": "75b0afb7",
   "metadata": {
    "execution": {
     "iopub.execute_input": "2022-08-18T18:46:57.853588Z",
     "iopub.status.busy": "2022-08-18T18:46:57.852790Z",
     "iopub.status.idle": "2022-08-18T18:46:57.894053Z",
     "shell.execute_reply": "2022-08-18T18:46:57.892783Z"
    },
    "papermill": {
     "duration": 0.097812,
     "end_time": "2022-08-18T18:46:57.896561",
     "exception": false,
     "start_time": "2022-08-18T18:46:57.798749",
     "status": "completed"
    },
    "scrolled": true,
    "tags": []
   },
   "outputs": [
    {
     "data": {
      "text/plain": [
       "(2906, 74)"
      ]
     },
     "execution_count": 101,
     "metadata": {},
     "output_type": "execute_result"
    }
   ],
   "source": [
    "all_data = pd.concat([train_data, test_data]).reset_index(drop=True)\n",
    "all_data.drop(columns = [\"SalePrice\"] , inplace = True)\n",
    "all_data.shape"
   ]
  },
  {
   "cell_type": "code",
   "execution_count": 102,
   "id": "c92cf016",
   "metadata": {
    "execution": {
     "iopub.execute_input": "2022-08-18T18:46:58.002766Z",
     "iopub.status.busy": "2022-08-18T18:46:58.001889Z",
     "iopub.status.idle": "2022-08-18T18:46:58.031960Z",
     "shell.execute_reply": "2022-08-18T18:46:58.030982Z"
    },
    "papermill": {
     "duration": 0.086841,
     "end_time": "2022-08-18T18:46:58.034198",
     "exception": false,
     "start_time": "2022-08-18T18:46:57.947357",
     "status": "completed"
    },
    "tags": []
   },
   "outputs": [
    {
     "name": "stdout",
     "output_type": "stream",
     "text": [
      "\n",
      "Skew in numerical features: \n",
      "\n"
     ]
    },
    {
     "data": {
      "text/html": [
       "<div>\n",
       "<style scoped>\n",
       "    .dataframe tbody tr th:only-of-type {\n",
       "        vertical-align: middle;\n",
       "    }\n",
       "\n",
       "    .dataframe tbody tr th {\n",
       "        vertical-align: top;\n",
       "    }\n",
       "\n",
       "    .dataframe thead th {\n",
       "        text-align: right;\n",
       "    }\n",
       "</style>\n",
       "<table border=\"1\" class=\"dataframe\">\n",
       "  <thead>\n",
       "    <tr style=\"text-align: right;\">\n",
       "      <th></th>\n",
       "      <th>Skew</th>\n",
       "    </tr>\n",
       "  </thead>\n",
       "  <tbody>\n",
       "    <tr>\n",
       "      <th>MiscVal</th>\n",
       "      <td>21.931148</td>\n",
       "    </tr>\n",
       "    <tr>\n",
       "      <th>PoolArea</th>\n",
       "      <td>17.654963</td>\n",
       "    </tr>\n",
       "    <tr>\n",
       "      <th>LowQualFinSF</th>\n",
       "      <td>12.388194</td>\n",
       "    </tr>\n",
       "    <tr>\n",
       "      <th>3SsnPorch</th>\n",
       "      <td>11.350139</td>\n",
       "    </tr>\n",
       "    <tr>\n",
       "      <th>KitchenAbvGr</th>\n",
       "      <td>4.291165</td>\n",
       "    </tr>\n",
       "    <tr>\n",
       "      <th>BsmtFinSF2</th>\n",
       "      <td>4.161925</td>\n",
       "    </tr>\n",
       "    <tr>\n",
       "      <th>EnclosedPorch</th>\n",
       "      <td>4.018686</td>\n",
       "    </tr>\n",
       "    <tr>\n",
       "      <th>BsmtHalfBath</th>\n",
       "      <td>3.935672</td>\n",
       "    </tr>\n",
       "    <tr>\n",
       "      <th>ScreenPorch</th>\n",
       "      <td>3.924461</td>\n",
       "    </tr>\n",
       "    <tr>\n",
       "      <th>LotArea</th>\n",
       "      <td>3.627010</td>\n",
       "    </tr>\n",
       "  </tbody>\n",
       "</table>\n",
       "</div>"
      ],
      "text/plain": [
       "                    Skew\n",
       "MiscVal        21.931148\n",
       "PoolArea       17.654963\n",
       "LowQualFinSF   12.388194\n",
       "3SsnPorch      11.350139\n",
       "KitchenAbvGr    4.291165\n",
       "BsmtFinSF2      4.161925\n",
       "EnclosedPorch   4.018686\n",
       "BsmtHalfBath    3.935672\n",
       "ScreenPorch     3.924461\n",
       "LotArea         3.627010"
      ]
     },
     "execution_count": 102,
     "metadata": {},
     "output_type": "execute_result"
    }
   ],
   "source": [
    "from scipy import stats\n",
    "from scipy.stats import norm, skew #for some statistics\n",
    "\n",
    "numeric_feats = all_data.dtypes[all_data.dtypes != \"object\"].index\n",
    "\n",
    " #Check the skew of all numerical features\n",
    "skewed_feats = all_data[numeric_feats].apply(lambda x: skew(x.dropna())).sort_values(ascending=False)\n",
    "print(\"\\nSkew in numerical features: \\n\")\n",
    "skewness = pd.DataFrame({'Skew' :skewed_feats})\n",
    "skewness.head(10)"
   ]
  },
  {
   "cell_type": "code",
   "execution_count": 103,
   "id": "779b692b",
   "metadata": {
    "execution": {
     "iopub.execute_input": "2022-08-18T18:46:58.139566Z",
     "iopub.status.busy": "2022-08-18T18:46:58.138683Z",
     "iopub.status.idle": "2022-08-18T18:46:58.164821Z",
     "shell.execute_reply": "2022-08-18T18:46:58.163805Z"
    },
    "papermill": {
     "duration": 0.082534,
     "end_time": "2022-08-18T18:46:58.167618",
     "exception": false,
     "start_time": "2022-08-18T18:46:58.085084",
     "status": "completed"
    },
    "tags": []
   },
   "outputs": [
    {
     "name": "stdout",
     "output_type": "stream",
     "text": [
      "There are 33 skewed numerical features to Box Cox transform\n"
     ]
    }
   ],
   "source": [
    "skewness = skewness[abs(skewness) > 0.75]\n",
    "print(\"There are {} skewed numerical features to Box Cox transform\".format(skewness.shape[0]))\n",
    "\n",
    "from scipy.special import boxcox1p\n",
    "skewed_features = skewness.index\n",
    "lam = 0.15\n",
    "for feat in skewed_features:\n",
    "    all_data[feat] = boxcox1p(all_data[feat], lam)"
   ]
  },
  {
   "cell_type": "markdown",
   "id": "ad8eabe0",
   "metadata": {
    "papermill": {
     "duration": 0.051922,
     "end_time": "2022-08-18T18:46:58.272449",
     "exception": false,
     "start_time": "2022-08-18T18:46:58.220527",
     "status": "completed"
    },
    "tags": []
   },
   "source": [
    "# Dealing with Categorical Data\n",
    "\n",
    "Many machine learning models can not deal with categorical data set as strings. For example linear regression can not apply a a Beta Coefficent to colors like \"red\" or \"blue\". Instead we need to convert these categories into \"dummy\" variables, otherwise known as \"one-hot\" encoding."
   ]
  },
  {
   "cell_type": "markdown",
   "id": "ae30a6d8",
   "metadata": {
    "papermill": {
     "duration": 0.050974,
     "end_time": "2022-08-18T18:46:58.375425",
     "exception": false,
     "start_time": "2022-08-18T18:46:58.324451",
     "status": "completed"
    },
    "tags": []
   },
   "source": [
    "## Creating Dummy Variables from Object Columns\n"
   ]
  },
  {
   "cell_type": "code",
   "execution_count": 104,
   "id": "a0590042",
   "metadata": {
    "execution": {
     "iopub.execute_input": "2022-08-18T18:46:58.479690Z",
     "iopub.status.busy": "2022-08-18T18:46:58.479179Z",
     "iopub.status.idle": "2022-08-18T18:46:58.491260Z",
     "shell.execute_reply": "2022-08-18T18:46:58.489825Z"
    },
    "papermill": {
     "duration": 0.067985,
     "end_time": "2022-08-18T18:46:58.494300",
     "exception": false,
     "start_time": "2022-08-18T18:46:58.426315",
     "status": "completed"
    },
    "tags": []
   },
   "outputs": [],
   "source": [
    "df_nums = all_data.select_dtypes(exclude='object')\n",
    "df_objs = all_data.select_dtypes(include='object')"
   ]
  },
  {
   "cell_type": "markdown",
   "id": "214b7b55",
   "metadata": {
    "papermill": {
     "duration": 0.052009,
     "end_time": "2022-08-18T18:46:58.598504",
     "exception": false,
     "start_time": "2022-08-18T18:46:58.546495",
     "status": "completed"
    },
    "tags": []
   },
   "source": [
    "### Converting"
   ]
  },
  {
   "cell_type": "code",
   "execution_count": 105,
   "id": "e135ea42",
   "metadata": {
    "execution": {
     "iopub.execute_input": "2022-08-18T18:46:58.731248Z",
     "iopub.status.busy": "2022-08-18T18:46:58.730292Z",
     "iopub.status.idle": "2022-08-18T18:46:58.785014Z",
     "shell.execute_reply": "2022-08-18T18:46:58.783427Z"
    },
    "papermill": {
     "duration": 0.126717,
     "end_time": "2022-08-18T18:46:58.788131",
     "exception": false,
     "start_time": "2022-08-18T18:46:58.661414",
     "status": "completed"
    },
    "tags": []
   },
   "outputs": [],
   "source": [
    "df_objs = pd.get_dummies(df_objs,drop_first=True)"
   ]
  },
  {
   "cell_type": "code",
   "execution_count": 106,
   "id": "86445bca",
   "metadata": {
    "execution": {
     "iopub.execute_input": "2022-08-18T18:46:58.895325Z",
     "iopub.status.busy": "2022-08-18T18:46:58.894454Z",
     "iopub.status.idle": "2022-08-18T18:46:58.903187Z",
     "shell.execute_reply": "2022-08-18T18:46:58.902206Z"
    },
    "papermill": {
     "duration": 0.065936,
     "end_time": "2022-08-18T18:46:58.905806",
     "exception": false,
     "start_time": "2022-08-18T18:46:58.839870",
     "status": "completed"
    },
    "tags": []
   },
   "outputs": [],
   "source": [
    "all_data = pd.concat([df_nums,df_objs],axis=1)"
   ]
  },
  {
   "cell_type": "code",
   "execution_count": 107,
   "id": "2cf8c010",
   "metadata": {
    "execution": {
     "iopub.execute_input": "2022-08-18T18:46:59.011283Z",
     "iopub.status.busy": "2022-08-18T18:46:59.010175Z",
     "iopub.status.idle": "2022-08-18T18:46:59.017530Z",
     "shell.execute_reply": "2022-08-18T18:46:59.016543Z"
    },
    "papermill": {
     "duration": 0.062556,
     "end_time": "2022-08-18T18:46:59.019801",
     "exception": false,
     "start_time": "2022-08-18T18:46:58.957245",
     "status": "completed"
    },
    "tags": []
   },
   "outputs": [
    {
     "data": {
      "text/plain": [
       "(2906, 278)"
      ]
     },
     "execution_count": 107,
     "metadata": {},
     "output_type": "execute_result"
    }
   ],
   "source": [
    "all_data.shape"
   ]
  },
  {
   "cell_type": "code",
   "execution_count": 108,
   "id": "fe2586e0",
   "metadata": {
    "execution": {
     "iopub.execute_input": "2022-08-18T18:46:59.125491Z",
     "iopub.status.busy": "2022-08-18T18:46:59.124572Z",
     "iopub.status.idle": "2022-08-18T18:46:59.150478Z",
     "shell.execute_reply": "2022-08-18T18:46:59.149110Z"
    },
    "papermill": {
     "duration": 0.082141,
     "end_time": "2022-08-18T18:46:59.153033",
     "exception": false,
     "start_time": "2022-08-18T18:46:59.070892",
     "status": "completed"
    },
    "tags": []
   },
   "outputs": [
    {
     "data": {
      "text/html": [
       "<div>\n",
       "<style scoped>\n",
       "    .dataframe tbody tr th:only-of-type {\n",
       "        vertical-align: middle;\n",
       "    }\n",
       "\n",
       "    .dataframe tbody tr th {\n",
       "        vertical-align: top;\n",
       "    }\n",
       "\n",
       "    .dataframe thead th {\n",
       "        text-align: right;\n",
       "    }\n",
       "</style>\n",
       "<table border=\"1\" class=\"dataframe\">\n",
       "  <thead>\n",
       "    <tr style=\"text-align: right;\">\n",
       "      <th></th>\n",
       "      <th>LotFrontage</th>\n",
       "      <th>LotArea</th>\n",
       "      <th>OverallQual</th>\n",
       "      <th>OverallCond</th>\n",
       "      <th>YearBuilt</th>\n",
       "      <th>YearRemodAdd</th>\n",
       "      <th>MasVnrArea</th>\n",
       "      <th>BsmtFinSF1</th>\n",
       "      <th>BsmtFinSF2</th>\n",
       "      <th>BsmtUnfSF</th>\n",
       "      <th>...</th>\n",
       "      <th>SaleType_ConLw</th>\n",
       "      <th>SaleType_New</th>\n",
       "      <th>SaleType_None</th>\n",
       "      <th>SaleType_Oth</th>\n",
       "      <th>SaleType_WD</th>\n",
       "      <th>SaleCondition_AdjLand</th>\n",
       "      <th>SaleCondition_Alloca</th>\n",
       "      <th>SaleCondition_Family</th>\n",
       "      <th>SaleCondition_Normal</th>\n",
       "      <th>SaleCondition_Partial</th>\n",
       "    </tr>\n",
       "  </thead>\n",
       "  <tbody>\n",
       "    <tr>\n",
       "      <th>0</th>\n",
       "      <td>5.831328</td>\n",
       "      <td>19.212182</td>\n",
       "      <td>2.440268</td>\n",
       "      <td>2.055642</td>\n",
       "      <td>14.187527</td>\n",
       "      <td>14.187527</td>\n",
       "      <td>8.059126</td>\n",
       "      <td>11.170327</td>\n",
       "      <td>0.0</td>\n",
       "      <td>7.483296</td>\n",
       "      <td>...</td>\n",
       "      <td>0</td>\n",
       "      <td>0</td>\n",
       "      <td>0</td>\n",
       "      <td>0</td>\n",
       "      <td>1</td>\n",
       "      <td>0</td>\n",
       "      <td>0</td>\n",
       "      <td>0</td>\n",
       "      <td>1</td>\n",
       "      <td>0</td>\n",
       "    </tr>\n",
       "    <tr>\n",
       "      <th>1</th>\n",
       "      <td>6.221214</td>\n",
       "      <td>19.712205</td>\n",
       "      <td>2.259674</td>\n",
       "      <td>2.602594</td>\n",
       "      <td>14.145138</td>\n",
       "      <td>14.145138</td>\n",
       "      <td>0.000000</td>\n",
       "      <td>12.062832</td>\n",
       "      <td>0.0</td>\n",
       "      <td>8.897844</td>\n",
       "      <td>...</td>\n",
       "      <td>0</td>\n",
       "      <td>0</td>\n",
       "      <td>0</td>\n",
       "      <td>0</td>\n",
       "      <td>1</td>\n",
       "      <td>0</td>\n",
       "      <td>0</td>\n",
       "      <td>0</td>\n",
       "      <td>1</td>\n",
       "      <td>0</td>\n",
       "    </tr>\n",
       "    <tr>\n",
       "      <th>2</th>\n",
       "      <td>5.914940</td>\n",
       "      <td>20.347241</td>\n",
       "      <td>2.440268</td>\n",
       "      <td>2.055642</td>\n",
       "      <td>14.184404</td>\n",
       "      <td>14.185966</td>\n",
       "      <td>7.646538</td>\n",
       "      <td>10.200343</td>\n",
       "      <td>0.0</td>\n",
       "      <td>9.917060</td>\n",
       "      <td>...</td>\n",
       "      <td>0</td>\n",
       "      <td>0</td>\n",
       "      <td>0</td>\n",
       "      <td>0</td>\n",
       "      <td>1</td>\n",
       "      <td>0</td>\n",
       "      <td>0</td>\n",
       "      <td>0</td>\n",
       "      <td>1</td>\n",
       "      <td>0</td>\n",
       "    </tr>\n",
       "    <tr>\n",
       "      <th>3</th>\n",
       "      <td>5.684507</td>\n",
       "      <td>19.691553</td>\n",
       "      <td>2.440268</td>\n",
       "      <td>2.055642</td>\n",
       "      <td>14.047529</td>\n",
       "      <td>14.135652</td>\n",
       "      <td>0.000000</td>\n",
       "      <td>8.274266</td>\n",
       "      <td>0.0</td>\n",
       "      <td>10.468500</td>\n",
       "      <td>...</td>\n",
       "      <td>0</td>\n",
       "      <td>0</td>\n",
       "      <td>0</td>\n",
       "      <td>0</td>\n",
       "      <td>1</td>\n",
       "      <td>0</td>\n",
       "      <td>0</td>\n",
       "      <td>0</td>\n",
       "      <td>0</td>\n",
       "      <td>0</td>\n",
       "    </tr>\n",
       "    <tr>\n",
       "      <th>4</th>\n",
       "      <td>6.314735</td>\n",
       "      <td>21.325160</td>\n",
       "      <td>2.602594</td>\n",
       "      <td>2.055642</td>\n",
       "      <td>14.182841</td>\n",
       "      <td>14.182841</td>\n",
       "      <td>9.391827</td>\n",
       "      <td>10.971129</td>\n",
       "      <td>0.0</td>\n",
       "      <td>10.221051</td>\n",
       "      <td>...</td>\n",
       "      <td>0</td>\n",
       "      <td>0</td>\n",
       "      <td>0</td>\n",
       "      <td>0</td>\n",
       "      <td>1</td>\n",
       "      <td>0</td>\n",
       "      <td>0</td>\n",
       "      <td>0</td>\n",
       "      <td>1</td>\n",
       "      <td>0</td>\n",
       "    </tr>\n",
       "  </tbody>\n",
       "</table>\n",
       "<p>5 rows × 278 columns</p>\n",
       "</div>"
      ],
      "text/plain": [
       "   LotFrontage    LotArea  OverallQual  OverallCond  YearBuilt  YearRemodAdd  \\\n",
       "0     5.831328  19.212182     2.440268     2.055642  14.187527     14.187527   \n",
       "1     6.221214  19.712205     2.259674     2.602594  14.145138     14.145138   \n",
       "2     5.914940  20.347241     2.440268     2.055642  14.184404     14.185966   \n",
       "3     5.684507  19.691553     2.440268     2.055642  14.047529     14.135652   \n",
       "4     6.314735  21.325160     2.602594     2.055642  14.182841     14.182841   \n",
       "\n",
       "   MasVnrArea  BsmtFinSF1  BsmtFinSF2  BsmtUnfSF  ...  SaleType_ConLw  \\\n",
       "0    8.059126   11.170327         0.0   7.483296  ...               0   \n",
       "1    0.000000   12.062832         0.0   8.897844  ...               0   \n",
       "2    7.646538   10.200343         0.0   9.917060  ...               0   \n",
       "3    0.000000    8.274266         0.0  10.468500  ...               0   \n",
       "4    9.391827   10.971129         0.0  10.221051  ...               0   \n",
       "\n",
       "   SaleType_New  SaleType_None  SaleType_Oth  SaleType_WD  \\\n",
       "0             0              0             0            1   \n",
       "1             0              0             0            1   \n",
       "2             0              0             0            1   \n",
       "3             0              0             0            1   \n",
       "4             0              0             0            1   \n",
       "\n",
       "   SaleCondition_AdjLand  SaleCondition_Alloca  SaleCondition_Family  \\\n",
       "0                      0                     0                     0   \n",
       "1                      0                     0                     0   \n",
       "2                      0                     0                     0   \n",
       "3                      0                     0                     0   \n",
       "4                      0                     0                     0   \n",
       "\n",
       "   SaleCondition_Normal  SaleCondition_Partial  \n",
       "0                     1                      0  \n",
       "1                     1                      0  \n",
       "2                     1                      0  \n",
       "3                     0                      0  \n",
       "4                     1                      0  \n",
       "\n",
       "[5 rows x 278 columns]"
      ]
     },
     "execution_count": 108,
     "metadata": {},
     "output_type": "execute_result"
    }
   ],
   "source": [
    "all_data.head()\n"
   ]
  },
  {
   "cell_type": "code",
   "execution_count": 109,
   "id": "b9b4b14d",
   "metadata": {
    "execution": {
     "iopub.execute_input": "2022-08-18T18:46:59.261019Z",
     "iopub.status.busy": "2022-08-18T18:46:59.260261Z",
     "iopub.status.idle": "2022-08-18T18:46:59.266687Z",
     "shell.execute_reply": "2022-08-18T18:46:59.265750Z"
    },
    "papermill": {
     "duration": 0.064355,
     "end_time": "2022-08-18T18:46:59.269121",
     "exception": false,
     "start_time": "2022-08-18T18:46:59.204766",
     "status": "completed"
    },
    "tags": []
   },
   "outputs": [],
   "source": [
    "train_data = all_data[:len(train_data)]\n",
    "test_data = all_data[len(train_data):]"
   ]
  },
  {
   "cell_type": "code",
   "execution_count": 110,
   "id": "ea7aff6c",
   "metadata": {
    "execution": {
     "iopub.execute_input": "2022-08-18T18:46:59.375368Z",
     "iopub.status.busy": "2022-08-18T18:46:59.374834Z",
     "iopub.status.idle": "2022-08-18T18:46:59.380502Z",
     "shell.execute_reply": "2022-08-18T18:46:59.379160Z"
    },
    "papermill": {
     "duration": 0.062432,
     "end_time": "2022-08-18T18:46:59.383299",
     "exception": false,
     "start_time": "2022-08-18T18:46:59.320867",
     "status": "completed"
    },
    "tags": []
   },
   "outputs": [],
   "source": [
    "target = sale_price\n",
    "train = train_data"
   ]
  },
  {
   "cell_type": "markdown",
   "id": "38d49d34",
   "metadata": {
    "papermill": {
     "duration": 0.051262,
     "end_time": "2022-08-18T18:46:59.486469",
     "exception": false,
     "start_time": "2022-08-18T18:46:59.435207",
     "status": "completed"
    },
    "tags": []
   },
   "source": [
    "# Modelling"
   ]
  },
  {
   "cell_type": "code",
   "execution_count": 111,
   "id": "ca2a4c4f",
   "metadata": {
    "execution": {
     "iopub.execute_input": "2022-08-18T18:46:59.593849Z",
     "iopub.status.busy": "2022-08-18T18:46:59.592969Z",
     "iopub.status.idle": "2022-08-18T18:46:59.598378Z",
     "shell.execute_reply": "2022-08-18T18:46:59.597323Z"
    },
    "papermill": {
     "duration": 0.061718,
     "end_time": "2022-08-18T18:46:59.601160",
     "exception": false,
     "start_time": "2022-08-18T18:46:59.539442",
     "status": "completed"
    },
    "tags": []
   },
   "outputs": [],
   "source": [
    "from sklearn.model_selection import KFold, cross_val_score\n"
   ]
  },
  {
   "cell_type": "code",
   "execution_count": 112,
   "id": "83f1869b",
   "metadata": {
    "execution": {
     "iopub.execute_input": "2022-08-18T18:46:59.706584Z",
     "iopub.status.busy": "2022-08-18T18:46:59.706024Z",
     "iopub.status.idle": "2022-08-18T18:46:59.712871Z",
     "shell.execute_reply": "2022-08-18T18:46:59.710950Z"
    },
    "papermill": {
     "duration": 0.063574,
     "end_time": "2022-08-18T18:46:59.715890",
     "exception": false,
     "start_time": "2022-08-18T18:46:59.652316",
     "status": "completed"
    },
    "tags": []
   },
   "outputs": [],
   "source": [
    "# Setup cross validation folds\n",
    "kf = KFold(n_splits=12, random_state=42, shuffle=True)\n",
    "scores = {}"
   ]
  },
  {
   "cell_type": "code",
   "execution_count": 113,
   "id": "26fcea61",
   "metadata": {
    "execution": {
     "iopub.execute_input": "2022-08-18T18:46:59.824182Z",
     "iopub.status.busy": "2022-08-18T18:46:59.823613Z",
     "iopub.status.idle": "2022-08-18T18:46:59.830536Z",
     "shell.execute_reply": "2022-08-18T18:46:59.829276Z"
    },
    "papermill": {
     "duration": 0.06353,
     "end_time": "2022-08-18T18:46:59.833189",
     "exception": false,
     "start_time": "2022-08-18T18:46:59.769659",
     "status": "completed"
    },
    "tags": []
   },
   "outputs": [],
   "source": [
    "# Define error metrics\n",
    "def rmsle(y, y_pred):\n",
    "    return np.sqrt(mean_squared_error(y, y_pred))\n",
    "\n",
    "def cv_rmse(model, X=train , Y=target):\n",
    "    rmse = np.sqrt(-cross_val_score(model,X, Y, scoring=\"neg_mean_squared_error\", cv=kf))\n",
    "    return (rmse)"
   ]
  },
  {
   "cell_type": "markdown",
   "id": "780bcdaf",
   "metadata": {
    "papermill": {
     "duration": 0.051478,
     "end_time": "2022-08-18T18:46:59.936676",
     "exception": false,
     "start_time": "2022-08-18T18:46:59.885198",
     "status": "completed"
    },
    "tags": []
   },
   "source": [
    "------------\n",
    "## DecisionTreeRegressor"
   ]
  },
  {
   "cell_type": "code",
   "execution_count": 114,
   "id": "357e5910",
   "metadata": {
    "execution": {
     "iopub.execute_input": "2022-08-18T18:47:00.046230Z",
     "iopub.status.busy": "2022-08-18T18:47:00.045680Z",
     "iopub.status.idle": "2022-08-18T18:47:00.084280Z",
     "shell.execute_reply": "2022-08-18T18:47:00.082863Z"
    },
    "papermill": {
     "duration": 0.097943,
     "end_time": "2022-08-18T18:47:00.087628",
     "exception": false,
     "start_time": "2022-08-18T18:46:59.989685",
     "status": "completed"
    },
    "tags": []
   },
   "outputs": [],
   "source": [
    "from sklearn.tree import DecisionTreeRegressor\n",
    "from sklearn.model_selection import GridSearchCV , learning_curve\n"
   ]
  },
  {
   "cell_type": "code",
   "execution_count": 115,
   "id": "255122a3",
   "metadata": {
    "execution": {
     "iopub.execute_input": "2022-08-18T18:47:00.197900Z",
     "iopub.status.busy": "2022-08-18T18:47:00.197432Z",
     "iopub.status.idle": "2022-08-18T18:47:00.943593Z",
     "shell.execute_reply": "2022-08-18T18:47:00.942089Z"
    },
    "papermill": {
     "duration": 0.804465,
     "end_time": "2022-08-18T18:47:00.947081",
     "exception": false,
     "start_time": "2022-08-18T18:47:00.142616",
     "status": "completed"
    },
    "tags": []
   },
   "outputs": [
    {
     "name": "stdout",
     "output_type": "stream",
     "text": [
      "Decision Tree Model: 0.1992 (0.0164)\n"
     ]
    }
   ],
   "source": [
    "decision_tree_model = DecisionTreeRegressor()\n",
    "score = cv_rmse(decision_tree_model)\n",
    "print(\"Decision Tree Model: {:.4f} ({:.4f})\".format(score.mean(), score.std()))"
   ]
  },
  {
   "cell_type": "code",
   "execution_count": 116,
   "id": "e548755e",
   "metadata": {
    "execution": {
     "iopub.execute_input": "2022-08-18T18:47:01.054539Z",
     "iopub.status.busy": "2022-08-18T18:47:01.053346Z",
     "iopub.status.idle": "2022-08-18T18:47:29.431168Z",
     "shell.execute_reply": "2022-08-18T18:47:29.429742Z"
    },
    "papermill": {
     "duration": 28.43398,
     "end_time": "2022-08-18T18:47:29.433973",
     "exception": false,
     "start_time": "2022-08-18T18:47:00.999993",
     "status": "completed"
    },
    "tags": []
   },
   "outputs": [
    {
     "name": "stdout",
     "output_type": "stream",
     "text": [
      "Fitting 5 folds for each of 175 candidates, totalling 875 fits\n"
     ]
    },
    {
     "data": {
      "text/plain": [
       "DecisionTreeRegressor(max_depth=11, min_samples_leaf=7, min_samples_split=6)"
      ]
     },
     "execution_count": 116,
     "metadata": {},
     "output_type": "execute_result"
    }
   ],
   "source": [
    "clf = GridSearchCV(decision_tree_model , {\n",
    "    \"max_depth\" : [6,7,8,9,10,11,12],\n",
    "    \"min_samples_split\": [6,7,8,9,10],\n",
    "    \"min_samples_leaf\" : [5,7,8,9,10]\n",
    "},verbose = 1)\n",
    "clf.fit(train , target)\n",
    "clf.best_estimator_"
   ]
  },
  {
   "cell_type": "code",
   "execution_count": 117,
   "id": "94aa07a2",
   "metadata": {
    "execution": {
     "iopub.execute_input": "2022-08-18T18:47:29.541265Z",
     "iopub.status.busy": "2022-08-18T18:47:29.540206Z",
     "iopub.status.idle": "2022-08-18T18:47:30.009967Z",
     "shell.execute_reply": "2022-08-18T18:47:30.008356Z"
    },
    "papermill": {
     "duration": 0.527162,
     "end_time": "2022-08-18T18:47:30.013760",
     "exception": false,
     "start_time": "2022-08-18T18:47:29.486598",
     "status": "completed"
    },
    "tags": []
   },
   "outputs": [
    {
     "name": "stdout",
     "output_type": "stream",
     "text": [
      "Decision Tree Model: 0.1779 (0.0192)\n"
     ]
    }
   ],
   "source": [
    "score = cv_rmse(clf.best_estimator_)\n",
    "print(\"Decision Tree Model: {:.4f} ({:.4f})\".format(score.mean(), score.std()))\n",
    "scores['decision_tree'] = (score.mean(), score.std())"
   ]
  },
  {
   "cell_type": "markdown",
   "id": "d294d444",
   "metadata": {
    "papermill": {
     "duration": 0.054727,
     "end_time": "2022-08-18T18:47:30.121692",
     "exception": false,
     "start_time": "2022-08-18T18:47:30.066965",
     "status": "completed"
    },
    "tags": []
   },
   "source": [
    "----\n",
    "## Random Forest Regressor\n"
   ]
  },
  {
   "cell_type": "code",
   "execution_count": 118,
   "id": "b14126ee",
   "metadata": {
    "execution": {
     "iopub.execute_input": "2022-08-18T18:47:30.233337Z",
     "iopub.status.busy": "2022-08-18T18:47:30.232030Z",
     "iopub.status.idle": "2022-08-18T18:47:30.310016Z",
     "shell.execute_reply": "2022-08-18T18:47:30.308739Z"
    },
    "papermill": {
     "duration": 0.137656,
     "end_time": "2022-08-18T18:47:30.313056",
     "exception": false,
     "start_time": "2022-08-18T18:47:30.175400",
     "status": "completed"
    },
    "tags": []
   },
   "outputs": [],
   "source": [
    "from sklearn.ensemble import RandomForestRegressor, GradientBoostingRegressor\n"
   ]
  },
  {
   "cell_type": "code",
   "execution_count": 119,
   "id": "6490ce39",
   "metadata": {
    "execution": {
     "iopub.execute_input": "2022-08-18T18:47:30.421527Z",
     "iopub.status.busy": "2022-08-18T18:47:30.421031Z",
     "iopub.status.idle": "2022-08-18T18:48:06.775920Z",
     "shell.execute_reply": "2022-08-18T18:48:06.774516Z"
    },
    "papermill": {
     "duration": 36.463336,
     "end_time": "2022-08-18T18:48:06.830706",
     "exception": false,
     "start_time": "2022-08-18T18:47:30.367370",
     "status": "completed"
    },
    "tags": []
   },
   "outputs": [
    {
     "name": "stdout",
     "output_type": "stream",
     "text": [
      "Random Forest Model: 0.1354 (0.0222)\n"
     ]
    }
   ],
   "source": [
    "# Random Forest Regressor\n",
    "random_forest_model = RandomForestRegressor(random_state=42)\n",
    "score = cv_rmse(random_forest_model)\n",
    "print(\"Random Forest Model: {:.4f} ({:.4f})\".format(score.mean(), score.std()))\n",
    "scores['random_forest'] = (score.mean(), score.std())"
   ]
  },
  {
   "cell_type": "markdown",
   "id": "bb423d71",
   "metadata": {
    "papermill": {
     "duration": 0.053418,
     "end_time": "2022-08-18T18:48:06.936735",
     "exception": false,
     "start_time": "2022-08-18T18:48:06.883317",
     "status": "completed"
    },
    "tags": []
   },
   "source": [
    "--------\n",
    "## Ridge Regressor\n"
   ]
  },
  {
   "cell_type": "code",
   "execution_count": 120,
   "id": "e0f26c03",
   "metadata": {
    "execution": {
     "iopub.execute_input": "2022-08-18T18:48:07.042485Z",
     "iopub.status.busy": "2022-08-18T18:48:07.041587Z",
     "iopub.status.idle": "2022-08-18T18:48:07.050642Z",
     "shell.execute_reply": "2022-08-18T18:48:07.049662Z"
    },
    "papermill": {
     "duration": 0.065125,
     "end_time": "2022-08-18T18:48:07.053342",
     "exception": false,
     "start_time": "2022-08-18T18:48:06.988217",
     "status": "completed"
    },
    "tags": []
   },
   "outputs": [],
   "source": [
    "from sklearn.linear_model import Ridge, RidgeCV\n",
    "from sklearn.pipeline import make_pipeline\n",
    "from sklearn.preprocessing import RobustScaler\n"
   ]
  },
  {
   "cell_type": "code",
   "execution_count": 121,
   "id": "e6367bcb",
   "metadata": {
    "execution": {
     "iopub.execute_input": "2022-08-18T18:48:07.159929Z",
     "iopub.status.busy": "2022-08-18T18:48:07.159454Z",
     "iopub.status.idle": "2022-08-18T18:50:19.566560Z",
     "shell.execute_reply": "2022-08-18T18:50:19.564222Z"
    },
    "papermill": {
     "duration": 132.597863,
     "end_time": "2022-08-18T18:50:19.703343",
     "exception": false,
     "start_time": "2022-08-18T18:48:07.105480",
     "status": "completed"
    },
    "tags": []
   },
   "outputs": [
    {
     "name": "stdout",
     "output_type": "stream",
     "text": [
      "Ridge Regressor: 0.1110 (0.0168)\n"
     ]
    }
   ],
   "source": [
    "# Ridge Regressor\n",
    "ridge_alphas = [1e-15, 1e-10, 1e-8, 9e-4, 7e-4, 5e-4, 3e-4, 1e-4, 1e-3, 5e-2, 1e-2, 0.1, 0.3, 1, 3, 5, 10, 15, 18, 20, 30, 50, 75, 100]\n",
    "ridge = make_pipeline(RobustScaler(), RidgeCV(alphas=ridge_alphas, cv=kf))\n",
    "score = cv_rmse(ridge)\n",
    "print(\"Ridge Regressor: {:.4f} ({:.4f})\".format(score.mean(), score.std()))\n",
    "scores['ridge_model'] = (score.mean(), score.std())"
   ]
  },
  {
   "cell_type": "markdown",
   "id": "b7d0e0f3",
   "metadata": {
    "papermill": {
     "duration": 0.056958,
     "end_time": "2022-08-18T18:50:19.816528",
     "exception": false,
     "start_time": "2022-08-18T18:50:19.759570",
     "status": "completed"
    },
    "tags": []
   },
   "source": [
    "-----------------\n",
    "## XGBoost Regressor\n"
   ]
  },
  {
   "cell_type": "code",
   "execution_count": 122,
   "id": "e5216d79",
   "metadata": {
    "execution": {
     "iopub.execute_input": "2022-08-18T18:50:19.921307Z",
     "iopub.status.busy": "2022-08-18T18:50:19.920837Z",
     "iopub.status.idle": "2022-08-18T18:50:21.033142Z",
     "shell.execute_reply": "2022-08-18T18:50:21.031653Z"
    },
    "papermill": {
     "duration": 1.167912,
     "end_time": "2022-08-18T18:50:21.036039",
     "exception": false,
     "start_time": "2022-08-18T18:50:19.868127",
     "status": "completed"
    },
    "tags": []
   },
   "outputs": [
    {
     "data": {
      "text/html": [
       "<style type='text/css'>\n",
       ".datatable table.frame { margin-bottom: 0; }\n",
       ".datatable table.frame thead { border-bottom: none; }\n",
       ".datatable table.frame tr.coltypes td {  color: #FFFFFF;  line-height: 6px;  padding: 0 0.5em;}\n",
       ".datatable .bool    { background: #DDDD99; }\n",
       ".datatable .object  { background: #565656; }\n",
       ".datatable .int     { background: #5D9E5D; }\n",
       ".datatable .float   { background: #4040CC; }\n",
       ".datatable .str     { background: #CC4040; }\n",
       ".datatable .time    { background: #40CC40; }\n",
       ".datatable .row_index {  background: var(--jp-border-color3);  border-right: 1px solid var(--jp-border-color0);  color: var(--jp-ui-font-color3);  font-size: 9px;}\n",
       ".datatable .frame tbody td { text-align: left; }\n",
       ".datatable .frame tr.coltypes .row_index {  background: var(--jp-border-color0);}\n",
       ".datatable th:nth-child(2) { padding-left: 12px; }\n",
       ".datatable .hellipsis {  color: var(--jp-cell-editor-border-color);}\n",
       ".datatable .vellipsis {  background: var(--jp-layout-color0);  color: var(--jp-cell-editor-border-color);}\n",
       ".datatable .na {  color: var(--jp-cell-editor-border-color);  font-size: 80%;}\n",
       ".datatable .sp {  opacity: 0.25;}\n",
       ".datatable .footer { font-size: 9px; }\n",
       ".datatable .frame_dimensions {  background: var(--jp-border-color3);  border-top: 1px solid var(--jp-border-color0);  color: var(--jp-ui-font-color3);  display: inline-block;  opacity: 0.6;  padding: 1px 10px 1px 5px;}\n",
       "</style>\n"
      ],
      "text/plain": [
       "<IPython.core.display.HTML object>"
      ]
     },
     "metadata": {},
     "output_type": "display_data"
    }
   ],
   "source": [
    "from mlxtend.regressor import StackingCVRegressor\n",
    "import lightgbm as lgb\n",
    "from lightgbm import LGBMRegressor\n",
    "from xgboost import XGBRegressor"
   ]
  },
  {
   "cell_type": "code",
   "execution_count": 123,
   "id": "fe6073a4",
   "metadata": {
    "execution": {
     "iopub.execute_input": "2022-08-18T18:50:21.143352Z",
     "iopub.status.busy": "2022-08-18T18:50:21.141927Z",
     "iopub.status.idle": "2022-08-18T18:50:36.360726Z",
     "shell.execute_reply": "2022-08-18T18:50:36.359523Z"
    },
    "papermill": {
     "duration": 15.275424,
     "end_time": "2022-08-18T18:50:36.363568",
     "exception": false,
     "start_time": "2022-08-18T18:50:21.088144",
     "status": "completed"
    },
    "tags": []
   },
   "outputs": [
    {
     "name": "stdout",
     "output_type": "stream",
     "text": [
      "xgboost_model: 0.1318 (0.0164)\n"
     ]
    }
   ],
   "source": [
    "# XGBoost Regressor\n",
    "xgboost = XGBRegressor(objective='reg:squarederror',random_state=42)\n",
    "score = cv_rmse(xgboost)\n",
    "print(\"xgboost_model: {:.4f} ({:.4f})\".format(score.mean(), score.std()))\n",
    "scores['Xgboost'] = (score.mean(), score.std())"
   ]
  },
  {
   "cell_type": "markdown",
   "id": "fc478670",
   "metadata": {
    "papermill": {
     "duration": 0.051754,
     "end_time": "2022-08-18T18:50:36.468553",
     "exception": false,
     "start_time": "2022-08-18T18:50:36.416799",
     "status": "completed"
    },
    "tags": []
   },
   "source": [
    "------------\n",
    "## Light Gradient Boosting Regressor\n"
   ]
  },
  {
   "cell_type": "code",
   "execution_count": 124,
   "id": "354d6064",
   "metadata": {
    "execution": {
     "iopub.execute_input": "2022-08-18T18:50:36.574556Z",
     "iopub.status.busy": "2022-08-18T18:50:36.574066Z",
     "iopub.status.idle": "2022-08-18T18:50:39.772429Z",
     "shell.execute_reply": "2022-08-18T18:50:39.770875Z"
    },
    "papermill": {
     "duration": 3.255356,
     "end_time": "2022-08-18T18:50:39.775666",
     "exception": false,
     "start_time": "2022-08-18T18:50:36.520310",
     "status": "completed"
    },
    "tags": []
   },
   "outputs": [
    {
     "name": "stdout",
     "output_type": "stream",
     "text": [
      "[LightGBM] [Warning] Found whitespace in feature_names, replace with underlines\n",
      "[LightGBM] [Warning] Auto-choosing col-wise multi-threading, the overhead of testing was 0.001905 seconds.\n",
      "You can set `force_col_wise=true` to remove the overhead.\n",
      "[LightGBM] [Info] Total Bins 3357\n",
      "[LightGBM] [Info] Number of data points in the train set: 1326, number of used features: 189\n",
      "[LightGBM] [Info] Start training from score 12.028299\n",
      "[LightGBM] [Warning] Found whitespace in feature_names, replace with underlines\n",
      "[LightGBM] [Warning] Auto-choosing col-wise multi-threading, the overhead of testing was 0.001731 seconds.\n",
      "You can set `force_col_wise=true` to remove the overhead.\n",
      "[LightGBM] [Info] Total Bins 3339\n",
      "[LightGBM] [Info] Number of data points in the train set: 1326, number of used features: 187\n",
      "[LightGBM] [Info] Start training from score 12.025627\n",
      "[LightGBM] [Warning] Found whitespace in feature_names, replace with underlines\n",
      "[LightGBM] [Warning] Auto-choosing col-wise multi-threading, the overhead of testing was 0.001763 seconds.\n",
      "You can set `force_col_wise=true` to remove the overhead.\n",
      "[LightGBM] [Info] Total Bins 3354\n",
      "[LightGBM] [Info] Number of data points in the train set: 1326, number of used features: 188\n",
      "[LightGBM] [Info] Start training from score 12.021545\n",
      "[LightGBM] [Warning] Found whitespace in feature_names, replace with underlines\n",
      "[LightGBM] [Warning] Auto-choosing col-wise multi-threading, the overhead of testing was 0.001779 seconds.\n",
      "You can set `force_col_wise=true` to remove the overhead.\n",
      "[LightGBM] [Info] Total Bins 3353\n",
      "[LightGBM] [Info] Number of data points in the train set: 1326, number of used features: 189\n",
      "[LightGBM] [Info] Start training from score 12.016762\n",
      "[LightGBM] [Warning] Found whitespace in feature_names, replace with underlines\n",
      "[LightGBM] [Warning] Auto-choosing col-wise multi-threading, the overhead of testing was 0.001756 seconds.\n",
      "You can set `force_col_wise=true` to remove the overhead.\n",
      "[LightGBM] [Info] Total Bins 3332\n",
      "[LightGBM] [Info] Number of data points in the train set: 1326, number of used features: 186\n",
      "[LightGBM] [Info] Start training from score 12.022826\n",
      "[LightGBM] [Warning] Found whitespace in feature_names, replace with underlines\n",
      "[LightGBM] [Warning] Auto-choosing col-wise multi-threading, the overhead of testing was 0.001737 seconds.\n",
      "You can set `force_col_wise=true` to remove the overhead.\n",
      "[LightGBM] [Info] Total Bins 3252\n",
      "[LightGBM] [Info] Number of data points in the train set: 1326, number of used features: 186\n",
      "[LightGBM] [Info] Start training from score 12.016943\n",
      "[LightGBM] [Warning] Found whitespace in feature_names, replace with underlines\n",
      "[LightGBM] [Warning] Auto-choosing col-wise multi-threading, the overhead of testing was 0.001754 seconds.\n",
      "You can set `force_col_wise=true` to remove the overhead.\n",
      "[LightGBM] [Info] Total Bins 3262\n",
      "[LightGBM] [Info] Number of data points in the train set: 1326, number of used features: 187\n",
      "[LightGBM] [Info] Start training from score 12.018182\n",
      "[LightGBM] [Warning] Found whitespace in feature_names, replace with underlines\n",
      "[LightGBM] [Warning] Auto-choosing col-wise multi-threading, the overhead of testing was 0.001746 seconds.\n",
      "You can set `force_col_wise=true` to remove the overhead.\n",
      "[LightGBM] [Info] Total Bins 3267\n",
      "[LightGBM] [Info] Number of data points in the train set: 1327, number of used features: 189\n",
      "[LightGBM] [Info] Start training from score 12.027640\n",
      "[LightGBM] [Warning] Found whitespace in feature_names, replace with underlines\n",
      "[LightGBM] [Warning] Auto-choosing col-wise multi-threading, the overhead of testing was 0.001787 seconds.\n",
      "You can set `force_col_wise=true` to remove the overhead.\n",
      "[LightGBM] [Info] Total Bins 3330\n",
      "[LightGBM] [Info] Number of data points in the train set: 1327, number of used features: 188\n",
      "[LightGBM] [Info] Start training from score 12.015541\n",
      "[LightGBM] [Warning] Found whitespace in feature_names, replace with underlines\n",
      "[LightGBM] [Warning] Auto-choosing col-wise multi-threading, the overhead of testing was 0.001742 seconds.\n",
      "You can set `force_col_wise=true` to remove the overhead.\n",
      "[LightGBM] [Info] Total Bins 3342\n",
      "[LightGBM] [Info] Number of data points in the train set: 1327, number of used features: 187\n",
      "[LightGBM] [Info] Start training from score 12.017305\n",
      "[LightGBM] [Warning] Found whitespace in feature_names, replace with underlines\n",
      "[LightGBM] [Warning] Auto-choosing col-wise multi-threading, the overhead of testing was 0.001737 seconds.\n",
      "You can set `force_col_wise=true` to remove the overhead.\n",
      "[LightGBM] [Info] Total Bins 3264\n",
      "[LightGBM] [Info] Number of data points in the train set: 1327, number of used features: 186\n",
      "[LightGBM] [Info] Start training from score 12.019030\n",
      "[LightGBM] [Warning] Found whitespace in feature_names, replace with underlines\n",
      "[LightGBM] [Warning] Auto-choosing col-wise multi-threading, the overhead of testing was 0.001699 seconds.\n",
      "You can set `force_col_wise=true` to remove the overhead.\n",
      "[LightGBM] [Info] Total Bins 3331\n",
      "[LightGBM] [Info] Number of data points in the train set: 1327, number of used features: 188\n",
      "[LightGBM] [Info] Start training from score 12.018310\n",
      "Light Gbm: 0.1227 (0.0178)\n"
     ]
    }
   ],
   "source": [
    "# Light Gradient Boosting Regressor\n",
    "lightgbm = LGBMRegressor(objective='regression', verbose=1,random_state=42)\n",
    "score = cv_rmse(lightgbm)\n",
    "print(\"Light Gbm: {:.4f} ({:.4f})\".format(score.mean(), score.std()))\n",
    "scores['Lgbm'] = (score.mean(), score.std())"
   ]
  },
  {
   "cell_type": "markdown",
   "id": "ed2c1466",
   "metadata": {
    "papermill": {
     "duration": 0.052646,
     "end_time": "2022-08-18T18:50:39.884186",
     "exception": false,
     "start_time": "2022-08-18T18:50:39.831540",
     "status": "completed"
    },
    "tags": []
   },
   "source": [
    "----------------------\n",
    "## Gradient Boosting Regressor\n"
   ]
  },
  {
   "cell_type": "code",
   "execution_count": 125,
   "id": "c2f331f5",
   "metadata": {
    "execution": {
     "iopub.execute_input": "2022-08-18T18:50:39.993550Z",
     "iopub.status.busy": "2022-08-18T18:50:39.993037Z",
     "iopub.status.idle": "2022-08-18T18:50:56.495675Z",
     "shell.execute_reply": "2022-08-18T18:50:56.493968Z"
    },
    "papermill": {
     "duration": 16.561589,
     "end_time": "2022-08-18T18:50:56.498896",
     "exception": false,
     "start_time": "2022-08-18T18:50:39.937307",
     "status": "completed"
    },
    "tags": []
   },
   "outputs": [
    {
     "name": "stdout",
     "output_type": "stream",
     "text": [
      "gradient_boosting: 0.1225 (0.0190)\n"
     ]
    }
   ],
   "source": [
    "# Gradient Boosting Regressor\n",
    "gbr = GradientBoostingRegressor(loss='huber',random_state=42)  \n",
    "score = cv_rmse(gbr)\n",
    "print(\"gradient_boosting: {:.4f} ({:.4f})\".format(score.mean(), score.std()))\n",
    "scores['gradient boosting'] = (score.mean(), score.std())"
   ]
  },
  {
   "cell_type": "markdown",
   "id": "2d20526c",
   "metadata": {
    "papermill": {
     "duration": 0.05393,
     "end_time": "2022-08-18T18:50:56.606488",
     "exception": false,
     "start_time": "2022-08-18T18:50:56.552558",
     "status": "completed"
    },
    "tags": []
   },
   "source": [
    "-----------\n",
    "## Support Vector Regressor\n"
   ]
  },
  {
   "cell_type": "code",
   "execution_count": 126,
   "id": "a0e455ca",
   "metadata": {
    "execution": {
     "iopub.execute_input": "2022-08-18T18:50:56.718469Z",
     "iopub.status.busy": "2022-08-18T18:50:56.717302Z",
     "iopub.status.idle": "2022-08-18T18:50:56.723486Z",
     "shell.execute_reply": "2022-08-18T18:50:56.722414Z"
    },
    "papermill": {
     "duration": 0.065633,
     "end_time": "2022-08-18T18:50:56.726147",
     "exception": false,
     "start_time": "2022-08-18T18:50:56.660514",
     "status": "completed"
    },
    "tags": []
   },
   "outputs": [],
   "source": [
    "from sklearn.svm import SVR\n"
   ]
  },
  {
   "cell_type": "code",
   "execution_count": 127,
   "id": "d8186865",
   "metadata": {
    "execution": {
     "iopub.execute_input": "2022-08-18T18:50:56.837916Z",
     "iopub.status.busy": "2022-08-18T18:50:56.836965Z",
     "iopub.status.idle": "2022-08-18T18:51:02.648587Z",
     "shell.execute_reply": "2022-08-18T18:51:02.647125Z"
    },
    "papermill": {
     "duration": 5.872394,
     "end_time": "2022-08-18T18:51:02.652229",
     "exception": false,
     "start_time": "2022-08-18T18:50:56.779835",
     "status": "completed"
    },
    "tags": []
   },
   "outputs": [
    {
     "name": "stdout",
     "output_type": "stream",
     "text": [
      "Support Vector Machine: 0.1106 (0.0190)\n"
     ]
    }
   ],
   "source": [
    "# Support Vector Regressor\n",
    "svr = make_pipeline(RobustScaler(), SVR(C= 20, epsilon= 0.008, gamma=0.0003))\n",
    "score = cv_rmse(svr)\n",
    "print(\"Support Vector Machine: {:.4f} ({:.4f})\".format(score.mean(), score.std()))\n",
    "scores['Support Vector Machine'] = (score.mean(), score.std())"
   ]
  },
  {
   "cell_type": "code",
   "execution_count": 128,
   "id": "7a77d14a",
   "metadata": {
    "execution": {
     "iopub.execute_input": "2022-08-18T18:51:02.762448Z",
     "iopub.status.busy": "2022-08-18T18:51:02.761386Z",
     "iopub.status.idle": "2022-08-18T18:51:21.054580Z",
     "shell.execute_reply": "2022-08-18T18:51:21.053530Z"
    },
    "papermill": {
     "duration": 18.351427,
     "end_time": "2022-08-18T18:51:21.057393",
     "exception": false,
     "start_time": "2022-08-18T18:51:02.705966",
     "status": "completed"
    },
    "tags": []
   },
   "outputs": [
    {
     "name": "stdout",
     "output_type": "stream",
     "text": [
      "[LightGBM] [Warning] Found whitespace in feature_names, replace with underlines\n",
      "[LightGBM] [Warning] Auto-choosing col-wise multi-threading, the overhead of testing was 0.001959 seconds.\n",
      "You can set `force_col_wise=true` to remove the overhead.\n",
      "[LightGBM] [Info] Total Bins 3422\n",
      "[LightGBM] [Info] Number of data points in the train set: 1447, number of used features: 190\n",
      "[LightGBM] [Info] Start training from score 12.020667\n"
     ]
    }
   ],
   "source": [
    "decision_tree_model_full_data = decision_tree_model.fit(train , target)\n",
    "random_forest_model_full_data = random_forest_model.fit(train , target)\n",
    "gbr_full_data = gbr.fit(train , target)\n",
    "xgboost_full_data = xgboost.fit(train , target)\n",
    "ridge_full_data = ridge.fit(train , target)\n",
    "svr_full_data = svr.fit(train , target)\n",
    "lightgbm_full_data = lightgbm.fit(train , target)"
   ]
  },
  {
   "cell_type": "code",
   "execution_count": 129,
   "id": "e99597c1",
   "metadata": {
    "execution": {
     "iopub.execute_input": "2022-08-18T18:51:21.167836Z",
     "iopub.status.busy": "2022-08-18T18:51:21.167350Z",
     "iopub.status.idle": "2022-08-18T18:51:21.174618Z",
     "shell.execute_reply": "2022-08-18T18:51:21.173107Z"
    },
    "papermill": {
     "duration": 0.064472,
     "end_time": "2022-08-18T18:51:21.176992",
     "exception": false,
     "start_time": "2022-08-18T18:51:21.112520",
     "status": "completed"
    },
    "tags": []
   },
   "outputs": [],
   "source": [
    "# Blend models in order to make the final predictions more robust to overfitting\n",
    "def blended_predictions(X):\n",
    "    return ((0.1 * random_forest_model_full_data.predict(X)) + \\\n",
    "            (0.2 * gbr_full_data.predict(X)) + \\\n",
    "            (0.1 * xgboost_full_data.predict(X)) + \\\n",
    "            (0.2 * ridge_full_data.predict(X)) + \\\n",
    "            (0.1 * lightgbm_full_data.predict(X)) + \\\n",
    "            (0.3 * svr_full_data.predict(X)))"
   ]
  },
  {
   "cell_type": "code",
   "execution_count": 130,
   "id": "4624d3c9",
   "metadata": {
    "execution": {
     "iopub.execute_input": "2022-08-18T18:51:21.287681Z",
     "iopub.status.busy": "2022-08-18T18:51:21.287176Z",
     "iopub.status.idle": "2022-08-18T18:51:21.292267Z",
     "shell.execute_reply": "2022-08-18T18:51:21.291281Z"
    },
    "papermill": {
     "duration": 0.063994,
     "end_time": "2022-08-18T18:51:21.294451",
     "exception": false,
     "start_time": "2022-08-18T18:51:21.230457",
     "status": "completed"
    },
    "tags": []
   },
   "outputs": [],
   "source": [
    "from sklearn.metrics import mean_squared_error\n"
   ]
  },
  {
   "cell_type": "code",
   "execution_count": 131,
   "id": "a1762b18",
   "metadata": {
    "execution": {
     "iopub.execute_input": "2022-08-18T18:51:21.403376Z",
     "iopub.status.busy": "2022-08-18T18:51:21.402463Z",
     "iopub.status.idle": "2022-08-18T18:51:22.226113Z",
     "shell.execute_reply": "2022-08-18T18:51:22.224870Z"
    },
    "papermill": {
     "duration": 0.881652,
     "end_time": "2022-08-18T18:51:22.229243",
     "exception": false,
     "start_time": "2022-08-18T18:51:21.347591",
     "status": "completed"
    },
    "tags": []
   },
   "outputs": [
    {
     "name": "stdout",
     "output_type": "stream",
     "text": [
      "RMSLE score on train data:\n",
      "0.07136894941793442\n"
     ]
    }
   ],
   "source": [
    "# Get final precitions from the blended model\n",
    "blended_score = rmsle(target, blended_predictions(train))\n",
    "scores['blended'] = (blended_score, 0)\n",
    "print('RMSLE score on train data:')\n",
    "print(blended_score)"
   ]
  },
  {
   "cell_type": "code",
   "execution_count": 132,
   "id": "33ee8165",
   "metadata": {
    "execution": {
     "iopub.execute_input": "2022-08-18T18:51:22.344158Z",
     "iopub.status.busy": "2022-08-18T18:51:22.343588Z",
     "iopub.status.idle": "2022-08-18T18:51:22.715575Z",
     "shell.execute_reply": "2022-08-18T18:51:22.714300Z"
    },
    "papermill": {
     "duration": 0.431907,
     "end_time": "2022-08-18T18:51:22.718882",
     "exception": false,
     "start_time": "2022-08-18T18:51:22.286975",
     "status": "completed"
    },
    "tags": []
   },
   "outputs": [
    {
     "data": {
      "image/png": "[encoded data removed]",
      "text/plain": [
       "<Figure size 1152x576 with 1 Axes>"
      ]
     },
     "metadata": {},
     "output_type": "display_data"
    }
   ],
   "source": [
    "# Plot the predictions for each model\n",
    "sns.set_style(\"white\")\n",
    "fig = plt.figure(figsize=(16, 8))\n",
    "\n",
    "ax = sns.pointplot(x=list(scores.keys()), y=[score for score, _ in scores.values()], markers=['*'], linestyles=['--'])\n",
    "for i, score in enumerate(scores.values()):\n",
    "    ax.text(i, score[0] + 0.002, '{:.6f}'.format(score[0]), horizontalalignment='left', size='large', color='black', weight='semibold')\n",
    "\n",
    "plt.ylabel('Score (RMSE)', size=20, labelpad=12.5)\n",
    "plt.xlabel('Model', size=20, labelpad=12.5)\n",
    "plt.tick_params(axis='x', labelsize=13.5)\n",
    "plt.tick_params(axis='y', labelsize=12.5)\n",
    "\n",
    "plt.title('Scores of Models', size=20)\n",
    "\n",
    "plt.show()"
   ]
  },
  {
   "cell_type": "code",
   "execution_count": 133,
   "id": "fe19a05b",
   "metadata": {
    "execution": {
     "iopub.execute_input": "2022-08-18T18:51:22.834513Z",
     "iopub.status.busy": "2022-08-18T18:51:22.833578Z",
     "iopub.status.idle": "2022-08-18T18:51:22.856272Z",
     "shell.execute_reply": "2022-08-18T18:51:22.854996Z"
    },
    "papermill": {
     "duration": 0.084501,
     "end_time": "2022-08-18T18:51:22.858933",
     "exception": false,
     "start_time": "2022-08-18T18:51:22.774432",
     "status": "completed"
    },
    "tags": []
   },
   "outputs": [
    {
     "data": {
      "text/plain": [
       "(1459, 2)"
      ]
     },
     "execution_count": 133,
     "metadata": {},
     "output_type": "execute_result"
    }
   ],
   "source": [
    "# Read in sample_submission dataframe\n",
    "submission = pd.read_csv(\"../input/house-prices-advanced-regression-techniques/sample_submission.csv\")\n",
    "submission.shape"
   ]
  },
  {
   "cell_type": "code",
   "execution_count": 134,
   "id": "7e5e6051",
   "metadata": {
    "execution": {
     "iopub.execute_input": "2022-08-18T18:51:22.971732Z",
     "iopub.status.busy": "2022-08-18T18:51:22.970751Z",
     "iopub.status.idle": "2022-08-18T18:51:23.852953Z",
     "shell.execute_reply": "2022-08-18T18:51:23.851648Z"
    },
    "papermill": {
     "duration": 0.941705,
     "end_time": "2022-08-18T18:51:23.856126",
     "exception": false,
     "start_time": "2022-08-18T18:51:22.914421",
     "status": "completed"
    },
    "tags": []
   },
   "outputs": [],
   "source": [
    " #Append predictions from blended models\n",
    "submission.iloc[:,1] = np.floor(np.expm1(blended_predictions(test_data)))"
   ]
  },
  {
   "cell_type": "code",
   "execution_count": 135,
   "id": "e85f79f1",
   "metadata": {
    "execution": {
     "iopub.execute_input": "2022-08-18T18:51:23.966133Z",
     "iopub.status.busy": "2022-08-18T18:51:23.965233Z",
     "iopub.status.idle": "2022-08-18T18:51:23.982848Z",
     "shell.execute_reply": "2022-08-18T18:51:23.981809Z"
    },
    "papermill": {
     "duration": 0.075849,
     "end_time": "2022-08-18T18:51:23.985685",
     "exception": false,
     "start_time": "2022-08-18T18:51:23.909836",
     "status": "completed"
    },
    "tags": []
   },
   "outputs": [],
   "source": [
    "# Fix outleir predictions\n",
    "q1 = submission['SalePrice'].quantile(0.0045)\n",
    "q2 = submission['SalePrice'].quantile(0.99)\n",
    "submission['SalePrice'] = submission['SalePrice'].apply(lambda x: x if x > q1 else x*0.77)\n",
    "submission['SalePrice'] = submission['SalePrice'].apply(lambda x: x if x < q2 else x*1.1)\n",
    "submission.to_csv(\"submission_regression1.csv\", index=False)"
   ]
  },
  {
   "cell_type": "code",
   "execution_count": 136,
   "id": "f78cf697",
   "metadata": {
    "execution": {
     "iopub.execute_input": "2022-08-18T18:51:24.098122Z",
     "iopub.status.busy": "2022-08-18T18:51:24.096953Z",
     "iopub.status.idle": "2022-08-18T18:51:24.108282Z",
     "shell.execute_reply": "2022-08-18T18:51:24.107329Z"
    },
    "papermill": {
     "duration": 0.070975,
     "end_time": "2022-08-18T18:51:24.110847",
     "exception": false,
     "start_time": "2022-08-18T18:51:24.039872",
     "status": "completed"
    },
    "tags": []
   },
   "outputs": [],
   "source": [
    "# Scale predictions\n",
    "submission['SalePrice'] *= 1.001619\n",
    "submission.to_csv(\"submission_regression2.csv\", index=False)"
   ]
  },
  {
   "cell_type": "code",
   "execution_count": null,
   "id": "d044258a",
   "metadata": {
    "papermill": {
     "duration": 0.054957,
     "end_time": "2022-08-18T18:51:24.220978",
     "exception": false,
     "start_time": "2022-08-18T18:51:24.166021",
     "status": "completed"
    },
    "tags": []
   },
   "outputs": [],
   "source": []
  }
 ],
 "metadata": {
  "kernelspec": {
   "display_name": "Python 3",
   "language": "python",
   "name": "python3"
  },
  "language_info": {
   "codemirror_mode": {
    "name": "ipython",
    "version": 3
   },
   "file_extension": ".py",
   "mimetype": "text/x-python",
   "name": "python",
   "nbconvert_exporter": "python",
   "pygments_lexer": "ipython3",
   "version": "3.8.8"
  },
  "papermill": {
   "default_parameters": {},
   "duration": 299.122932,
   "end_time": "2022-08-18T18:51:25.602656",
   "environment_variables": {},
   "exception": null,
   "input_path": "__notebook__.ipynb",
   "output_path": "__notebook__.ipynb",
   "parameters": {},
   "start_time": "2022-08-18T18:46:26.479724",
   "version": "2.3.4"
  }
 },
 "nbformat": 4,
 "nbformat_minor": 5
}
